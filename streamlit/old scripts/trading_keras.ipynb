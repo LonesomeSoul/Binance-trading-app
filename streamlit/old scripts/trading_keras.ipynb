{
 "cells": [
  {
   "cell_type": "code",
   "execution_count": 1,
   "id": "396b3a55",
   "metadata": {},
   "outputs": [],
   "source": [
    "from binance.spot import Spot \n",
    "from sys import stderr\n",
    "import sys, os,datetime,requests,json,pandas as pd,numpy as np,matplotlib.pyplot as plt\n",
    "import time,math, gc\n",
    "\n",
    "from sklearn.linear_model import LogisticRegression\n",
    "from sklearn.svm import SVC, LinearSVC\n",
    "from sklearn.ensemble import RandomForestRegressor\n",
    "from sklearn.neighbors import KNeighborsClassifier\n",
    "from sklearn.naive_bayes import GaussianNB\n",
    "from sklearn.linear_model import Perceptron\n",
    "from sklearn.linear_model import SGDClassifier\n",
    "from sklearn.tree import DecisionTreeClassifier\n",
    "import sklearn\n",
    "from sklearn.model_selection import train_test_split\n",
    "min_max_scaler = sklearn.preprocessing.MinMaxScaler()\n",
    "\n",
    "\n",
    "\n",
    "import torch\n",
    "import torch.nn as nn\n",
    "import torch.nn.functional as F\n",
    "import torchvision"
   ]
  },
  {
   "cell_type": "code",
   "execution_count": 22,
   "id": "388531fe",
   "metadata": {},
   "outputs": [],
   "source": [
    "import tensorflow as tf\n",
    "from tensorflow import keras\n",
    "from tensorflow.keras import layers\n",
    "from tensorflow.keras import optimizers"
   ]
  },
  {
   "cell_type": "code",
   "execution_count": 3,
   "id": "611ca570",
   "metadata": {},
   "outputs": [],
   "source": [
    "device = torch.device(\"cuda:0\" if torch.cuda.is_available() else \"cpu\")\n",
    "\n",
    "def import_api(time_last,symbol=\"BTCUSDT\",limit=12*60):\n",
    "    params={\"symbol\":symbol,\"limit\":limit,\"interval\":\"1m\",\"endTime\":time_last,\"startTime\":(time_last-12*3600*1000)}\n",
    "    r=requests.get(url=\"https://api.binance.com/api/v3/klines\", params=params)\n",
    "    df=pd.DataFrame(r.json())\n",
    "    return df\n",
    "\n",
    "def transform_df (df):\n",
    "    column_names=['Open_time','Open','High','Low','Close','Volume','Close_time','Quote_asset_volume',\n",
    "               'Number_of_trades','Taker_buy_base_asset_volume','Taker_buy_quote_asset_volume','Ignore']\n",
    "    df=df.reset_index(drop=True)\n",
    "    df.set_axis(column_names,axis=1,inplace=True)\n",
    "    for col in df.columns:\n",
    "        df[col] = df[col].astype(float)\n",
    "    weekday=[]\n",
    "    month=[]\n",
    "    for i in range(df['Open'].size):\n",
    "        dt_open=datetime.datetime.fromtimestamp(df['Open_time'][i]//1000)\n",
    "        dt_close=datetime.datetime.fromtimestamp(df['Close_time'][i]//1000)\n",
    "        df['Open_time'][i]=dt_open.hour*3600+dt_open.minute*60+dt_open.second\n",
    "        df['Close_time'][i]=dt_close.hour*3600+dt_close.minute*60+dt_close.second\n",
    "        weekday.append(dt_open.weekday())\n",
    "        month.append(dt_open.month)\n",
    "        #df['Open_time'][i]=dt_open.strftime(\"%I:%M:%S\")\n",
    "        #df['Close_time'][i]=dt_close.strftime(\"%I:%M:%S\")\n",
    "    df['weekday']=weekday\n",
    "    df['month']=month\n",
    "    df=df.drop(df.columns[[7,10,11,13]],axis=1)\n",
    "    del(month)\n",
    "    del(weekday)\n",
    "    return df\n",
    "\n",
    "\n",
    "def moving_average(data,range_,concat=60):\n",
    "    leftover=len(data)%concat\n",
    "    data=data[::concat].reset_index(drop=True)\n",
    "    mean=[]\n",
    "    arr=[]\n",
    "    for i in range(range_):\n",
    "        this_mean=0\n",
    "        for j in range(i+1):\n",
    "            this_mean+=data[j]\n",
    "        mean.append(this_mean/(j+1))\n",
    "    if leftover:\n",
    "        data_size=len(data)-1\n",
    "    else:\n",
    "        data_size=len(data)\n",
    "    for i in range(range_,data_size):\n",
    "        this_mean=data[i]\n",
    "        for j in range(1,range_):\n",
    "            this_mean+=data[i-j]\n",
    "        mean.append(this_mean/(range_))\n",
    "    arr=leftover*[mean[0]]\n",
    "    for i in range(len(mean)):\n",
    "        arr+=concat*[mean[i]]\n",
    "    \n",
    "    \n",
    "    return arr\n",
    "\n",
    "def generate_previous(df,count,col_name):\n",
    "    #idxes=\n",
    "    df=df.reset_index(drop=True)\n",
    "    values=list(df[col_name][0:count])\n",
    "    columns={}\n",
    "    for i in range(count):\n",
    "        this_name=\"prev_\"+col_name+\"_\"+str(i+1)\n",
    "        columns[this_name]=[]\n",
    "    for i in range(count,df[col_name].size):\n",
    "        for j in range(count):\n",
    "            this_name=\"prev_\"+col_name+\"_\"+str(j+1)\n",
    "            columns[this_name].append(values[-(j+1)])\n",
    "        values.pop(0)\n",
    "        values.append(df[col_name][i])\n",
    "    size=df[col_name].size\n",
    "    df=df[count:size]\n",
    "    for i in range(count):\n",
    "        this_name=\"prev_\"+col_name+\"_\"+str(i+1)\n",
    "        df[this_name]=columns[this_name]\n",
    "    \n",
    "    return df.reset_index(drop=True)\n",
    "\n",
    "def df_to_X_y(df, window_size=5):\n",
    "    df_as_np = df.to_numpy()\n",
    "    X = []\n",
    "    y = []\n",
    "    for i in range(len(df_as_np)-window_size):\n",
    "        row = [a for a in (df.iloc[i:i+window_size].drop(\"target\",axis=1).values)]\n",
    "        X.append(row)\n",
    "        label = df[\"target\"][i+window_size-1]\n",
    "        y.append(label)\n",
    "    return np.array(X), np.array(y)\n"
   ]
  },
  {
   "cell_type": "code",
   "execution_count": 4,
   "id": "75cbd4c7",
   "metadata": {},
   "outputs": [],
   "source": [
    "df=pd.read_csv(r'G:\\eth_usdt_5min.csv')[20000:700000].reset_index(drop=True)\n",
    "target=[]\n",
    "window=3\n",
    "for i in range(df[\"Open\"].size-window):\n",
    "    target.append(df[\"Open\"][i+window-1])\n",
    "df=df[0:df[\"Open\"].size-window]\n",
    "df[\"target\"]=target\n",
    "df=df.drop([\"Close_time\",\"Taker_buy_base_asset_volume\",\"Volume\",\"Close\",\"Low\",\"High\",\"Number_of_trades\"],axis=1)\n",
    "for i in range(1,4):\n",
    "    df[\"mean_\"+str(i*8)+\"_hours\"]=moving_average(df[\"Open\"],i*3,4)\n",
    "for i in range(1,3):\n",
    "    df[\"mean_\"+str(i*8)+\"_days\"]=moving_average(df[\"Open\"],i*6*3,16)"
   ]
  },
  {
   "cell_type": "code",
   "execution_count": 5,
   "id": "1898fe6c",
   "metadata": {},
   "outputs": [
    {
     "name": "stderr",
     "output_type": "stream",
     "text": [
      "C:\\Users\\DANIEL~1\\AppData\\Local\\Temp/ipykernel_14284/3722181041.py:5: SettingWithCopyWarning: \n",
      "A value is trying to be set on a copy of a slice from a DataFrame\n",
      "\n",
      "See the caveats in the documentation: https://pandas.pydata.org/pandas-docs/stable/user_guide/indexing.html#returning-a-view-versus-a-copy\n",
      "  df[col][i]=df[col][i]/df[\"Open\"][i]\n",
      "C:\\Users\\DANIEL~1\\AppData\\Local\\Temp/ipykernel_14284/3722181041.py:7: SettingWithCopyWarning: \n",
      "A value is trying to be set on a copy of a slice from a DataFrame\n",
      "\n",
      "See the caveats in the documentation: https://pandas.pydata.org/pandas-docs/stable/user_guide/indexing.html#returning-a-view-versus-a-copy\n",
      "  df[\"Open_time\"][i]/=86400\n"
     ]
    }
   ],
   "source": [
    "drop_col=[\"Open\",'Open_time','weekday']\n",
    "open_delta=[]\n",
    "for col in df.drop(drop_col,axis=1).columns:\n",
    "    for i in range(df[\"Open\"].size):\n",
    "        df[col][i]=df[col][i]/df[\"Open\"][i]\n",
    "for i in range(1,df[\"Open\"].size):\n",
    "    df[\"Open_time\"][i]/=86400\n",
    "    #df[\"weekday\"][i]/=6\n",
    "    delta=df[\"Open\"][i]-df[\"Open\"][i-1]\n",
    "    open_delta.append(delta/df[\"Open\"][i])\n",
    "df=df.drop(0,axis=0)"
   ]
  },
  {
   "cell_type": "code",
   "execution_count": 6,
   "id": "74d00681",
   "metadata": {},
   "outputs": [
    {
     "data": {
      "text/html": [
       "<div>\n",
       "<style scoped>\n",
       "    .dataframe tbody tr th:only-of-type {\n",
       "        vertical-align: middle;\n",
       "    }\n",
       "\n",
       "    .dataframe tbody tr th {\n",
       "        vertical-align: top;\n",
       "    }\n",
       "\n",
       "    .dataframe thead th {\n",
       "        text-align: right;\n",
       "    }\n",
       "</style>\n",
       "<table border=\"1\" class=\"dataframe\">\n",
       "  <thead>\n",
       "    <tr style=\"text-align: right;\">\n",
       "      <th></th>\n",
       "      <th>Open_time</th>\n",
       "      <th>Open</th>\n",
       "      <th>weekday</th>\n",
       "      <th>target</th>\n",
       "      <th>mean_8_hours</th>\n",
       "      <th>mean_16_hours</th>\n",
       "      <th>mean_24_hours</th>\n",
       "      <th>mean_8_days</th>\n",
       "      <th>mean_16_days</th>\n",
       "    </tr>\n",
       "  </thead>\n",
       "  <tbody>\n",
       "    <tr>\n",
       "      <th>1</th>\n",
       "      <td>0.927083</td>\n",
       "      <td>1948.28</td>\n",
       "      <td>2</td>\n",
       "      <td>1.005225</td>\n",
       "      <td>1.006883</td>\n",
       "      <td>1.006883</td>\n",
       "      <td>1.006883</td>\n",
       "      <td>1.006883</td>\n",
       "      <td>1.006883</td>\n",
       "    </tr>\n",
       "    <tr>\n",
       "      <th>2</th>\n",
       "      <td>0.930556</td>\n",
       "      <td>1966.87</td>\n",
       "      <td>2</td>\n",
       "      <td>0.989440</td>\n",
       "      <td>0.997366</td>\n",
       "      <td>0.997366</td>\n",
       "      <td>0.997366</td>\n",
       "      <td>0.997366</td>\n",
       "      <td>0.997366</td>\n",
       "    </tr>\n",
       "    <tr>\n",
       "      <th>3</th>\n",
       "      <td>0.934028</td>\n",
       "      <td>1958.46</td>\n",
       "      <td>2</td>\n",
       "      <td>0.994812</td>\n",
       "      <td>1.001649</td>\n",
       "      <td>1.001649</td>\n",
       "      <td>1.001649</td>\n",
       "      <td>1.001649</td>\n",
       "      <td>1.001649</td>\n",
       "    </tr>\n",
       "    <tr>\n",
       "      <th>4</th>\n",
       "      <td>0.937500</td>\n",
       "      <td>1946.10</td>\n",
       "      <td>2</td>\n",
       "      <td>1.002605</td>\n",
       "      <td>1.008011</td>\n",
       "      <td>1.008011</td>\n",
       "      <td>1.008011</td>\n",
       "      <td>1.008011</td>\n",
       "      <td>1.008011</td>\n",
       "    </tr>\n",
       "    <tr>\n",
       "      <th>5</th>\n",
       "      <td>0.940972</td>\n",
       "      <td>1948.30</td>\n",
       "      <td>2</td>\n",
       "      <td>1.002294</td>\n",
       "      <td>1.006873</td>\n",
       "      <td>1.006873</td>\n",
       "      <td>1.006873</td>\n",
       "      <td>1.006873</td>\n",
       "      <td>1.006873</td>\n",
       "    </tr>\n",
       "    <tr>\n",
       "      <th>...</th>\n",
       "      <td>...</td>\n",
       "      <td>...</td>\n",
       "      <td>...</td>\n",
       "      <td>...</td>\n",
       "      <td>...</td>\n",
       "      <td>...</td>\n",
       "      <td>...</td>\n",
       "      <td>...</td>\n",
       "      <td>...</td>\n",
       "    </tr>\n",
       "    <tr>\n",
       "      <th>85034</th>\n",
       "      <td>0.451389</td>\n",
       "      <td>2059.36</td>\n",
       "      <td>4</td>\n",
       "      <td>0.994566</td>\n",
       "      <td>1.017334</td>\n",
       "      <td>1.021593</td>\n",
       "      <td>1.019999</td>\n",
       "      <td>0.954184</td>\n",
       "      <td>1.008234</td>\n",
       "    </tr>\n",
       "    <tr>\n",
       "      <th>85035</th>\n",
       "      <td>0.454861</td>\n",
       "      <td>2057.97</td>\n",
       "      <td>4</td>\n",
       "      <td>1.001725</td>\n",
       "      <td>1.014561</td>\n",
       "      <td>1.019675</td>\n",
       "      <td>1.021442</td>\n",
       "      <td>0.954828</td>\n",
       "      <td>1.008915</td>\n",
       "    </tr>\n",
       "    <tr>\n",
       "      <th>85036</th>\n",
       "      <td>0.458333</td>\n",
       "      <td>2048.17</td>\n",
       "      <td>4</td>\n",
       "      <td>1.005258</td>\n",
       "      <td>1.019416</td>\n",
       "      <td>1.024554</td>\n",
       "      <td>1.026329</td>\n",
       "      <td>0.959397</td>\n",
       "      <td>1.013742</td>\n",
       "    </tr>\n",
       "    <tr>\n",
       "      <th>85037</th>\n",
       "      <td>0.461806</td>\n",
       "      <td>2061.52</td>\n",
       "      <td>4</td>\n",
       "      <td>1.001014</td>\n",
       "      <td>1.012814</td>\n",
       "      <td>1.017919</td>\n",
       "      <td>1.019683</td>\n",
       "      <td>0.953184</td>\n",
       "      <td>1.007177</td>\n",
       "    </tr>\n",
       "    <tr>\n",
       "      <th>85038</th>\n",
       "      <td>0.465278</td>\n",
       "      <td>2058.94</td>\n",
       "      <td>4</td>\n",
       "      <td>1.002900</td>\n",
       "      <td>1.014083</td>\n",
       "      <td>1.019194</td>\n",
       "      <td>1.020961</td>\n",
       "      <td>0.954379</td>\n",
       "      <td>1.008439</td>\n",
       "    </tr>\n",
       "  </tbody>\n",
       "</table>\n",
       "<p>85038 rows × 9 columns</p>\n",
       "</div>"
      ],
      "text/plain": [
       "       Open_time     Open  weekday    target  mean_8_hours  mean_16_hours  \\\n",
       "1       0.927083  1948.28        2  1.005225      1.006883       1.006883   \n",
       "2       0.930556  1966.87        2  0.989440      0.997366       0.997366   \n",
       "3       0.934028  1958.46        2  0.994812      1.001649       1.001649   \n",
       "4       0.937500  1946.10        2  1.002605      1.008011       1.008011   \n",
       "5       0.940972  1948.30        2  1.002294      1.006873       1.006873   \n",
       "...          ...      ...      ...       ...           ...            ...   \n",
       "85034   0.451389  2059.36        4  0.994566      1.017334       1.021593   \n",
       "85035   0.454861  2057.97        4  1.001725      1.014561       1.019675   \n",
       "85036   0.458333  2048.17        4  1.005258      1.019416       1.024554   \n",
       "85037   0.461806  2061.52        4  1.001014      1.012814       1.017919   \n",
       "85038   0.465278  2058.94        4  1.002900      1.014083       1.019194   \n",
       "\n",
       "       mean_24_hours  mean_8_days  mean_16_days  \n",
       "1           1.006883     1.006883      1.006883  \n",
       "2           0.997366     0.997366      0.997366  \n",
       "3           1.001649     1.001649      1.001649  \n",
       "4           1.008011     1.008011      1.008011  \n",
       "5           1.006873     1.006873      1.006873  \n",
       "...              ...          ...           ...  \n",
       "85034       1.019999     0.954184      1.008234  \n",
       "85035       1.021442     0.954828      1.008915  \n",
       "85036       1.026329     0.959397      1.013742  \n",
       "85037       1.019683     0.953184      1.007177  \n",
       "85038       1.020961     0.954379      1.008439  \n",
       "\n",
       "[85038 rows x 9 columns]"
      ]
     },
     "execution_count": 6,
     "metadata": {},
     "output_type": "execute_result"
    }
   ],
   "source": [
    "df"
   ]
  },
  {
   "cell_type": "code",
   "execution_count": 7,
   "id": "584f4a1b",
   "metadata": {},
   "outputs": [
    {
     "data": {
      "text/plain": [
       "{0, 1, 2, 3, 4, 5, 6}"
      ]
     },
     "execution_count": 7,
     "metadata": {},
     "output_type": "execute_result"
    }
   ],
   "source": [
    "set(df[\"weekday\"])"
   ]
  },
  {
   "cell_type": "code",
   "execution_count": 9,
   "id": "094f9622",
   "metadata": {},
   "outputs": [],
   "source": [
    "#for i in cols:\n",
    "#    print(i)"
   ]
  },
  {
   "cell_type": "code",
   "execution_count": 10,
   "id": "fdb6d230",
   "metadata": {},
   "outputs": [
    {
     "name": "stderr",
     "output_type": "stream",
     "text": [
      "C:\\Users\\DANIEL~1\\AppData\\Local\\Temp/ipykernel_14284/3824140722.py:5: SettingWithCopyWarning: \n",
      "A value is trying to be set on a copy of a slice from a DataFrame\n",
      "\n",
      "See the caveats in the documentation: https://pandas.pydata.org/pandas-docs/stable/user_guide/indexing.html#returning-a-view-versus-a-copy\n",
      "  df[i][j]=(df[i][j]-(1-scaling_range))/(scaling_range*2)\n"
     ]
    }
   ],
   "source": [
    "cols=df.columns[3:]\n",
    "scaling_range=0.2\n",
    "for i in cols:\n",
    "    for j in range(1,df[\"Open\"].size):\n",
    "        df[i][j]=(df[i][j]-(1-scaling_range))/(scaling_range*2)"
   ]
  },
  {
   "cell_type": "code",
   "execution_count": 11,
   "id": "b2c83a9f",
   "metadata": {},
   "outputs": [],
   "source": [
    "window_size=30\n",
    "X,y=df_to_X_y(df,window_size)\n",
    "del(df)\n"
   ]
  },
  {
   "cell_type": "code",
   "execution_count": 12,
   "id": "ae1dce51",
   "metadata": {},
   "outputs": [],
   "source": [
    "opens=X[:,:,1][:,window_size-1]\n",
    "X=np.concatenate([X[:,:,2:],X[:,:,[0]]],axis=2)\n",
    "splitting=0.1\n",
    "all_size=opens.shape[0]\n",
    "opens_train=opens[:int(all_size*(1-splitting))]\n",
    "opens_test=opens[int(all_size*(1-splitting)):]"
   ]
  },
  {
   "cell_type": "code",
   "execution_count": 13,
   "id": "19684a7b",
   "metadata": {},
   "outputs": [
    {
     "data": {
      "text/plain": [
       "(8501,)"
      ]
     },
     "execution_count": 13,
     "metadata": {},
     "output_type": "execute_result"
    }
   ],
   "source": [
    "opens_test.shape"
   ]
  },
  {
   "cell_type": "code",
   "execution_count": 31,
   "id": "a1a9a9e9",
   "metadata": {},
   "outputs": [],
   "source": [
    "with tf.device('/device:GPU:0'):\n",
    "    X_train, X_test, y_train, y_test = train_test_split(X,y,\n",
    "                                                        test_size = 0.10,\n",
    "                                                        random_state =123,\n",
    "                                                        shuffle=False)"
   ]
  },
  {
   "cell_type": "code",
   "execution_count": 15,
   "id": "07ac82cb",
   "metadata": {},
   "outputs": [
    {
     "data": {
      "text/plain": [
       "(8501,)"
      ]
     },
     "execution_count": 15,
     "metadata": {},
     "output_type": "execute_result"
    }
   ],
   "source": [
    "\n",
    "X_test[:,:,1][:,window_size-1].shape"
   ]
  },
  {
   "cell_type": "code",
   "execution_count": null,
   "id": "88a8250f",
   "metadata": {},
   "outputs": [],
   "source": []
  },
  {
   "cell_type": "code",
   "execution_count": 36,
   "id": "0b888293",
   "metadata": {},
   "outputs": [],
   "source": [
    "with tf.device('/device:GPU:0'):\n",
    "    opt = keras.optimizers.SGD(learning_rate=0.004,momentum=0.9)\n",
    "    model = keras.Sequential()\n",
    "\n",
    "    model.add(\n",
    "\n",
    "\n",
    "    keras.layers.LSTM(\n",
    "\n",
    "      units=128,\n",
    "\n",
    "      input_shape=(X_train.shape[1], X_train.shape[2])\n",
    "\n",
    "    )\n",
    "\n",
    "  )\n",
    "\n",
    "    model.add(keras.layers.Dense(units=64,activation='sigmoid'))\n",
    "\n",
    "    model.add(keras.layers.Dropout(rate=0.7))\n",
    "\n",
    "    model.add(keras.layers.Dense(units=64,activation='sigmoid'))\n",
    "\n",
    "    model.add(keras.layers.Dense(units=1,use_bias=False))\n",
    "\n",
    "    model.compile(loss='mean_absolute_error', optimizer=opt)"
   ]
  },
  {
   "cell_type": "code",
   "execution_count": null,
   "id": "917f84b8",
   "metadata": {},
   "outputs": [],
   "source": []
  },
  {
   "cell_type": "code",
   "execution_count": 40,
   "id": "db50a7c3",
   "metadata": {},
   "outputs": [
    {
     "name": "stdout",
     "output_type": "stream",
     "text": [
      "Epoch 1/50\n",
      "3443/3443 [==============================] - 29s 8ms/step - loss: 0.0179 - val_loss: 0.0064\n",
      "Epoch 2/50\n",
      "3443/3443 [==============================] - 29s 9ms/step - loss: 0.0155 - val_loss: 0.0053\n",
      "Epoch 3/50\n",
      "3443/3443 [==============================] - 30s 9ms/step - loss: 0.0141 - val_loss: 0.0102\n",
      "Epoch 4/50\n",
      "3443/3443 [==============================] - 30s 9ms/step - loss: 0.0135 - val_loss: 0.0078\n",
      "Epoch 5/50\n",
      "3443/3443 [==============================] - 30s 9ms/step - loss: 0.0124 - val_loss: 0.0048\n",
      "Epoch 6/50\n",
      "3443/3443 [==============================] - 30s 9ms/step - loss: 0.0114 - val_loss: 0.0164\n",
      "Epoch 7/50\n",
      "3443/3443 [==============================] - 31s 9ms/step - loss: 0.0111 - val_loss: 0.0046\n",
      "Epoch 8/50\n",
      "3443/3443 [==============================] - 31s 9ms/step - loss: 0.0109 - val_loss: 0.0068\n",
      "Epoch 9/50\n",
      "3443/3443 [==============================] - 30s 9ms/step - loss: 0.0105 - val_loss: 0.0050\n",
      "Epoch 10/50\n",
      "3443/3443 [==============================] - 30s 9ms/step - loss: 0.0101 - val_loss: 0.0123\n",
      "Epoch 11/50\n",
      "3443/3443 [==============================] - 30s 9ms/step - loss: 0.0097 - val_loss: 0.0046\n",
      "Epoch 12/50\n",
      "3443/3443 [==============================] - 30s 9ms/step - loss: 0.0097 - val_loss: 0.0122\n",
      "Epoch 13/50\n",
      "1822/3443 [==============>...............] - ETA: 14s - loss: 0.0090"
     ]
    },
    {
     "ename": "KeyboardInterrupt",
     "evalue": "",
     "output_type": "error",
     "traceback": [
      "\u001b[1;31m---------------------------------------------------------------------------\u001b[0m",
      "\u001b[1;31mKeyboardInterrupt\u001b[0m                         Traceback (most recent call last)",
      "\u001b[1;32mC:\\Users\\DANIEL~1\\AppData\\Local\\Temp/ipykernel_14284/2683023414.py\u001b[0m in \u001b[0;36m<module>\u001b[1;34m\u001b[0m\n\u001b[0;32m      1\u001b[0m \u001b[1;32mwith\u001b[0m \u001b[0mtf\u001b[0m\u001b[1;33m.\u001b[0m\u001b[0mdevice\u001b[0m\u001b[1;33m(\u001b[0m\u001b[1;34m'/device:GPU:0'\u001b[0m\u001b[1;33m)\u001b[0m\u001b[1;33m:\u001b[0m\u001b[1;33m\u001b[0m\u001b[1;33m\u001b[0m\u001b[0m\n\u001b[1;32m----> 2\u001b[1;33m     history = model.fit(\n\u001b[0m\u001b[0;32m      3\u001b[0m \u001b[1;33m\u001b[0m\u001b[0m\n\u001b[0;32m      4\u001b[0m     \u001b[0mX_train\u001b[0m\u001b[1;33m,\u001b[0m \u001b[0my_train\u001b[0m\u001b[1;33m,\u001b[0m\u001b[1;33m\u001b[0m\u001b[1;33m\u001b[0m\u001b[0m\n\u001b[0;32m      5\u001b[0m \u001b[1;33m\u001b[0m\u001b[0m\n",
      "\u001b[1;32mG:\\anaconda3\\lib\\site-packages\\keras\\utils\\traceback_utils.py\u001b[0m in \u001b[0;36merror_handler\u001b[1;34m(*args, **kwargs)\u001b[0m\n\u001b[0;32m     62\u001b[0m     \u001b[0mfiltered_tb\u001b[0m \u001b[1;33m=\u001b[0m \u001b[1;32mNone\u001b[0m\u001b[1;33m\u001b[0m\u001b[1;33m\u001b[0m\u001b[0m\n\u001b[0;32m     63\u001b[0m     \u001b[1;32mtry\u001b[0m\u001b[1;33m:\u001b[0m\u001b[1;33m\u001b[0m\u001b[1;33m\u001b[0m\u001b[0m\n\u001b[1;32m---> 64\u001b[1;33m       \u001b[1;32mreturn\u001b[0m \u001b[0mfn\u001b[0m\u001b[1;33m(\u001b[0m\u001b[1;33m*\u001b[0m\u001b[0margs\u001b[0m\u001b[1;33m,\u001b[0m \u001b[1;33m**\u001b[0m\u001b[0mkwargs\u001b[0m\u001b[1;33m)\u001b[0m\u001b[1;33m\u001b[0m\u001b[1;33m\u001b[0m\u001b[0m\n\u001b[0m\u001b[0;32m     65\u001b[0m     \u001b[1;32mexcept\u001b[0m \u001b[0mException\u001b[0m \u001b[1;32mas\u001b[0m \u001b[0me\u001b[0m\u001b[1;33m:\u001b[0m  \u001b[1;31m# pylint: disable=broad-except\u001b[0m\u001b[1;33m\u001b[0m\u001b[1;33m\u001b[0m\u001b[0m\n\u001b[0;32m     66\u001b[0m       \u001b[0mfiltered_tb\u001b[0m \u001b[1;33m=\u001b[0m \u001b[0m_process_traceback_frames\u001b[0m\u001b[1;33m(\u001b[0m\u001b[0me\u001b[0m\u001b[1;33m.\u001b[0m\u001b[0m__traceback__\u001b[0m\u001b[1;33m)\u001b[0m\u001b[1;33m\u001b[0m\u001b[1;33m\u001b[0m\u001b[0m\n",
      "\u001b[1;32mG:\\anaconda3\\lib\\site-packages\\keras\\engine\\training.py\u001b[0m in \u001b[0;36mfit\u001b[1;34m(self, x, y, batch_size, epochs, verbose, callbacks, validation_split, validation_data, shuffle, class_weight, sample_weight, initial_epoch, steps_per_epoch, validation_steps, validation_batch_size, validation_freq, max_queue_size, workers, use_multiprocessing)\u001b[0m\n\u001b[0;32m   1214\u001b[0m                 _r=1):\n\u001b[0;32m   1215\u001b[0m               \u001b[0mcallbacks\u001b[0m\u001b[1;33m.\u001b[0m\u001b[0mon_train_batch_begin\u001b[0m\u001b[1;33m(\u001b[0m\u001b[0mstep\u001b[0m\u001b[1;33m)\u001b[0m\u001b[1;33m\u001b[0m\u001b[1;33m\u001b[0m\u001b[0m\n\u001b[1;32m-> 1216\u001b[1;33m               \u001b[0mtmp_logs\u001b[0m \u001b[1;33m=\u001b[0m \u001b[0mself\u001b[0m\u001b[1;33m.\u001b[0m\u001b[0mtrain_function\u001b[0m\u001b[1;33m(\u001b[0m\u001b[0miterator\u001b[0m\u001b[1;33m)\u001b[0m\u001b[1;33m\u001b[0m\u001b[1;33m\u001b[0m\u001b[0m\n\u001b[0m\u001b[0;32m   1217\u001b[0m               \u001b[1;32mif\u001b[0m \u001b[0mdata_handler\u001b[0m\u001b[1;33m.\u001b[0m\u001b[0mshould_sync\u001b[0m\u001b[1;33m:\u001b[0m\u001b[1;33m\u001b[0m\u001b[1;33m\u001b[0m\u001b[0m\n\u001b[0;32m   1218\u001b[0m                 \u001b[0mcontext\u001b[0m\u001b[1;33m.\u001b[0m\u001b[0masync_wait\u001b[0m\u001b[1;33m(\u001b[0m\u001b[1;33m)\u001b[0m\u001b[1;33m\u001b[0m\u001b[1;33m\u001b[0m\u001b[0m\n",
      "\u001b[1;32mG:\\anaconda3\\lib\\site-packages\\tensorflow\\python\\util\\traceback_utils.py\u001b[0m in \u001b[0;36merror_handler\u001b[1;34m(*args, **kwargs)\u001b[0m\n\u001b[0;32m    148\u001b[0m     \u001b[0mfiltered_tb\u001b[0m \u001b[1;33m=\u001b[0m \u001b[1;32mNone\u001b[0m\u001b[1;33m\u001b[0m\u001b[1;33m\u001b[0m\u001b[0m\n\u001b[0;32m    149\u001b[0m     \u001b[1;32mtry\u001b[0m\u001b[1;33m:\u001b[0m\u001b[1;33m\u001b[0m\u001b[1;33m\u001b[0m\u001b[0m\n\u001b[1;32m--> 150\u001b[1;33m       \u001b[1;32mreturn\u001b[0m \u001b[0mfn\u001b[0m\u001b[1;33m(\u001b[0m\u001b[1;33m*\u001b[0m\u001b[0margs\u001b[0m\u001b[1;33m,\u001b[0m \u001b[1;33m**\u001b[0m\u001b[0mkwargs\u001b[0m\u001b[1;33m)\u001b[0m\u001b[1;33m\u001b[0m\u001b[1;33m\u001b[0m\u001b[0m\n\u001b[0m\u001b[0;32m    151\u001b[0m     \u001b[1;32mexcept\u001b[0m \u001b[0mException\u001b[0m \u001b[1;32mas\u001b[0m \u001b[0me\u001b[0m\u001b[1;33m:\u001b[0m\u001b[1;33m\u001b[0m\u001b[1;33m\u001b[0m\u001b[0m\n\u001b[0;32m    152\u001b[0m       \u001b[0mfiltered_tb\u001b[0m \u001b[1;33m=\u001b[0m \u001b[0m_process_traceback_frames\u001b[0m\u001b[1;33m(\u001b[0m\u001b[0me\u001b[0m\u001b[1;33m.\u001b[0m\u001b[0m__traceback__\u001b[0m\u001b[1;33m)\u001b[0m\u001b[1;33m\u001b[0m\u001b[1;33m\u001b[0m\u001b[0m\n",
      "\u001b[1;32mG:\\anaconda3\\lib\\site-packages\\tensorflow\\python\\eager\\def_function.py\u001b[0m in \u001b[0;36m__call__\u001b[1;34m(self, *args, **kwds)\u001b[0m\n\u001b[0;32m    908\u001b[0m \u001b[1;33m\u001b[0m\u001b[0m\n\u001b[0;32m    909\u001b[0m       \u001b[1;32mwith\u001b[0m \u001b[0mOptionalXlaContext\u001b[0m\u001b[1;33m(\u001b[0m\u001b[0mself\u001b[0m\u001b[1;33m.\u001b[0m\u001b[0m_jit_compile\u001b[0m\u001b[1;33m)\u001b[0m\u001b[1;33m:\u001b[0m\u001b[1;33m\u001b[0m\u001b[1;33m\u001b[0m\u001b[0m\n\u001b[1;32m--> 910\u001b[1;33m         \u001b[0mresult\u001b[0m \u001b[1;33m=\u001b[0m \u001b[0mself\u001b[0m\u001b[1;33m.\u001b[0m\u001b[0m_call\u001b[0m\u001b[1;33m(\u001b[0m\u001b[1;33m*\u001b[0m\u001b[0margs\u001b[0m\u001b[1;33m,\u001b[0m \u001b[1;33m**\u001b[0m\u001b[0mkwds\u001b[0m\u001b[1;33m)\u001b[0m\u001b[1;33m\u001b[0m\u001b[1;33m\u001b[0m\u001b[0m\n\u001b[0m\u001b[0;32m    911\u001b[0m \u001b[1;33m\u001b[0m\u001b[0m\n\u001b[0;32m    912\u001b[0m       \u001b[0mnew_tracing_count\u001b[0m \u001b[1;33m=\u001b[0m \u001b[0mself\u001b[0m\u001b[1;33m.\u001b[0m\u001b[0mexperimental_get_tracing_count\u001b[0m\u001b[1;33m(\u001b[0m\u001b[1;33m)\u001b[0m\u001b[1;33m\u001b[0m\u001b[1;33m\u001b[0m\u001b[0m\n",
      "\u001b[1;32mG:\\anaconda3\\lib\\site-packages\\tensorflow\\python\\eager\\def_function.py\u001b[0m in \u001b[0;36m_call\u001b[1;34m(self, *args, **kwds)\u001b[0m\n\u001b[0;32m    940\u001b[0m       \u001b[1;31m# In this case we have created variables on the first call, so we run the\u001b[0m\u001b[1;33m\u001b[0m\u001b[1;33m\u001b[0m\u001b[1;33m\u001b[0m\u001b[0m\n\u001b[0;32m    941\u001b[0m       \u001b[1;31m# defunned version which is guaranteed to never create variables.\u001b[0m\u001b[1;33m\u001b[0m\u001b[1;33m\u001b[0m\u001b[1;33m\u001b[0m\u001b[0m\n\u001b[1;32m--> 942\u001b[1;33m       \u001b[1;32mreturn\u001b[0m \u001b[0mself\u001b[0m\u001b[1;33m.\u001b[0m\u001b[0m_stateless_fn\u001b[0m\u001b[1;33m(\u001b[0m\u001b[1;33m*\u001b[0m\u001b[0margs\u001b[0m\u001b[1;33m,\u001b[0m \u001b[1;33m**\u001b[0m\u001b[0mkwds\u001b[0m\u001b[1;33m)\u001b[0m  \u001b[1;31m# pylint: disable=not-callable\u001b[0m\u001b[1;33m\u001b[0m\u001b[1;33m\u001b[0m\u001b[0m\n\u001b[0m\u001b[0;32m    943\u001b[0m     \u001b[1;32melif\u001b[0m \u001b[0mself\u001b[0m\u001b[1;33m.\u001b[0m\u001b[0m_stateful_fn\u001b[0m \u001b[1;32mis\u001b[0m \u001b[1;32mnot\u001b[0m \u001b[1;32mNone\u001b[0m\u001b[1;33m:\u001b[0m\u001b[1;33m\u001b[0m\u001b[1;33m\u001b[0m\u001b[0m\n\u001b[0;32m    944\u001b[0m       \u001b[1;31m# Release the lock early so that multiple threads can perform the call\u001b[0m\u001b[1;33m\u001b[0m\u001b[1;33m\u001b[0m\u001b[1;33m\u001b[0m\u001b[0m\n",
      "\u001b[1;32mG:\\anaconda3\\lib\\site-packages\\tensorflow\\python\\eager\\function.py\u001b[0m in \u001b[0;36m__call__\u001b[1;34m(self, *args, **kwargs)\u001b[0m\n\u001b[0;32m   3128\u001b[0m       (graph_function,\n\u001b[0;32m   3129\u001b[0m        filtered_flat_args) = self._maybe_define_function(args, kwargs)\n\u001b[1;32m-> 3130\u001b[1;33m     return graph_function._call_flat(\n\u001b[0m\u001b[0;32m   3131\u001b[0m         filtered_flat_args, captured_inputs=graph_function.captured_inputs)  # pylint: disable=protected-access\n\u001b[0;32m   3132\u001b[0m \u001b[1;33m\u001b[0m\u001b[0m\n",
      "\u001b[1;32mG:\\anaconda3\\lib\\site-packages\\tensorflow\\python\\eager\\function.py\u001b[0m in \u001b[0;36m_call_flat\u001b[1;34m(self, args, captured_inputs, cancellation_manager)\u001b[0m\n\u001b[0;32m   1957\u001b[0m         and executing_eagerly):\n\u001b[0;32m   1958\u001b[0m       \u001b[1;31m# No tape is watching; skip to running the function.\u001b[0m\u001b[1;33m\u001b[0m\u001b[1;33m\u001b[0m\u001b[1;33m\u001b[0m\u001b[0m\n\u001b[1;32m-> 1959\u001b[1;33m       return self._build_call_outputs(self._inference_function.call(\n\u001b[0m\u001b[0;32m   1960\u001b[0m           ctx, args, cancellation_manager=cancellation_manager))\n\u001b[0;32m   1961\u001b[0m     forward_backward = self._select_forward_and_backward_functions(\n",
      "\u001b[1;32mG:\\anaconda3\\lib\\site-packages\\tensorflow\\python\\eager\\function.py\u001b[0m in \u001b[0;36mcall\u001b[1;34m(self, ctx, args, cancellation_manager)\u001b[0m\n\u001b[0;32m    596\u001b[0m       \u001b[1;32mwith\u001b[0m \u001b[0m_InterpolateFunctionError\u001b[0m\u001b[1;33m(\u001b[0m\u001b[0mself\u001b[0m\u001b[1;33m)\u001b[0m\u001b[1;33m:\u001b[0m\u001b[1;33m\u001b[0m\u001b[1;33m\u001b[0m\u001b[0m\n\u001b[0;32m    597\u001b[0m         \u001b[1;32mif\u001b[0m \u001b[0mcancellation_manager\u001b[0m \u001b[1;32mis\u001b[0m \u001b[1;32mNone\u001b[0m\u001b[1;33m:\u001b[0m\u001b[1;33m\u001b[0m\u001b[1;33m\u001b[0m\u001b[0m\n\u001b[1;32m--> 598\u001b[1;33m           outputs = execute.execute(\n\u001b[0m\u001b[0;32m    599\u001b[0m               \u001b[0mstr\u001b[0m\u001b[1;33m(\u001b[0m\u001b[0mself\u001b[0m\u001b[1;33m.\u001b[0m\u001b[0msignature\u001b[0m\u001b[1;33m.\u001b[0m\u001b[0mname\u001b[0m\u001b[1;33m)\u001b[0m\u001b[1;33m,\u001b[0m\u001b[1;33m\u001b[0m\u001b[1;33m\u001b[0m\u001b[0m\n\u001b[0;32m    600\u001b[0m               \u001b[0mnum_outputs\u001b[0m\u001b[1;33m=\u001b[0m\u001b[0mself\u001b[0m\u001b[1;33m.\u001b[0m\u001b[0m_num_outputs\u001b[0m\u001b[1;33m,\u001b[0m\u001b[1;33m\u001b[0m\u001b[1;33m\u001b[0m\u001b[0m\n",
      "\u001b[1;32mG:\\anaconda3\\lib\\site-packages\\tensorflow\\python\\eager\\execute.py\u001b[0m in \u001b[0;36mquick_execute\u001b[1;34m(op_name, num_outputs, inputs, attrs, ctx, name)\u001b[0m\n\u001b[0;32m     56\u001b[0m   \u001b[1;32mtry\u001b[0m\u001b[1;33m:\u001b[0m\u001b[1;33m\u001b[0m\u001b[1;33m\u001b[0m\u001b[0m\n\u001b[0;32m     57\u001b[0m     \u001b[0mctx\u001b[0m\u001b[1;33m.\u001b[0m\u001b[0mensure_initialized\u001b[0m\u001b[1;33m(\u001b[0m\u001b[1;33m)\u001b[0m\u001b[1;33m\u001b[0m\u001b[1;33m\u001b[0m\u001b[0m\n\u001b[1;32m---> 58\u001b[1;33m     tensors = pywrap_tfe.TFE_Py_Execute(ctx._handle, device_name, op_name,\n\u001b[0m\u001b[0;32m     59\u001b[0m                                         inputs, attrs, num_outputs)\n\u001b[0;32m     60\u001b[0m   \u001b[1;32mexcept\u001b[0m \u001b[0mcore\u001b[0m\u001b[1;33m.\u001b[0m\u001b[0m_NotOkStatusException\u001b[0m \u001b[1;32mas\u001b[0m \u001b[0me\u001b[0m\u001b[1;33m:\u001b[0m\u001b[1;33m\u001b[0m\u001b[1;33m\u001b[0m\u001b[0m\n",
      "\u001b[1;31mKeyboardInterrupt\u001b[0m: "
     ]
    }
   ],
   "source": [
    "with tf.device('/device:GPU:0'):\n",
    "    history = model.fit(\n",
    "\n",
    "    X_train, y_train,\n",
    "\n",
    "    epochs=50,\n",
    "\n",
    "    batch_size=20,\n",
    "\n",
    "    validation_split=0.1,\n",
    "\n",
    "    shuffle=False\n",
    "\n",
    ")"
   ]
  },
  {
   "cell_type": "code",
   "execution_count": 33,
   "id": "6bb3d9d6",
   "metadata": {},
   "outputs": [
    {
     "ename": "NameError",
     "evalue": "name 'history' is not defined",
     "output_type": "error",
     "traceback": [
      "\u001b[1;31m---------------------------------------------------------------------------\u001b[0m",
      "\u001b[1;31mNameError\u001b[0m                                 Traceback (most recent call last)",
      "\u001b[1;32mC:\\Users\\DANIEL~1\\AppData\\Local\\Temp/ipykernel_14284/4182120250.py\u001b[0m in \u001b[0;36m<module>\u001b[1;34m\u001b[0m\n\u001b[1;32m----> 1\u001b[1;33m \u001b[0mplt\u001b[0m\u001b[1;33m.\u001b[0m\u001b[0mplot\u001b[0m\u001b[1;33m(\u001b[0m\u001b[0mhistory\u001b[0m\u001b[1;33m.\u001b[0m\u001b[0mhistory\u001b[0m\u001b[1;33m[\u001b[0m\u001b[1;34m'loss'\u001b[0m\u001b[1;33m]\u001b[0m\u001b[1;33m,\u001b[0m \u001b[0mlabel\u001b[0m\u001b[1;33m=\u001b[0m\u001b[1;34m'train'\u001b[0m\u001b[1;33m)\u001b[0m\u001b[1;33m\u001b[0m\u001b[1;33m\u001b[0m\u001b[0m\n\u001b[0m\u001b[0;32m      2\u001b[0m \u001b[0mplt\u001b[0m\u001b[1;33m.\u001b[0m\u001b[0mplot\u001b[0m\u001b[1;33m(\u001b[0m\u001b[0mhistory\u001b[0m\u001b[1;33m.\u001b[0m\u001b[0mhistory\u001b[0m\u001b[1;33m[\u001b[0m\u001b[1;34m'val_loss'\u001b[0m\u001b[1;33m]\u001b[0m\u001b[1;33m,\u001b[0m \u001b[0mlabel\u001b[0m\u001b[1;33m=\u001b[0m\u001b[1;34m'test'\u001b[0m\u001b[1;33m)\u001b[0m\u001b[1;33m\u001b[0m\u001b[1;33m\u001b[0m\u001b[0m\n\u001b[0;32m      3\u001b[0m \u001b[0mplt\u001b[0m\u001b[1;33m.\u001b[0m\u001b[0mlegend\u001b[0m\u001b[1;33m(\u001b[0m\u001b[1;33m)\u001b[0m\u001b[1;33m;\u001b[0m\u001b[1;33m\u001b[0m\u001b[1;33m\u001b[0m\u001b[0m\n\u001b[0;32m      4\u001b[0m \u001b[1;33m\u001b[0m\u001b[0m\n",
      "\u001b[1;31mNameError\u001b[0m: name 'history' is not defined"
     ]
    }
   ],
   "source": [
    "plt.plot(history.history['loss'], label='train')\n",
    "plt.plot(history.history['val_loss'], label='test')\n",
    "plt.legend();\n",
    "\n"
   ]
  },
  {
   "cell_type": "code",
   "execution_count": 41,
   "id": "2bea986a",
   "metadata": {},
   "outputs": [],
   "source": [
    "predictions=model.predict(X_test)"
   ]
  },
  {
   "cell_type": "code",
   "execution_count": 44,
   "id": "a7001790",
   "metadata": {},
   "outputs": [
    {
     "data": {
      "text/plain": [
       "array([[0.48991027],\n",
       "       [0.48991022],\n",
       "       [0.48991013],\n",
       "       ...,\n",
       "       [0.48978832],\n",
       "       [0.48978806],\n",
       "       [0.48978817]], dtype=float32)"
      ]
     },
     "execution_count": 44,
     "metadata": {},
     "output_type": "execute_result"
    }
   ],
   "source": [
    "predictions"
   ]
  },
  {
   "cell_type": "code",
   "execution_count": 43,
   "id": "33e148df",
   "metadata": {},
   "outputs": [
    {
     "data": {
      "text/html": [
       "<div>\n",
       "<style scoped>\n",
       "    .dataframe tbody tr th:only-of-type {\n",
       "        vertical-align: middle;\n",
       "    }\n",
       "\n",
       "    .dataframe tbody tr th {\n",
       "        vertical-align: top;\n",
       "    }\n",
       "\n",
       "    .dataframe thead th {\n",
       "        text-align: right;\n",
       "    }\n",
       "</style>\n",
       "<table border=\"1\" class=\"dataframe\">\n",
       "  <thead>\n",
       "    <tr style=\"text-align: right;\">\n",
       "      <th></th>\n",
       "      <th>0</th>\n",
       "    </tr>\n",
       "  </thead>\n",
       "  <tbody>\n",
       "    <tr>\n",
       "      <th>count</th>\n",
       "      <td>8501.000000</td>\n",
       "    </tr>\n",
       "    <tr>\n",
       "      <th>mean</th>\n",
       "      <td>0.489856</td>\n",
       "    </tr>\n",
       "    <tr>\n",
       "      <th>std</th>\n",
       "      <td>0.000115</td>\n",
       "    </tr>\n",
       "    <tr>\n",
       "      <th>min</th>\n",
       "      <td>0.489720</td>\n",
       "    </tr>\n",
       "    <tr>\n",
       "      <th>25%</th>\n",
       "      <td>0.489762</td>\n",
       "    </tr>\n",
       "    <tr>\n",
       "      <th>50%</th>\n",
       "      <td>0.489838</td>\n",
       "    </tr>\n",
       "    <tr>\n",
       "      <th>75%</th>\n",
       "      <td>0.489970</td>\n",
       "    </tr>\n",
       "    <tr>\n",
       "      <th>max</th>\n",
       "      <td>0.490112</td>\n",
       "    </tr>\n",
       "  </tbody>\n",
       "</table>\n",
       "</div>"
      ],
      "text/plain": [
       "                 0\n",
       "count  8501.000000\n",
       "mean      0.489856\n",
       "std       0.000115\n",
       "min       0.489720\n",
       "25%       0.489762\n",
       "50%       0.489838\n",
       "75%       0.489970\n",
       "max       0.490112"
      ]
     },
     "execution_count": 43,
     "metadata": {},
     "output_type": "execute_result"
    }
   ],
   "source": [
    "pd.DataFrame(predictions).describe()"
   ]
  },
  {
   "cell_type": "code",
   "execution_count": null,
   "id": "aa2742aa",
   "metadata": {},
   "outputs": [],
   "source": [
    "ьщвуд"
   ]
  },
  {
   "cell_type": "code",
   "execution_count": null,
   "id": "18544c15",
   "metadata": {},
   "outputs": [],
   "source": [
    "y_test"
   ]
  },
  {
   "cell_type": "code",
   "execution_count": null,
   "id": "0c584c25",
   "metadata": {},
   "outputs": [],
   "source": [
    "#model.weights"
   ]
  },
  {
   "cell_type": "code",
   "execution_count": null,
   "id": "7e0627d3",
   "metadata": {},
   "outputs": [],
   "source": [
    "from tensorflow.python.client import device_lib\n",
    "print(device_lib.list_local_devices())"
   ]
  },
  {
   "cell_type": "code",
   "execution_count": 21,
   "id": "88785ca1",
   "metadata": {},
   "outputs": [
    {
     "ename": "AttributeError",
     "evalue": "module 'tensorflow' has no attribute 'ConfigProto'",
     "output_type": "error",
     "traceback": [
      "\u001b[1;31m---------------------------------------------------------------------------\u001b[0m",
      "\u001b[1;31mAttributeError\u001b[0m                            Traceback (most recent call last)",
      "\u001b[1;32mC:\\Users\\DANIEL~1\\AppData\\Local\\Temp/ipykernel_8624/3424190275.py\u001b[0m in \u001b[0;36m<module>\u001b[1;34m\u001b[0m\n\u001b[0;32m      2\u001b[0m \u001b[1;33m\u001b[0m\u001b[0m\n\u001b[0;32m      3\u001b[0m \u001b[1;33m\u001b[0m\u001b[0m\n\u001b[1;32m----> 4\u001b[1;33m \u001b[0mconfig\u001b[0m \u001b[1;33m=\u001b[0m \u001b[0mtf\u001b[0m\u001b[1;33m.\u001b[0m\u001b[0mConfigProto\u001b[0m\u001b[1;33m(\u001b[0m \u001b[0mdevice_count\u001b[0m \u001b[1;33m=\u001b[0m \u001b[1;33m{\u001b[0m\u001b[1;34m'GPU'\u001b[0m\u001b[1;33m:\u001b[0m \u001b[1;36m1\u001b[0m \u001b[1;33m,\u001b[0m \u001b[1;34m'CPU'\u001b[0m\u001b[1;33m:\u001b[0m \u001b[1;36m56\u001b[0m\u001b[1;33m}\u001b[0m \u001b[1;33m)\u001b[0m\u001b[1;33m\u001b[0m\u001b[1;33m\u001b[0m\u001b[0m\n\u001b[0m\u001b[0;32m      5\u001b[0m \u001b[0msess\u001b[0m \u001b[1;33m=\u001b[0m \u001b[0mtf\u001b[0m\u001b[1;33m.\u001b[0m\u001b[0mSession\u001b[0m\u001b[1;33m(\u001b[0m\u001b[0mconfig\u001b[0m\u001b[1;33m=\u001b[0m\u001b[0mconfig\u001b[0m\u001b[1;33m)\u001b[0m\u001b[1;33m\u001b[0m\u001b[1;33m\u001b[0m\u001b[0m\n\u001b[0;32m      6\u001b[0m \u001b[0mkeras\u001b[0m\u001b[1;33m.\u001b[0m\u001b[0mbackend\u001b[0m\u001b[1;33m.\u001b[0m\u001b[0mset_session\u001b[0m\u001b[1;33m(\u001b[0m\u001b[0msess\u001b[0m\u001b[1;33m)\u001b[0m\u001b[1;33m\u001b[0m\u001b[1;33m\u001b[0m\u001b[0m\n",
      "\u001b[1;31mAttributeError\u001b[0m: module 'tensorflow' has no attribute 'ConfigProto'"
     ]
    }
   ],
   "source": [
    "import tensorflow as tf\n",
    "\n",
    "\n",
    "config = tf.ConfigProto( device_count = {'GPU': 1 , 'CPU': 56} ) \n",
    "sess = tf.Session(config=config) \n",
    "keras.backend.set_session(sess)"
   ]
  },
  {
   "cell_type": "code",
   "execution_count": 99,
   "id": "62683df1",
   "metadata": {},
   "outputs": [
    {
     "name": "stdout",
     "output_type": "stream",
     "text": [
      "tf.Tensor(\n",
      "[[22. 28.]\n",
      " [49. 64.]], shape=(2, 2), dtype=float32)\n"
     ]
    }
   ],
   "source": [
    "tf.debugging.set_log_device_placement(True)\n",
    "a = tf.constant([[1.0, 2.0, 3.0], [4.0, 5.0, 6.0]])\n",
    "b = tf.constant([[1.0, 2.0], [3.0, 4.0], [5.0, 6.0]])\n",
    "c = tf.matmul(a, b)\n",
    "\n",
    "print(c)"
   ]
  },
  {
   "cell_type": "code",
   "execution_count": null,
   "id": "4202b427",
   "metadata": {},
   "outputs": [],
   "source": []
  }
 ],
 "metadata": {
  "kernelspec": {
   "display_name": "Python 3 (ipykernel)",
   "language": "python",
   "name": "python3"
  },
  "language_info": {
   "codemirror_mode": {
    "name": "ipython",
    "version": 3
   },
   "file_extension": ".py",
   "mimetype": "text/x-python",
   "name": "python",
   "nbconvert_exporter": "python",
   "pygments_lexer": "ipython3",
   "version": "3.8.8"
  }
 },
 "nbformat": 4,
 "nbformat_minor": 5
}
