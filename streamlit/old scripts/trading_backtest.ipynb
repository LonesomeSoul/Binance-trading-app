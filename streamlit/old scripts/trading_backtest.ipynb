{
 "cells": [
  {
   "cell_type": "code",
   "execution_count": 1,
   "id": "58d04281",
   "metadata": {},
   "outputs": [],
   "source": [
    "from binance.spot import Spot \n",
    "from sys import stderr\n",
    "import sys, os,datetime,requests,json,pandas as pd,numpy as np\n",
    "import time,math, gc,trading_lstm\n",
    "\n",
    "from sklearn.linear_model import LogisticRegression\n",
    "from sklearn.svm import SVC, LinearSVC\n",
    "from sklearn.ensemble import RandomForestRegressor\n",
    "from sklearn.neighbors import KNeighborsClassifier\n",
    "from sklearn.naive_bayes import GaussianNB\n",
    "from sklearn.linear_model import Perceptron\n",
    "from sklearn.linear_model import SGDClassifier\n",
    "from sklearn.tree import DecisionTreeClassifier\n",
    "import sklearn\n",
    "from sklearn.model_selection import train_test_split\n",
    "min_max_scaler = sklearn.preprocessing.MinMaxScaler()\n",
    "import warnings\n",
    "\n",
    "warnings.filterwarnings(\"ignore\")\n",
    "\n",
    "\n",
    "import torch\n",
    "import torch.nn as nn\n",
    "import torch.nn.functional as F\n",
    "import torchvision\n"
   ]
  },
  {
   "cell_type": "code",
   "execution_count": 2,
   "id": "692b309b",
   "metadata": {},
   "outputs": [],
   "source": [
    "device = torch.device(\"cuda:0\" if torch.cuda.is_available() else \"cpu\")\n",
    "\n",
    "def import_api(time_last,symbol=\"BTCUSDT\",limit=12*60,interval=\"1m\"):\n",
    "    params={\"symbol\":symbol,\"limit\":limit,\"interval\":interval,\"endTime\":time_last,\"startTime\":(time_last-12*3600*1000)}\n",
    "    r=requests.get(url=\"https://api.binance.com/api/v3/klines\", params=params)\n",
    "    df=pd.DataFrame(r.json())\n",
    "    return df\n",
    "\n",
    "def transform_df (df):\n",
    "    column_names=['Open_time','Open','High','Low','Close','Volume','Close_time','Quote_asset_volume',\n",
    "               'Number_of_trades','Taker_buy_base_asset_volume','Taker_buy_quote_asset_volume','Ignore']\n",
    "    df=df.reset_index(drop=True)\n",
    "    df.set_axis(column_names,axis=1,inplace=True)\n",
    "    for col in df.columns:\n",
    "        df[col] = df[col].astype(float)\n",
    "    weekday=[]\n",
    "    month=[]\n",
    "    for i in range(df['Open'].size):\n",
    "        dt_open=datetime.datetime.fromtimestamp(df['Open_time'][i]//1000)\n",
    "        dt_close=datetime.datetime.fromtimestamp(df['Close_time'][i]//1000)\n",
    "        df['Open_time'][i]=dt_open.hour*3600+dt_open.minute*60+dt_open.second\n",
    "        df['Close_time'][i]=dt_close.hour*3600+dt_close.minute*60+dt_close.second\n",
    "        weekday.append(dt_open.weekday())\n",
    "        month.append(dt_open.month)\n",
    "        #df['Open_time'][i]=dt_open.strftime(\"%I:%M:%S\")\n",
    "        #df['Close_time'][i]=dt_close.strftime(\"%I:%M:%S\")\n",
    "    df['weekday']=weekday\n",
    "    df['month']=month\n",
    "    df=df.drop(df.columns[[7,10,11,13]],axis=1)\n",
    "    del(month)\n",
    "    del(weekday)\n",
    "    return df\n",
    "\n",
    "\n",
    "def moving_average(data,range_,concat=60):\n",
    "    leftover=len(data)%concat\n",
    "    data=data[::concat].reset_index(drop=True)\n",
    "    mean=[]\n",
    "    arr=[]\n",
    "    for i in range(range_):\n",
    "        this_mean=0\n",
    "        for j in range(i+1):\n",
    "            this_mean+=data[j]\n",
    "        mean.append(this_mean/(j+1))\n",
    "    if leftover:\n",
    "        data_size=len(data)-1\n",
    "    else:\n",
    "        data_size=len(data)\n",
    "    for i in range(range_,data_size):\n",
    "        this_mean=data[i]\n",
    "        for j in range(1,range_):\n",
    "            this_mean+=data[i-j]\n",
    "        mean.append(this_mean/(range_))\n",
    "    arr=leftover*[mean[0]]\n",
    "    for i in range(len(mean)):\n",
    "        arr+=concat*[mean[i]]\n",
    "    \n",
    "    \n",
    "    return arr\n",
    "\n",
    "def generate_previous(df,count,col_name):\n",
    "    #idxes=\n",
    "    df=df.reset_index(drop=True)\n",
    "    values=list(df[col_name][0:count])\n",
    "    columns={}\n",
    "    for i in range(count):\n",
    "        this_name=\"prev_\"+col_name+\"_\"+str(i+1)\n",
    "        columns[this_name]=[]\n",
    "    for i in range(count,df[col_name].size):\n",
    "        for j in range(count):\n",
    "            this_name=\"prev_\"+col_name+\"_\"+str(j+1)\n",
    "            columns[this_name].append(values[-(j+1)])\n",
    "        values.pop(0)\n",
    "        values.append(df[col_name][i])\n",
    "    size=df[col_name].size\n",
    "    df=df[count:size]\n",
    "    for i in range(count):\n",
    "        this_name=\"prev_\"+col_name+\"_\"+str(i+1)\n",
    "        df[this_name]=columns[this_name]\n",
    "    \n",
    "    return df.reset_index(drop=True)\n",
    "\n",
    "def df_to_X_y(df, window_size=5):\n",
    "    df_as_np = df.to_numpy()\n",
    "    X = []\n",
    "    y = []\n",
    "    for i in range(len(df_as_np)-window_size):\n",
    "        row = [a for a in (df.iloc[i:i+window_size].drop(\"target\",axis=1).values)]\n",
    "        X.append(row)\n",
    "        label = df[\"target\"][i+window_size-1]\n",
    "        y.append(label)\n",
    "    return np.array(X), np.array(y)\n",
    "\n",
    "def tensor_to_X_y(data, window_size=5):\n",
    "    X = []\n",
    "    y = []\n",
    "    data=pd.DataFrame(data.tolist())\n",
    "    columns=data.columns\n",
    "    for i in range(len(data)-window_size):\n",
    "        row = [a for a in (data.iloc[i:i+window_size].drop(data.columns[-1],axis=1).values)]\n",
    "        X.append(row)\n",
    "        label = data[data.columns[-1]][i+window_size-1]\n",
    "        y.append(label)\n",
    "    return np.array(X), np.array(y)\n",
    "\n",
    "def preprocess_df(df,target_range,hours,hours_interval,days,days_interval,scaling_range=0.2):\n",
    "    target=[]\n",
    "    concat_hours=3\n",
    "    concat_days=8\n",
    "    window=target_range\n",
    "    for i in range(df[\"Open\"].size-window):\n",
    "        target.append(df[\"Open\"][i+window])\n",
    "    df=df[0:df[\"Open\"].size-window]\n",
    "    df[\"target\"]=target\n",
    "    #df=df.drop([\"Close_time\",\"Taker_buy_base_asset_volume\",\"Volume\",\"Close\",\"Low\",\"High\",\"Number_of_trades\"],axis=1)\n",
    "    df=df.drop([\"Close_time\",\"Taker_buy_base_asset_volume\",\"Volume\",\"Close\",\"Low\",\"High\",\"Number_of_trades\"],axis=1)\n",
    "    for i in range(1,hours//hours_interval+1):\n",
    "        df[\"mean_\"+str(i*hours_interval)+\"_hours\"]=moving_average(df[\"Open\"],i*(12//concat_hours)*hours_interval,concat_hours)\n",
    "    for i in range(1,days//days_interval+1):\n",
    "        df[\"mean_\"+str(i*days_interval)+\"_days\"]=moving_average(df[\"Open\"],i*12*(24//concat_days)*days_interval,concat_days)\n",
    "    drop_col=[\"Open\",'Open_time','weekday']\n",
    "    open_delta=[]\n",
    "    df[\"weekday\"]=df[\"weekday\"].astype(float)\n",
    "    for col in df.drop(drop_col,axis=1).columns:\n",
    "        for i in range(df[\"Open\"].size):\n",
    "            df[col][i]=df[col][i]/df[\"Open\"][i]\n",
    "    for i in range(1,df[\"Open\"].size):\n",
    "        df[\"Open_time\"][i]/=86400\n",
    "        df[\"weekday\"][i]/=6.0\n",
    "        delta=df[\"Open\"][i]-df[\"Open\"][i-1]\n",
    "        open_delta.append(delta/df[\"Open\"][i])\n",
    "    df=df.drop(0,axis=0)\n",
    "    cols=df.columns[3:]\n",
    "    for i in cols:\n",
    "        for j in range(1,df[\"Open\"].size):\n",
    "            df[i][j]=(df[i][j]-(1-scaling_range))/(scaling_range*2)\n",
    "    return df\n",
    "\n",
    "def upscale(input_data,scaling_range=0.2):\n",
    "    return input_data*2*scaling_range-scaling_range+1"
   ]
  },
  {
   "cell_type": "code",
   "execution_count": 3,
   "id": "8112fa21",
   "metadata": {},
   "outputs": [],
   "source": [
    "class autoencoder(nn.Module):\n",
    "    def __init__(self,drop,input_size,hidden_size,test_size):\n",
    "        super(autoencoder, self).__init__()\n",
    "        self.norm=nn.BatchNorm1d(hidden_size)\n",
    "        self.fc1 = nn.Linear(input_size,hidden_size)\n",
    "        self.fc2 = nn.Linear(hidden_size, hidden_size,bias=True)\n",
    "        self.fc3 = nn.Linear(hidden_size, test_size,bias=True)\n",
    "        self.fc4 = nn.Linear(test_size, hidden_size,bias=True)\n",
    "        self.fc5 = nn.Linear(hidden_size, hidden_size,bias=True)\n",
    "        self.fc6 = nn.Linear(hidden_size, hidden_size,bias=True)\n",
    "        self.fc7 = nn.Linear(hidden_size, input_size,bias=True)\n",
    "        self.dropout = nn.Dropout(drop)\n",
    "    def forward(self, x):\n",
    "        x = self.fc1(x)\n",
    "        x = F.relu(x)\n",
    "        x = self.fc2(x)\n",
    "        x = self.dropout(F.relu(x))\n",
    "        x = self.fc3(x)\n",
    "        x = F.relu(x)\n",
    "        x = self.fc4(x)\n",
    "        x = F.relu(x)\n",
    "        x = self.fc5(x)\n",
    "        x = self.dropout(F.relu(x))\n",
    "        x = self.fc6(x)\n",
    "        x = F.relu(x)\n",
    "        x = self.fc7(x)\n",
    "        return x\n",
    "    def encode (self,x):\n",
    "        x = self.fc1(x)\n",
    "        x = F.relu(x)\n",
    "        x = self.fc2(x)\n",
    "        x = F.relu(x)\n",
    "        x = self.fc3(x)\n",
    "        x = F.relu(x)\n",
    "        return x\n",
    "    \n",
    "class Net(nn.Module):\n",
    "    def __init__(self,drop,hidden_size,input_size):\n",
    "        super(Net, self).__init__()\n",
    "        self.norm=nn.BatchNorm1d(hidden_size)\n",
    "        self.fc1 = nn.LSTM(num_layers=1,input_size=input_size, hidden_size=hidden_size,batch_first=True)\n",
    "        self.fc2 = nn.Linear(hidden_size, hidden_size,bias=True)\n",
    "        self.fc3 = nn.Linear(hidden_size, hidden_size,bias=True)\n",
    "        self.fc4 = nn.Linear(hidden_size, hidden_size,bias=True)\n",
    "        self.fc5 = nn.Linear(hidden_size, hidden_size,bias=True)\n",
    "        self.fc6 = nn.Linear(hidden_size, 1,bias=True)\n",
    "        self.dropout = nn.Dropout(drop)\n",
    "    def forward(self, x):\n",
    "        x,_ = self.fc1(x)\n",
    "        x=x[:,-1,:]\n",
    "        x=F.tanh(x)\n",
    "        x = self.dropout(x)\n",
    "        x = F.logsigmoid(self.fc5(x))\n",
    "        x = self.dropout(x)\n",
    "        x = self.fc6(x)\n",
    "        return x\n",
    "    def predict(self, x):\n",
    "        x,_ = self.fc1(x)\n",
    "        x=x[:,-1,:]\n",
    "        x=F.tanh(x)\n",
    "        x = self.dropout(x)\n",
    "        x = F.logsigmoid(self.fc5(x))\n",
    "        #x = self.dropout(x)\n",
    "        x = self.fc6(x)\n",
    "        return x"
   ]
  },
  {
   "cell_type": "code",
   "execution_count": 4,
   "id": "c90d498e-49b3-42fa-887d-6d1dc30dac17",
   "metadata": {},
   "outputs": [],
   "source": [
    "def prepare_data_for_train(file,encoder=0,lstm=0, window_size=30,scaling=1):\n",
    "    scaling_range=0.2\n",
    "    df=pd.read_csv(file).reset_index(drop=True)\n",
    "    df=preprocess_df(df,6,4,1,21,4,scaling=scaling,scaling_range=scaling_range).reset_index(drop=True)\n",
    "    if (encoder==0 and lstm):\n",
    "        X,y=df_to_X_y(df,window_size) #for no enc\n",
    "    if (encoder==0 and lstm==0):\n",
    "        X,y=df_to_X_y(df,window_size,0) #no lstm no enc\n",
    "    if encoder:\n",
    "        X,y=tensor_to_X_y(arr,window_size) #for enc\n",
    "        encoder=autoencoder(0,64,10).cuda().double()\n",
    "        encoder.load_state_dict(torch.load(directory+'\\\\encoder_05-07-2022_22-03-48_64_10.pth'))\n",
    "        encoder.eval()\n",
    "\n",
    "\n",
    "    X_train, X_test, y_train, y_test = train_test_split(X,y,\n",
    "                                                            test_size = 0.10,\n",
    "                                                            random_state =123,\n",
    "                                                            shuffle=False)\n",
    "\n",
    "    train_idxes=sklearn.utils.shuffle(range(len(X_train)))\n",
    "    X_train_shuffled=[]\n",
    "    y_train_shuffled=[]\n",
    "    for i in train_idxes:\n",
    "        X_train_shuffled.append(X_train[i])\n",
    "        y_train_shuffled.append(y_train[i])\n",
    "    X_train=np.array(X_train_shuffled[:500])\n",
    "    y_train=np.array(y_train_shuffled[:500])\n",
    "    del([X_train_shuffled,y_train_shuffled,train_idxes])\n",
    "\n",
    "\n",
    "    if (encoder==0 and lstm==0):\n",
    "        X_train_opens=torch.tensor(X_train[:,1],device=\"cuda\") #for df_to_x_y\n",
    "        X_test_opens=torch.tensor(X_test[:,1],device=\"cuda\")\n",
    "        if scaling:\n",
    "            X_train=np.concatenate([X_train[:,2:],X_train[:,[0]]],axis=1)\n",
    "            X_test=np.concatenate([X_test[:,2:],X_test[:,[0]]],axis=1)\n",
    "\n",
    "    if (encoder==0 and lstm==1):\n",
    "        X_train_opens=torch.tensor(X_train[:,:,1][:,window_size-1],device=\"cuda\") #for df_to_x_y, lstm\n",
    "        X_test_opens=torch.tensor(X_test[:,:,1][:,window_size-1],device=\"cuda\")\n",
    "        if scaling:\n",
    "            X_train=np.concatenate([X_train[:,:,2:],X_train[:,:,[0]]],axis=2)\n",
    "            X_test=np.concatenate([X_test[:,:,2:],X_test[:,:,[0]]],axis=2)\n",
    "\n",
    "    if(encoder==1):\n",
    "        X_train_opens=torch.tensor(X_train[:,:,-1][:,window_size-1],device=\"cuda\") #for tensor_to_x_y\n",
    "        X_test_opens=torch.tensor(X_test[:,:,-1][:,window_size-1],device=\"cuda\")\n",
    "        if scaling:\n",
    "            X_train=X_train[:,:,:-1]\n",
    "            X_test=X_test[:,:,:-1]\n",
    "\n",
    "    return X_train, X_test, y_train, y_test, X_train_opens, X_test_opens"
   ]
  },
  {
   "cell_type": "code",
   "execution_count": 5,
   "id": "08772638",
   "metadata": {},
   "outputs": [],
   "source": [
    "def encode(encoder,data):\n",
    "    encoded=encoder.encode(torch.tensor(data,device=\"cuda\"))\n",
    "    #if (encoded.shape.shape!=1):\n",
    "    arr=torch.tensor([0 for i in encoded[:,0]],device=\"cuda\")\n",
    "    #print(encoded[:,1])\n",
    "    count=0\n",
    "    for i in range(encoded.shape[1]):\n",
    "        if (set(encoded[:,i].tolist())!={0.0}):\n",
    "            arr=torch.cat((arr,encoded[:,i]),0)\n",
    "            count+=1\n",
    "    arr=torch.reshape(arr,[count+1,encoded.shape[0]])[1:]\n",
    "    arr=torch.reshape(arr,[encoded.shape[0],count])\n",
    "    return arr\n",
    "\n",
    "def tensor_to_sequences(data, window_size=5):\n",
    "    X = []\n",
    "    data=pd.DataFrame(data.tolist())\n",
    "    for i in range(len(data)-window_size):\n",
    "        row = [a for a in (data.iloc[i:i+window_size].values)]\n",
    "        X.append(row)\n",
    "    return np.array(X)"
   ]
  },
  {
   "cell_type": "code",
   "execution_count": null,
   "id": "c2fc590c-e656-4116-886e-a4b244efa98a",
   "metadata": {},
   "outputs": [],
   "source": []
  },
  {
   "cell_type": "code",
   "execution_count": 71,
   "id": "bd20738d",
   "metadata": {},
   "outputs": [],
   "source": [
    "def backtest(\n",
    "net,\n",
    "test_data,\n",
    "test_opens,\n",
    "wallet_start=1000,\n",
    "min_sell_threshold=1.0008, #min value for selling\n",
    "buying_threshold=1.0015, #min prediction for buying\n",
    "purchase_size=0.2,\n",
    "net_repeating=1,\n",
    "comission=0.001,\n",
    "stop_loss=0.985,\n",
    "loss_multiplier=1,\n",
    "loss_count_max=1\n",
    "):\n",
    "\n",
    "\n",
    "    wallet=wallet_start\n",
    "    desired_sell_cost=0\n",
    "    min_sell_value=0\n",
    "    wallet_dynamics=[]\n",
    "    #buying_threshold=upscale(buying_threshold)\n",
    "    #min_sell_threshold=upscale(min_sell_threshold)\n",
    "    buy=0\n",
    "    sell=0\n",
    "    backtest_preds=[]\n",
    "    positions=[]\n",
    "    loss_count=0\n",
    "\n",
    "    for i in range(len(test_data)):\n",
    "        this_open=test_opens[i]\n",
    "        array=[]\n",
    "        preds=[]\n",
    "        for j in range(net_repeating):\n",
    "            array.append(net(torch.tensor([test_data[i]],device=\"cpu\")).tolist()[0])\n",
    "        array=np.asarray(array)\n",
    "        for j in range(len(array[0])):\n",
    "            preds.append(np.mean(array[:,j]))\n",
    "        test_prediction=upscale(preds[0],0.2)*this_open #getting prediction\n",
    "\n",
    "        buying_value=buying_threshold*this_open\n",
    "        backtest_preds.append(test_prediction)\n",
    "        if (buy==0 and test_prediction>buying_value): #buy when prediction > min sell value \n",
    "            buy=1\n",
    "            wallet-=this_open*purchase_size*(1+comission)\n",
    "            desired_sell_cost=min_sell_value\n",
    "            #wallet_dynamics.append(wallet-wallet_start)\n",
    "            min_sell_value=min_sell_threshold*this_open\n",
    "            positions.append(this_open)\n",
    "        if (buy==1 and this_open>=min_sell_value): #sell when cost is at least min sell value\n",
    "            buy=0\n",
    "            wallet+=this_open*purchase_size*(1-comission)\n",
    "            wallet_dynamics.append(wallet-wallet_start)\n",
    "            positions.pop(0)\n",
    "            loss_count=0\n",
    "        if (buy==1 and this_open<positions[0]*stop_loss):\n",
    "            buy=0\n",
    "            wallet+=this_open*purchase_size*(1-comission)\n",
    "            wallet_dynamics.append(wallet-wallet_start)\n",
    "            positions.pop(0)\n",
    "            loss_count=0\n",
    "        if (buy==1 and test_prediction<positions[0]*(1-buying_threshold*loss_multiplier)):\n",
    "            loss_count+=1\n",
    "            if (loss_count>=loss_count_max):\n",
    "                loss_count=0\n",
    "                buy=0\n",
    "                wallet+=this_open*purchase_size*(1-comission)\n",
    "                wallet_dynamics.append(wallet-wallet_start)\n",
    "                positions.pop(0)\n",
    "    #if(buy==1):\n",
    "        #wallet+=test_opens[-1]*purchase_size\n",
    "        #wallet_dynamics.append(wallet-wallet_start)\n",
    "    gc.collect()\n",
    "    return wallet_dynamics"
   ]
  },
  {
   "cell_type": "code",
   "execution_count": 7,
   "id": "d9e77733-e130-4f62-acfe-a6bb01bfe3ac",
   "metadata": {
    "tags": []
   },
   "outputs": [],
   "source": [
    "data=r\"G:\\DS\\Trading\\streamlit\\streamlit_data\\ASRUSDT\\ASRUSDT.csv\"\n",
    "net_path=r\"G:\\DS\\Trading\\streamlit\\streamlit_data\\ASRUSDT\\ASRUSDT.pt\"\n",
    "net=torch.jit.load(net_path,map_location=\"cpu\")\n",
    "net.eval()\n",
    "X_train, X_test, y_train, y_test, X_train_opens, X_test_opens=trading_lstm.prepare_data_for_train(data,device=\"cpu\")\n"
   ]
  },
  {
   "cell_type": "code",
   "execution_count": 80,
   "id": "d53acc06-51be-4f5c-9a53-74b8db7cc8ab",
   "metadata": {},
   "outputs": [
    {
     "name": "stdout",
     "output_type": "stream",
     "text": [
      "[tensor(-0.1925, dtype=torch.float64), tensor(-0.2961, dtype=torch.float64), tensor(-0.3895, dtype=torch.float64), tensor(-0.3750, dtype=torch.float64), tensor(-0.5138, dtype=torch.float64), tensor(-0.4741, dtype=torch.float64), tensor(-0.6015, dtype=torch.float64), tensor(-0.7471, dtype=torch.float64), tensor(-0.7170, dtype=torch.float64), tensor(-0.6405, dtype=torch.float64), tensor(-0.7362, dtype=torch.float64)]\n"
     ]
    }
   ],
   "source": [
    "print(backtest(net,X_train,X_train_opens,stop_loss=0.9,min_sell_threshold=1.01))"
   ]
  },
  {
   "cell_type": "code",
   "execution_count": 9,
   "id": "cefda149-831e-4257-a2b0-9a5a46782bd0",
   "metadata": {},
   "outputs": [
    {
     "data": {
      "text/plain": [
       "tensor(-0.7014, dtype=torch.float64)"
      ]
     },
     "execution_count": 9,
     "metadata": {},
     "output_type": "execute_result"
    }
   ],
   "source": [
    "backtest(net,X_train,X_train_opens)[-1]"
   ]
  },
  {
   "cell_type": "code",
   "execution_count": 6,
   "id": "def454f8",
   "metadata": {},
   "outputs": [],
   "source": [
    "directory=\"G:\\Учеба\\биржа\"\n",
    "symbol=\"ETHUSDT\""
   ]
  },
  {
   "cell_type": "code",
   "execution_count": 7,
   "id": "e22d17c6",
   "metadata": {},
   "outputs": [
    {
     "data": {
      "text/plain": [
       "<All keys matched successfully>"
      ]
     },
     "execution_count": 7,
     "metadata": {},
     "output_type": "execute_result"
    }
   ],
   "source": [
    "encoder=autoencoder(0,41,64,10).cuda().double()\n",
    "encoder.load_state_dict(torch.load(directory+\"\\\\encoder_05-07-2022_22-03-48_64_10.pth\"))\n",
    "#encoder.eval()"
   ]
  },
  {
   "cell_type": "code",
   "execution_count": null,
   "id": "d70fbd1e",
   "metadata": {},
   "outputs": [],
   "source": []
  },
  {
   "cell_type": "code",
   "execution_count": 8,
   "id": "d40d38e2",
   "metadata": {
    "scrolled": true
   },
   "outputs": [],
   "source": [
    "#count=2*365\n",
    "#time_now=datetime.datetime.now()\n",
    "#time_now=round(time_now.timestamp())*1000\n",
    "#df=transform_df(import_api(time_now-12*3600*1000,\"ETHUSDT\",90,\"5m\"))\n",
    "#size=df[\"Open\"].size\n",
    "#df[\"Open\"][size-1]"
   ]
  },
  {
   "cell_type": "code",
   "execution_count": 9,
   "id": "bf048991",
   "metadata": {},
   "outputs": [],
   "source": [
    "#time_now=datetime.datetime.now()\n",
    "#time_now=round(time_now.timestamp())*1000\n",
    "#time_now-=40*24*3600*1000\n",
    "#df1=pd.DataFrame()\n",
    "#for i in range(2*45): #2*365\n",
    "#    df1=import_api(time_now-12*3600*1000*i,symbol,720,\"5m\").append(df1)\n",
    "#df1=transform_df(df1)\n",
    "#df1=preprocess_df(df1,4,24,1,15,1).reset_index(drop=True)"
   ]
  },
  {
   "cell_type": "code",
   "execution_count": 83,
   "id": "85d76483",
   "metadata": {},
   "outputs": [],
   "source": [
    "#df1.to_csv(directory+\"\\\\20_05-25_06_trades_data.csv\")\n",
    "#df1=pd.read_csv(directory+\"\\\\20_06-7_07_trades_data.csv\").reset_index(drop=True).drop(\"Unnamed: 0\",axis=1)\n",
    "#df1=pd.read_csv(directory+\"\\\\1_07-17_07_trades_data.csv\").reset_index(drop=True).drop(\"Unnamed: 0\",axis=1)\n",
    "#df1=pd.read_csv(directory+\"\\\\17_07-2_08_trades_data.csv\").reset_index(drop=True).drop(\"Unnamed: 0\",axis=1)\n",
    "#df1=pd.read_csv(directory+\"\\\\5_07-5_08_trades_data.csv\").reset_index(drop=True).drop(\"Unnamed: 0\",axis=1)\n",
    "df1=pd.read_csv(data).reset_index(drop=True)"
   ]
  },
  {
   "cell_type": "code",
   "execution_count": null,
   "id": "552757c5",
   "metadata": {},
   "outputs": [],
   "source": []
  },
  {
   "cell_type": "code",
   "execution_count": 84,
   "id": "da4112b6",
   "metadata": {},
   "outputs": [],
   "source": [
    "leftover=10\n",
    "beginning=-(5*12*24*8)\n",
    "opens=df1[\"Open\"]\n",
    "test_opens=np.asarray(df1[\"Open\"][beginning:-leftover])\n",
    "#encoded=encode(encoder,df1.drop([\"Open\",\"target\"],axis=1).to_numpy()[:]).tolist()\n",
    "#encoded=torch.tensor(encoded,device=\"cuda\")\n",
    "#window_size=30\n",
    "#seq=tensor_to_sequences(encoded[-(window_size+1):],window_size)\n",
    "#test_data=tensor_to_sequences(encoded[beginning:-leftover],window_size)\n",
    "#for i in range(len(test_data)):\n",
    "#        for j in range(test_data[i].shape[0]):\n",
    "#            test_data[i][j]=np.array(test_data[i][j])"
   ]
  },
  {
   "cell_type": "code",
   "execution_count": 85,
   "id": "13705bdc",
   "metadata": {
    "collapsed": true,
    "jupyter": {
     "outputs_hidden": true
    },
    "scrolled": true,
    "tags": []
   },
   "outputs": [
    {
     "data": {
      "text/plain": [
       "<AxesSubplot: >"
      ]
     },
     "execution_count": 85,
     "metadata": {},
     "output_type": "execute_result"
    },
    {
     "data": {
      "image/png": "[encoded data removed]",
      "text/plain": [
       "<Figure size 640x480 with 1 Axes>"
      ]
     },
     "metadata": {},
     "output_type": "display_data"
    }
   ],
   "source": [
    "pd.DataFrame(test_opens)[:].plot()"
   ]
  },
  {
   "cell_type": "code",
   "execution_count": 13,
   "id": "a8659cca",
   "metadata": {},
   "outputs": [],
   "source": [
    "names=[\"\\\\net_15-07-2022_15-18-03_3_64\",\n",
    "       \"\\\\net_12-07-2022_16-24-30_3_64\",\n",
    "       \"\\\\net_12-07-2022_17-54-06_3_128\",\n",
    "      \"\\\\net_16-07-2022_22-45-20_3_64\",\n",
    "      \"\\\\net_17-07-2022_00-01-19_3_64\",\n",
    "      \"\\\\net_23-07-2022_16-40-32_3_96\",\n",
    "      \"\\\\net_25-07-2022_13-34-39_3_96\",#6\n",
    "      \"\\\\net_25-07-2022_16-58-19_3_96\"]"
   ]
  },
  {
   "cell_type": "code",
   "execution_count": 14,
   "id": "df5caa2f",
   "metadata": {},
   "outputs": [
    {
     "data": {
      "text/plain": [
       "<All keys matched successfully>"
      ]
     },
     "execution_count": 14,
     "metadata": {},
     "output_type": "execute_result"
    }
   ],
   "source": [
    "name=names[7]\n",
    "path=directory+name\n",
    "net=Net(0.6,96,3).cuda().double()\n",
    "net.load_state_dict(torch.load(path+\".pth\"))\n",
    "#net.eval()"
   ]
  },
  {
   "cell_type": "code",
   "execution_count": null,
   "id": "f77b200b",
   "metadata": {},
   "outputs": [],
   "source": []
  },
  {
   "cell_type": "code",
   "execution_count": 92,
   "id": "3e838c6c",
   "metadata": {
    "collapsed": true,
    "jupyter": {
     "outputs_hidden": true
    },
    "scrolled": true,
    "tags": []
   },
   "outputs": [
    {
     "ename": "KeyError",
     "evalue": "0",
     "output_type": "error",
     "traceback": [
      "\u001b[1;31m---------------------------------------------------------------------------\u001b[0m",
      "\u001b[1;31mKeyError\u001b[0m                                  Traceback (most recent call last)",
      "File \u001b[1;32mG:\\anaconda3\\envs\\trading_streamlit\\lib\\site-packages\\pandas\\core\\indexes\\base.py:3803\u001b[0m, in \u001b[0;36mIndex.get_loc\u001b[1;34m(self, key, method, tolerance)\u001b[0m\n\u001b[0;32m   3802\u001b[0m \u001b[38;5;28;01mtry\u001b[39;00m:\n\u001b[1;32m-> 3803\u001b[0m     \u001b[38;5;28;01mreturn\u001b[39;00m \u001b[38;5;28;43mself\u001b[39;49m\u001b[38;5;241;43m.\u001b[39;49m\u001b[43m_engine\u001b[49m\u001b[38;5;241;43m.\u001b[39;49m\u001b[43mget_loc\u001b[49m\u001b[43m(\u001b[49m\u001b[43mcasted_key\u001b[49m\u001b[43m)\u001b[49m\n\u001b[0;32m   3804\u001b[0m \u001b[38;5;28;01mexcept\u001b[39;00m \u001b[38;5;167;01mKeyError\u001b[39;00m \u001b[38;5;28;01mas\u001b[39;00m err:\n",
      "File \u001b[1;32mG:\\anaconda3\\envs\\trading_streamlit\\lib\\site-packages\\pandas\\_libs\\index.pyx:138\u001b[0m, in \u001b[0;36mpandas._libs.index.IndexEngine.get_loc\u001b[1;34m()\u001b[0m\n",
      "File \u001b[1;32mG:\\anaconda3\\envs\\trading_streamlit\\lib\\site-packages\\pandas\\_libs\\index.pyx:165\u001b[0m, in \u001b[0;36mpandas._libs.index.IndexEngine.get_loc\u001b[1;34m()\u001b[0m\n",
      "File \u001b[1;32mpandas\\_libs\\hashtable_class_helper.pxi:5745\u001b[0m, in \u001b[0;36mpandas._libs.hashtable.PyObjectHashTable.get_item\u001b[1;34m()\u001b[0m\n",
      "File \u001b[1;32mpandas\\_libs\\hashtable_class_helper.pxi:5753\u001b[0m, in \u001b[0;36mpandas._libs.hashtable.PyObjectHashTable.get_item\u001b[1;34m()\u001b[0m\n",
      "\u001b[1;31mKeyError\u001b[0m: 0",
      "\nThe above exception was the direct cause of the following exception:\n",
      "\u001b[1;31mKeyError\u001b[0m                                  Traceback (most recent call last)",
      "Cell \u001b[1;32mIn[92], line 9\u001b[0m\n\u001b[0;32m      7\u001b[0m ressss\u001b[38;5;241m=\u001b[39m[]\n\u001b[0;32m      8\u001b[0m \u001b[38;5;28;01mfor\u001b[39;00m i \u001b[38;5;129;01min\u001b[39;00m \u001b[38;5;28mrange\u001b[39m(\u001b[38;5;241m100\u001b[39m):\n\u001b[1;32m----> 9\u001b[0m     backtest_results\u001b[38;5;241m=\u001b[39m\u001b[43mbacktest\u001b[49m\u001b[43m(\u001b[49m\u001b[43mnet\u001b[49m\u001b[43m,\u001b[49m\u001b[43mdf1\u001b[49m\u001b[38;5;241;43m.\u001b[39;49m\u001b[43mdrop\u001b[49m\u001b[43m(\u001b[49m\u001b[38;5;124;43m\"\u001b[39;49m\u001b[38;5;124;43mOpen\u001b[39;49m\u001b[38;5;124;43m\"\u001b[39;49m\u001b[43m,\u001b[49m\u001b[43maxis\u001b[49m\u001b[38;5;241;43m=\u001b[39;49m\u001b[38;5;241;43m1\u001b[39;49m\u001b[43m)\u001b[49m\u001b[38;5;241;43m.\u001b[39;49m\u001b[43mreset_index\u001b[49m\u001b[43m(\u001b[49m\u001b[43mdrop\u001b[49m\u001b[38;5;241;43m=\u001b[39;49m\u001b[38;5;28;43;01mTrue\u001b[39;49;00m\u001b[43m)\u001b[49m\u001b[43m,\u001b[49m\u001b[43mopens\u001b[49m\u001b[43m,\u001b[49m\u001b[43mwallet_start\u001b[49m\u001b[38;5;241;43m=\u001b[39;49m\u001b[38;5;241;43m1000\u001b[39;49m\u001b[43m,\u001b[49m\u001b[43mmin_sell_threshold\u001b[49m\u001b[38;5;241;43m=\u001b[39;49m\u001b[38;5;241;43m1\u001b[39;49m\u001b[38;5;241;43m+\u001b[39;49m\u001b[43mmin_sell\u001b[49m\u001b[43m,\u001b[49m\u001b[43mbuying_threshold\u001b[49m\u001b[38;5;241;43m=\u001b[39;49m\u001b[38;5;241;43m1\u001b[39;49m\u001b[38;5;241;43m+\u001b[39;49m\u001b[43mbuying_threshold\u001b[49m\u001b[43m,\u001b[49m\u001b[43mpurchase_size\u001b[49m\u001b[38;5;241;43m=\u001b[39;49m\u001b[38;5;241;43m0.01\u001b[39;49m\u001b[43m,\u001b[49m\u001b[43mnet_repeating\u001b[49m\u001b[38;5;241;43m=\u001b[39;49m\u001b[43mnet_repeating\u001b[49m\u001b[43m,\u001b[49m\u001b[43mcomission\u001b[49m\u001b[38;5;241;43m=\u001b[39;49m\u001b[38;5;241;43m0.001\u001b[39;49m\u001b[43m,\u001b[49m\u001b[43mstop_loss\u001b[49m\u001b[38;5;241;43m=\u001b[39;49m\u001b[38;5;241;43m1\u001b[39;49m\u001b[38;5;241;43m-\u001b[39;49m\u001b[43mstop_loss\u001b[49m\u001b[43m,\u001b[49m\u001b[43mloss_multiplier\u001b[49m\u001b[38;5;241;43m=\u001b[39;49m\u001b[43mloss_multiplier\u001b[49m\u001b[43m,\u001b[49m\u001b[43mloss_count_max\u001b[49m\u001b[38;5;241;43m=\u001b[39;49m\u001b[43mloss_count_max\u001b[49m\u001b[43m)\u001b[49m\n\u001b[0;32m     10\u001b[0m     \u001b[38;5;28;01mif\u001b[39;00m (backtest_results\u001b[38;5;241m!=\u001b[39m[]):\n\u001b[0;32m     11\u001b[0m         ressss\u001b[38;5;241m.\u001b[39mappend(backtest_results[\u001b[38;5;241m-\u001b[39m\u001b[38;5;241m1\u001b[39m])\n",
      "Cell \u001b[1;32mIn[9], line 34\u001b[0m, in \u001b[0;36mbacktest\u001b[1;34m(net, test_data, test_opens, wallet_start, min_sell_threshold, buying_threshold, purchase_size, net_repeating, comission, stop_loss, loss_multiplier, loss_count_max)\u001b[0m\n\u001b[0;32m     32\u001b[0m preds\u001b[38;5;241m=\u001b[39m[]\n\u001b[0;32m     33\u001b[0m \u001b[38;5;28;01mfor\u001b[39;00m j \u001b[38;5;129;01min\u001b[39;00m \u001b[38;5;28mrange\u001b[39m(net_repeating):\n\u001b[1;32m---> 34\u001b[0m     array\u001b[38;5;241m.\u001b[39mappend(net(torch\u001b[38;5;241m.\u001b[39mtensor([\u001b[43mtest_data\u001b[49m\u001b[43m[\u001b[49m\u001b[43mi\u001b[49m\u001b[43m]\u001b[49m],device\u001b[38;5;241m=\u001b[39m\u001b[38;5;124m\"\u001b[39m\u001b[38;5;124mcpu\u001b[39m\u001b[38;5;124m\"\u001b[39m))\u001b[38;5;241m.\u001b[39mtolist()[\u001b[38;5;241m0\u001b[39m])\n\u001b[0;32m     35\u001b[0m array\u001b[38;5;241m=\u001b[39mnp\u001b[38;5;241m.\u001b[39masarray(array)\n\u001b[0;32m     36\u001b[0m \u001b[38;5;28;01mfor\u001b[39;00m j \u001b[38;5;129;01min\u001b[39;00m \u001b[38;5;28mrange\u001b[39m(\u001b[38;5;28mlen\u001b[39m(array[\u001b[38;5;241m0\u001b[39m])):\n",
      "File \u001b[1;32mG:\\anaconda3\\envs\\trading_streamlit\\lib\\site-packages\\pandas\\core\\frame.py:3805\u001b[0m, in \u001b[0;36mDataFrame.__getitem__\u001b[1;34m(self, key)\u001b[0m\n\u001b[0;32m   3803\u001b[0m \u001b[38;5;28;01mif\u001b[39;00m \u001b[38;5;28mself\u001b[39m\u001b[38;5;241m.\u001b[39mcolumns\u001b[38;5;241m.\u001b[39mnlevels \u001b[38;5;241m>\u001b[39m \u001b[38;5;241m1\u001b[39m:\n\u001b[0;32m   3804\u001b[0m     \u001b[38;5;28;01mreturn\u001b[39;00m \u001b[38;5;28mself\u001b[39m\u001b[38;5;241m.\u001b[39m_getitem_multilevel(key)\n\u001b[1;32m-> 3805\u001b[0m indexer \u001b[38;5;241m=\u001b[39m \u001b[38;5;28;43mself\u001b[39;49m\u001b[38;5;241;43m.\u001b[39;49m\u001b[43mcolumns\u001b[49m\u001b[38;5;241;43m.\u001b[39;49m\u001b[43mget_loc\u001b[49m\u001b[43m(\u001b[49m\u001b[43mkey\u001b[49m\u001b[43m)\u001b[49m\n\u001b[0;32m   3806\u001b[0m \u001b[38;5;28;01mif\u001b[39;00m is_integer(indexer):\n\u001b[0;32m   3807\u001b[0m     indexer \u001b[38;5;241m=\u001b[39m [indexer]\n",
      "File \u001b[1;32mG:\\anaconda3\\envs\\trading_streamlit\\lib\\site-packages\\pandas\\core\\indexes\\base.py:3805\u001b[0m, in \u001b[0;36mIndex.get_loc\u001b[1;34m(self, key, method, tolerance)\u001b[0m\n\u001b[0;32m   3803\u001b[0m     \u001b[38;5;28;01mreturn\u001b[39;00m \u001b[38;5;28mself\u001b[39m\u001b[38;5;241m.\u001b[39m_engine\u001b[38;5;241m.\u001b[39mget_loc(casted_key)\n\u001b[0;32m   3804\u001b[0m \u001b[38;5;28;01mexcept\u001b[39;00m \u001b[38;5;167;01mKeyError\u001b[39;00m \u001b[38;5;28;01mas\u001b[39;00m err:\n\u001b[1;32m-> 3805\u001b[0m     \u001b[38;5;28;01mraise\u001b[39;00m \u001b[38;5;167;01mKeyError\u001b[39;00m(key) \u001b[38;5;28;01mfrom\u001b[39;00m \u001b[38;5;21;01merr\u001b[39;00m\n\u001b[0;32m   3806\u001b[0m \u001b[38;5;28;01mexcept\u001b[39;00m \u001b[38;5;167;01mTypeError\u001b[39;00m:\n\u001b[0;32m   3807\u001b[0m     \u001b[38;5;66;03m# If we have a listlike key, _check_indexing_error will raise\u001b[39;00m\n\u001b[0;32m   3808\u001b[0m     \u001b[38;5;66;03m#  InvalidIndexError. Otherwise we fall through and re-raise\u001b[39;00m\n\u001b[0;32m   3809\u001b[0m     \u001b[38;5;66;03m#  the TypeError.\u001b[39;00m\n\u001b[0;32m   3810\u001b[0m     \u001b[38;5;28mself\u001b[39m\u001b[38;5;241m.\u001b[39m_check_indexing_error(key)\n",
      "\u001b[1;31mKeyError\u001b[0m: 0"
     ]
    }
   ],
   "source": [
    "min_sell=0.004\n",
    "buying_threshold=0.003\n",
    "stop_loss=0.15\n",
    "loss_multiplier=3\n",
    "loss_count_max=3\n",
    "net_repeating=3\n",
    "ressss=[]\n",
    "for i in range(100):\n",
    "    backtest_results=backtest(net,df1.drop(\"Open\",axis=1).reset_index(drop=True),opens,wallet_start=1000,min_sell_threshold=1+min_sell,buying_threshold=1+buying_threshold,purchase_size=0.01,net_repeating=net_repeating,comission=0.001,stop_loss=1-stop_loss,loss_multiplier=loss_multiplier,loss_count_max=loss_count_max)\n",
    "    if (backtest_results!=[]):\n",
    "        ressss.append(backtest_results[-1])\n",
    "    else:\n",
    "        ressss.append([0])"
   ]
  },
  {
   "cell_type": "code",
   "execution_count": 40,
   "id": "281b4adc",
   "metadata": {},
   "outputs": [],
   "source": [
    "#pd.DataFrame(backtest_results).plot()"
   ]
  },
  {
   "cell_type": "code",
   "execution_count": 32,
   "id": "53524b8b",
   "metadata": {},
   "outputs": [
    {
     "data": {
      "text/plain": [
       "'C:\\\\Users\\\\danielbordach'"
      ]
     },
     "execution_count": 32,
     "metadata": {},
     "output_type": "execute_result"
    }
   ],
   "source": [
    "os.getcwd()"
   ]
  },
  {
   "cell_type": "code",
   "execution_count": 33,
   "id": "5695725e",
   "metadata": {},
   "outputs": [
    {
     "name": "stderr",
     "output_type": "stream",
     "text": [
      "G:\\anaconda3\\lib\\site-packages\\numpy\\core\\fromnumeric.py:997: VisibleDeprecationWarning: Creating an ndarray from ragged nested sequences (which is a list-or-tuple of lists-or-tuples-or ndarrays with different lengths or shapes) is deprecated. If you meant to do this, you must specify 'dtype=object' when creating the ndarray.\n",
      "  a = asanyarray(a).copy(order=\"K\")\n"
     ]
    },
    {
     "data": {
      "text/plain": [
       "<AxesSubplot:>"
      ]
     },
     "execution_count": 33,
     "metadata": {},
     "output_type": "execute_result"
    },
    {
     "data": {
      "image/png": "[encoded data removed]",
      "text/plain": [
       "<Figure size 432x288 with 1 Axes>"
      ]
     },
     "metadata": {
      "needs_background": "light"
     },
     "output_type": "display_data"
    }
   ],
   "source": [
    "pd.DataFrame([np.sort(ressss),[0 for i in range(len(ressss))]]).T.plot()\n",
    "#3"
   ]
  },
  {
   "cell_type": "code",
   "execution_count": 30,
   "id": "b6f09838",
   "metadata": {},
   "outputs": [
    {
     "name": "stderr",
     "output_type": "stream",
     "text": [
      "G:\\anaconda3\\lib\\site-packages\\numpy\\core\\fromnumeric.py:997: VisibleDeprecationWarning: Creating an ndarray from ragged nested sequences (which is a list-or-tuple of lists-or-tuples-or ndarrays with different lengths or shapes) is deprecated. If you meant to do this, you must specify 'dtype=object' when creating the ndarray.\n",
      "  a = asanyarray(a).copy(order=\"K\")\n"
     ]
    },
    {
     "data": {
      "text/html": [
       "<div>\n",
       "<style scoped>\n",
       "    .dataframe tbody tr th:only-of-type {\n",
       "        vertical-align: middle;\n",
       "    }\n",
       "\n",
       "    .dataframe tbody tr th {\n",
       "        vertical-align: top;\n",
       "    }\n",
       "\n",
       "    .dataframe thead th {\n",
       "        text-align: right;\n",
       "    }\n",
       "</style>\n",
       "<table border=\"1\" class=\"dataframe\">\n",
       "  <thead>\n",
       "    <tr style=\"text-align: right;\">\n",
       "      <th></th>\n",
       "      <th>0</th>\n",
       "      <th>1</th>\n",
       "    </tr>\n",
       "  </thead>\n",
       "  <tbody>\n",
       "    <tr>\n",
       "      <th>count</th>\n",
       "      <td>100</td>\n",
       "      <td>100.0</td>\n",
       "    </tr>\n",
       "    <tr>\n",
       "      <th>unique</th>\n",
       "      <td>99</td>\n",
       "      <td>1.0</td>\n",
       "    </tr>\n",
       "    <tr>\n",
       "      <th>top</th>\n",
       "      <td>[0]</td>\n",
       "      <td>0.0</td>\n",
       "    </tr>\n",
       "    <tr>\n",
       "      <th>freq</th>\n",
       "      <td>2</td>\n",
       "      <td>100.0</td>\n",
       "    </tr>\n",
       "  </tbody>\n",
       "</table>\n",
       "</div>"
      ],
      "text/plain": [
       "          0      1\n",
       "count   100  100.0\n",
       "unique   99    1.0\n",
       "top     [0]    0.0\n",
       "freq      2  100.0"
      ]
     },
     "execution_count": 30,
     "metadata": {},
     "output_type": "execute_result"
    }
   ],
   "source": [
    "pd.DataFrame([np.sort(ressss),[0 for i in range(len(ressss))]]).T.describe()"
   ]
  },
  {
   "cell_type": "code",
   "execution_count": 33,
   "id": "0bbd693b",
   "metadata": {},
   "outputs": [
    {
     "name": "stderr",
     "output_type": "stream",
     "text": [
      "G:\\anaconda3\\lib\\site-packages\\torch\\nn\\functional.py:1933: UserWarning: nn.functional.tanh is deprecated. Use torch.tanh instead.\n",
      "  warnings.warn(\"nn.functional.tanh is deprecated. Use torch.tanh instead.\")\n"
     ]
    }
   ],
   "source": [
    "ressss_no_net=[]\n",
    "for i in range(4):\n",
    "    backtest_results_no_net=backtest(net,wallet_start=1000,min_sell_threshold=1.002,buying_threshold=0.5,purchase_size=0.002,net_repeating=1,comission=0.001,stop_loss=0.85)\n",
    "    ressss_no_net.append(backtest_results_no_net[-1])"
   ]
  },
  {
   "cell_type": "code",
   "execution_count": 34,
   "id": "3870039c",
   "metadata": {},
   "outputs": [
    {
     "data": {
      "text/plain": [
       "<AxesSubplot:>"
      ]
     },
     "execution_count": 34,
     "metadata": {},
     "output_type": "execute_result"
    },
    {
     "data": {
      "image/png": "[encoded data removed]",
      "text/plain": [
       "<Figure size 432x288 with 1 Axes>"
      ]
     },
     "metadata": {
      "needs_background": "light"
     },
     "output_type": "display_data"
    }
   ],
   "source": [
    "pd.DataFrame([np.sort(ressss_no_net),[0 for i in range(len(ressss_no_net))]]).T.plot()"
   ]
  },
  {
   "cell_type": "code",
   "execution_count": 35,
   "id": "6dd7de3b",
   "metadata": {},
   "outputs": [
    {
     "data": {
      "text/html": [
       "<div>\n",
       "<style scoped>\n",
       "    .dataframe tbody tr th:only-of-type {\n",
       "        vertical-align: middle;\n",
       "    }\n",
       "\n",
       "    .dataframe tbody tr th {\n",
       "        vertical-align: top;\n",
       "    }\n",
       "\n",
       "    .dataframe thead th {\n",
       "        text-align: right;\n",
       "    }\n",
       "</style>\n",
       "<table border=\"1\" class=\"dataframe\">\n",
       "  <thead>\n",
       "    <tr style=\"text-align: right;\">\n",
       "      <th></th>\n",
       "      <th>0</th>\n",
       "      <th>1</th>\n",
       "    </tr>\n",
       "  </thead>\n",
       "  <tbody>\n",
       "    <tr>\n",
       "      <th>count</th>\n",
       "      <td>4.000000</td>\n",
       "      <td>4.0</td>\n",
       "    </tr>\n",
       "    <tr>\n",
       "      <th>mean</th>\n",
       "      <td>0.276864</td>\n",
       "      <td>0.0</td>\n",
       "    </tr>\n",
       "    <tr>\n",
       "      <th>std</th>\n",
       "      <td>0.000000</td>\n",
       "      <td>0.0</td>\n",
       "    </tr>\n",
       "    <tr>\n",
       "      <th>min</th>\n",
       "      <td>0.276864</td>\n",
       "      <td>0.0</td>\n",
       "    </tr>\n",
       "    <tr>\n",
       "      <th>25%</th>\n",
       "      <td>0.276864</td>\n",
       "      <td>0.0</td>\n",
       "    </tr>\n",
       "    <tr>\n",
       "      <th>50%</th>\n",
       "      <td>0.276864</td>\n",
       "      <td>0.0</td>\n",
       "    </tr>\n",
       "    <tr>\n",
       "      <th>75%</th>\n",
       "      <td>0.276864</td>\n",
       "      <td>0.0</td>\n",
       "    </tr>\n",
       "    <tr>\n",
       "      <th>max</th>\n",
       "      <td>0.276864</td>\n",
       "      <td>0.0</td>\n",
       "    </tr>\n",
       "  </tbody>\n",
       "</table>\n",
       "</div>"
      ],
      "text/plain": [
       "              0    1\n",
       "count  4.000000  4.0\n",
       "mean   0.276864  0.0\n",
       "std    0.000000  0.0\n",
       "min    0.276864  0.0\n",
       "25%    0.276864  0.0\n",
       "50%    0.276864  0.0\n",
       "75%    0.276864  0.0\n",
       "max    0.276864  0.0"
      ]
     },
     "execution_count": 35,
     "metadata": {},
     "output_type": "execute_result"
    }
   ],
   "source": [
    "pd.DataFrame([np.sort(ressss_no_net),[0 for i in range(len(ressss_no_net))]]).T.describe()"
   ]
  },
  {
   "cell_type": "code",
   "execution_count": 98,
   "id": "a10e7e82",
   "metadata": {},
   "outputs": [],
   "source": [
    "#pd.DataFrame(backtest_results).plot()"
   ]
  },
  {
   "cell_type": "code",
   "execution_count": null,
   "id": "ed520616",
   "metadata": {
    "scrolled": true
   },
   "outputs": [],
   "source": []
  },
  {
   "cell_type": "code",
   "execution_count": 77,
   "id": "bac36e68",
   "metadata": {},
   "outputs": [],
   "source": [
    "#backtest_results[150]"
   ]
  },
  {
   "cell_type": "code",
   "execution_count": 94,
   "id": "50693f6c-c341-4eef-bfe4-83bd2fd176fc",
   "metadata": {},
   "outputs": [
    {
     "data": {
      "text/plain": [
       "array([0.5       , 0.5       , 0.        , 0.83333333, 2.963     ,\n",
       "       0.50232028, 0.50105467, 0.5006328 , 0.49963086, 0.49977149,\n",
       "       0.51406232, 0.5226462 , 0.5370762 , 0.53771164, 0.5       ,\n",
       "       0.17777778])"
      ]
     },
     "execution_count": 94,
     "metadata": {},
     "output_type": "execute_result"
    }
   ],
   "source": [
    "X_train[0]"
   ]
  },
  {
   "cell_type": "code",
   "execution_count": 94,
   "id": "3baa3ac7",
   "metadata": {
    "tags": []
   },
   "outputs": [
    {
     "name": "stdout",
     "output_type": "stream",
     "text": [
      "0.001\n",
      "0.0015\n",
      "0.002\n",
      "0.0025\n"
     ]
    },
    {
     "ename": "KeyboardInterrupt",
     "evalue": "",
     "output_type": "error",
     "traceback": [
      "\u001b[1;31m---------------------------------------------------------------------------\u001b[0m",
      "\u001b[1;31mKeyboardInterrupt\u001b[0m                         Traceback (most recent call last)",
      "Cell \u001b[1;32mIn[94], line 18\u001b[0m\n\u001b[0;32m     16\u001b[0m arr\u001b[38;5;241m=\u001b[39m[]\n\u001b[0;32m     17\u001b[0m \u001b[38;5;28;01mfor\u001b[39;00m i \u001b[38;5;129;01min\u001b[39;00m \u001b[38;5;28mrange\u001b[39m(\u001b[38;5;241m1\u001b[39m):\n\u001b[1;32m---> 18\u001b[0m     backtest_results\u001b[38;5;241m.\u001b[39mappend([\u001b[43mbacktest\u001b[49m\u001b[43m(\u001b[49m\u001b[43mnet\u001b[49m\u001b[43m,\u001b[49m\u001b[43mX_train\u001b[49m\u001b[43m,\u001b[49m\u001b[43mX_train_opens\u001b[49m\u001b[43m,\u001b[49m\u001b[43mmin_sell_threshold\u001b[49m\u001b[38;5;241;43m=\u001b[39;49m\u001b[38;5;241;43m1\u001b[39;49m\u001b[38;5;241;43m+\u001b[39;49m\u001b[43msell\u001b[49m\u001b[43m,\u001b[49m\u001b[43mbuying_threshold\u001b[49m\u001b[38;5;241;43m=\u001b[39;49m\u001b[38;5;241;43m1\u001b[39;49m\u001b[38;5;241;43m+\u001b[39;49m\u001b[43mbuy\u001b[49m\u001b[43m,\u001b[49m\u001b[43mstop_loss\u001b[49m\u001b[38;5;241;43m=\u001b[39;49m\u001b[43mstop\u001b[49m\u001b[43m)\u001b[49m,stop_loss])\n\u001b[0;32m     19\u001b[0m     arr\u001b[38;5;241m.\u001b[39mappend(backtest_results[\u001b[38;5;241m-\u001b[39m\u001b[38;5;241m1\u001b[39m][\u001b[38;5;241m0\u001b[39m])\n\u001b[0;32m     20\u001b[0m backtest_results_means\u001b[38;5;241m.\u001b[39mappend(np\u001b[38;5;241m.\u001b[39mmean(arr))\n",
      "Cell \u001b[1;32mIn[71], line 34\u001b[0m, in \u001b[0;36mbacktest\u001b[1;34m(net, test_data, test_opens, wallet_start, min_sell_threshold, buying_threshold, purchase_size, net_repeating, comission, stop_loss, loss_multiplier, loss_count_max)\u001b[0m\n\u001b[0;32m     32\u001b[0m preds\u001b[38;5;241m=\u001b[39m[]\n\u001b[0;32m     33\u001b[0m \u001b[38;5;28;01mfor\u001b[39;00m j \u001b[38;5;129;01min\u001b[39;00m \u001b[38;5;28mrange\u001b[39m(net_repeating):\n\u001b[1;32m---> 34\u001b[0m     array\u001b[38;5;241m.\u001b[39mappend(\u001b[43mnet\u001b[49m\u001b[43m(\u001b[49m\u001b[43mtorch\u001b[49m\u001b[38;5;241;43m.\u001b[39;49m\u001b[43mtensor\u001b[49m\u001b[43m(\u001b[49m\u001b[43m[\u001b[49m\u001b[43mtest_data\u001b[49m\u001b[43m[\u001b[49m\u001b[43mi\u001b[49m\u001b[43m]\u001b[49m\u001b[43m]\u001b[49m\u001b[43m,\u001b[49m\u001b[43mdevice\u001b[49m\u001b[38;5;241;43m=\u001b[39;49m\u001b[38;5;124;43m\"\u001b[39;49m\u001b[38;5;124;43mcpu\u001b[39;49m\u001b[38;5;124;43m\"\u001b[39;49m\u001b[43m)\u001b[49m\u001b[43m)\u001b[49m\u001b[38;5;241m.\u001b[39mtolist()[\u001b[38;5;241m0\u001b[39m])\n\u001b[0;32m     35\u001b[0m array\u001b[38;5;241m=\u001b[39mnp\u001b[38;5;241m.\u001b[39masarray(array)\n\u001b[0;32m     36\u001b[0m \u001b[38;5;28;01mfor\u001b[39;00m j \u001b[38;5;129;01min\u001b[39;00m \u001b[38;5;28mrange\u001b[39m(\u001b[38;5;28mlen\u001b[39m(array[\u001b[38;5;241m0\u001b[39m])):\n",
      "File \u001b[1;32mG:\\anaconda3\\envs\\trading_streamlit\\lib\\site-packages\\torch\\nn\\modules\\module.py:1051\u001b[0m, in \u001b[0;36mModule._call_impl\u001b[1;34m(self, *input, **kwargs)\u001b[0m\n\u001b[0;32m   1047\u001b[0m \u001b[38;5;66;03m# If we don't have any hooks, we want to skip the rest of the logic in\u001b[39;00m\n\u001b[0;32m   1048\u001b[0m \u001b[38;5;66;03m# this function, and just call forward.\u001b[39;00m\n\u001b[0;32m   1049\u001b[0m \u001b[38;5;28;01mif\u001b[39;00m \u001b[38;5;129;01mnot\u001b[39;00m (\u001b[38;5;28mself\u001b[39m\u001b[38;5;241m.\u001b[39m_backward_hooks \u001b[38;5;129;01mor\u001b[39;00m \u001b[38;5;28mself\u001b[39m\u001b[38;5;241m.\u001b[39m_forward_hooks \u001b[38;5;129;01mor\u001b[39;00m \u001b[38;5;28mself\u001b[39m\u001b[38;5;241m.\u001b[39m_forward_pre_hooks \u001b[38;5;129;01mor\u001b[39;00m _global_backward_hooks\n\u001b[0;32m   1050\u001b[0m         \u001b[38;5;129;01mor\u001b[39;00m _global_forward_hooks \u001b[38;5;129;01mor\u001b[39;00m _global_forward_pre_hooks):\n\u001b[1;32m-> 1051\u001b[0m     \u001b[38;5;28;01mreturn\u001b[39;00m forward_call(\u001b[38;5;241m*\u001b[39m\u001b[38;5;28minput\u001b[39m, \u001b[38;5;241m*\u001b[39m\u001b[38;5;241m*\u001b[39mkwargs)\n\u001b[0;32m   1052\u001b[0m \u001b[38;5;66;03m# Do not call functions when jit is used\u001b[39;00m\n\u001b[0;32m   1053\u001b[0m full_backward_hooks, non_full_backward_hooks \u001b[38;5;241m=\u001b[39m [], []\n",
      "\u001b[1;31mKeyboardInterrupt\u001b[0m: "
     ]
    }
   ],
   "source": [
    "backtest_results=[]\n",
    "backtest_results_means=[]\n",
    "stop_loss=0.15\n",
    "sell=0.0026\n",
    "net_repeats=1\n",
    "buy=0.0045\n",
    "\n",
    "#for loss_multiplier in range(1,5):\n",
    "#    for loss_count_max in range(2,5):    \n",
    "#        print(loss_count_max)\n",
    "for buy in np.arange(0.001,0.015,0.0005):\n",
    "    print(buy)\n",
    "    for sell in np.arange(0.001,0.015,0.0005):\n",
    "        for net_repeats in range(1):\n",
    "            for stop in np.arange(0.7,0.95,0.02):\n",
    "                arr=[]\n",
    "                for i in range(1):\n",
    "                    backtest_results.append([backtest(net,X_train,X_train_opens,min_sell_threshold=1+sell,buying_threshold=1+buy,stop_loss=stop),stop_loss])\n",
    "                    arr.append(backtest_results[-1][0])\n",
    "                backtest_results_means.append(np.mean(arr))"
   ]
  },
  {
   "cell_type": "code",
   "execution_count": 126,
   "id": "b03301fe-1412-4d44-b698-17861e7f55d8",
   "metadata": {},
   "outputs": [],
   "source": [
    "array=[]\n",
    "for i in backtest_results:\n",
    "    if len(i[0])>0:\n",
    "        array.append(np.array(list(map(lambda x: x.item() , i[0]))))\n",
    "array=np.array(array)\n",
    "res_array=[]\n",
    "for i in array:\n",
    "    if (len(i)>0):\n",
    "        res_array.append(i[-1])\n",
    "res_array=np.array(res_array)\n",
    "max_res_pos=np.argmax(res_array)"
   ]
  },
  {
   "cell_type": "code",
   "execution_count": 127,
   "id": "fb266dac-0ac0-458f-975f-3a3911c40e2f",
   "metadata": {},
   "outputs": [
    {
     "data": {
      "text/plain": [
       "(1125,)"
      ]
     },
     "execution_count": 127,
     "metadata": {},
     "output_type": "execute_result"
    }
   ],
   "source": [
    "res_array.shape"
   ]
  },
  {
   "cell_type": "code",
   "execution_count": null,
   "id": "ef9f9e9f-195a-48e3-a8f7-d43fb6401253",
   "metadata": {},
   "outputs": [],
   "source": []
  },
  {
   "cell_type": "code",
   "execution_count": 128,
   "id": "c0ece3b9-acf8-43bc-a50d-42a6d649b1dd",
   "metadata": {},
   "outputs": [
    {
     "data": {
      "text/plain": [
       "235"
      ]
     },
     "execution_count": 128,
     "metadata": {},
     "output_type": "execute_result"
    }
   ],
   "source": [
    "np.argmax(res_array)"
   ]
  },
  {
   "cell_type": "code",
   "execution_count": 131,
   "id": "cd7f6be0-fdc6-4da6-b257-5ba7ddadb336",
   "metadata": {},
   "outputs": [
    {
     "data": {
      "text/plain": [
       "array([-0.2120756, -0.1891678, -0.1337718, -0.1066762,  0.0104352,\n",
       "        0.0501424, -0.2073742, -0.1890518, -0.1786084, -0.1484552,\n",
       "       -0.0719584,  0.0268348,  0.046605 ,  0.158028 ,  0.1725398,\n",
       "        0.2476068,  0.2689396])"
      ]
     },
     "execution_count": 131,
     "metadata": {},
     "output_type": "execute_result"
    }
   ],
   "source": [
    "array[235]"
   ]
  },
  {
   "cell_type": "code",
   "execution_count": 104,
   "id": "2d94cf23-5dc5-4490-9b4f-b14ecf31a44a",
   "metadata": {},
   "outputs": [
    {
     "ename": "IndexError",
     "evalue": "too many indices for array: array is 1-dimensional, but 2 were indexed",
     "output_type": "error",
     "traceback": [
      "\u001b[1;31m---------------------------------------------------------------------------\u001b[0m",
      "\u001b[1;31mIndexError\u001b[0m                                Traceback (most recent call last)",
      "Cell \u001b[1;32mIn[104], line 1\u001b[0m\n\u001b[1;32m----> 1\u001b[0m \u001b[38;5;28mlen\u001b[39m(\u001b[43marray\u001b[49m\u001b[43m[\u001b[49m\u001b[43m:\u001b[49m\u001b[43m,\u001b[49m\u001b[38;5;241;43m-\u001b[39;49m\u001b[38;5;241;43m1\u001b[39;49m\u001b[43m]\u001b[49m)\n",
      "\u001b[1;31mIndexError\u001b[0m: too many indices for array: array is 1-dimensional, but 2 were indexed"
     ]
    }
   ],
   "source": [
    "len(array[:,-1])"
   ]
  },
  {
   "cell_type": "code",
   "execution_count": 100,
   "id": "019d302a-1ec3-47dc-8311-5c621d68a84f",
   "metadata": {},
   "outputs": [
    {
     "ename": "IndexError",
     "evalue": "too many indices for array: array is 1-dimensional, but 2 were indexed",
     "output_type": "error",
     "traceback": [
      "\u001b[1;31m---------------------------------------------------------------------------\u001b[0m",
      "\u001b[1;31mIndexError\u001b[0m                                Traceback (most recent call last)",
      "Cell \u001b[1;32mIn[100], line 1\u001b[0m\n\u001b[1;32m----> 1\u001b[0m np\u001b[38;5;241m.\u001b[39margmin(\u001b[43marray\u001b[49m\u001b[43m[\u001b[49m\u001b[43m:\u001b[49m\u001b[43m,\u001b[49m\u001b[38;5;241;43m-\u001b[39;49m\u001b[38;5;241;43m1\u001b[39;49m\u001b[43m]\u001b[49m)\n",
      "\u001b[1;31mIndexError\u001b[0m: too many indices for array: array is 1-dimensional, but 2 were indexed"
     ]
    }
   ],
   "source": [
    "np.argmin(array[:,-1])"
   ]
  },
  {
   "cell_type": "code",
   "execution_count": 119,
   "id": "3c864485-9db5-4e77-a9a5-4c09f790f2b6",
   "metadata": {},
   "outputs": [
    {
     "data": {
      "text/plain": [
       "<AxesSubplot: >"
      ]
     },
     "execution_count": 119,
     "metadata": {},
     "output_type": "execute_result"
    },
    {
     "data": {
      "image/png": "[encoded data removed]",
      "text/plain": [
       "<Figure size 640x480 with 1 Axes>"
      ]
     },
     "metadata": {},
     "output_type": "display_data"
    }
   ],
   "source": [
    "pd.DataFrame(array[235]).plot()\n"
   ]
  },
  {
   "cell_type": "code",
   "execution_count": 72,
   "id": "dbe094c7-9c50-4367-8a72-56843f885198",
   "metadata": {},
   "outputs": [
    {
     "data": {
      "text/plain": [
       "array([-0.0011848, -0.0024968, -0.0035404, -0.0048364, -0.0063228,\n",
       "       -0.0074268, -0.008608 , -0.0098036, -0.0108684, -0.0119016,\n",
       "       -0.0130952, -0.0141548, -0.0153812, -0.0164748, -0.0176632,\n",
       "       -0.018698 , -0.020014 , -0.0213236, -0.0223904, -0.0234748,\n",
       "       -0.02465  , -0.0259236, -0.0272316, -0.0283192, -0.0295948,\n",
       "       -0.0306568, -0.0319248, -0.032988 , -0.0341676, -0.035484 ,\n",
       "       -0.0367024, -0.0378896, -0.0391116, -0.0403   , -0.041388 ,\n",
       "       -0.0424876, -0.0437152, -0.0447368, -0.0461008, -0.0471248,\n",
       "       -0.0483496, -0.0494116, -0.0504204, -0.051526 , -0.0526248,\n",
       "       -0.0540864, -0.055114 , -0.0562912, -0.0574064, -0.058452 ,\n",
       "       -0.0596996, -0.0607428, -0.0620612, -0.0631116, -0.0641696,\n",
       "       -0.065224 , -0.066298 , -0.0673644, -0.068434 , -0.0697416,\n",
       "       -0.0709128, -0.0719728, -0.0731608, -0.074408 , -0.0756924,\n",
       "       -0.0767708, -0.0778372, -0.0788912, -0.0800904, -0.0811252,\n",
       "       -0.0822156, -0.0833072, -0.0847368, -0.0857976, -0.0868772,\n",
       "       -0.0881256, -0.0892164, -0.0902432, -0.0915212, -0.0927512,\n",
       "       -0.0940412, -0.0950964, -0.0964436, -0.0974748, -0.0985376,\n",
       "       -0.0995964, -0.100628 , -0.1018316, -0.1030192, -0.1042184,\n",
       "       -0.1052496, -0.1065112, -0.1076864, -0.1087716, -0.1101308,\n",
       "       -0.1111252, -0.1121544, -0.1134132, -0.1146756, -0.1160132,\n",
       "       -0.1171912, -0.1184084, -0.1194708, -0.120628 , -0.121718 ,\n",
       "       -0.1228124, -0.1240572, -0.1251156, -0.1264252, -0.127588 ,\n",
       "       -0.1286636, -0.1301244, -0.131318 , -0.132506 , -0.133782 ,\n",
       "       -0.1351148, -0.1361868, -0.1372176, -0.138276 , -0.139356 ,\n",
       "       -0.1404328, -0.1414356, -0.1426496, -0.1439284, -0.145232 ,\n",
       "       -0.1462836, -0.1475824, -0.1486112, -0.149684 , -0.1507664,\n",
       "       -0.1520496, -0.1531184, -0.1541732, -0.1554488, -0.1566496,\n",
       "       -0.157684 , -0.1587972, -0.1600036, -0.16107  , -0.1620692,\n",
       "       -0.1630644, -0.164338 , -0.16541  , -0.16678  , -0.1678832,\n",
       "       -0.1689464, -0.1700076, -0.1710524, -0.17216  , -0.173388 ,\n",
       "       -0.174476 , -0.1758444, -0.1770284, -0.1782216, -0.1792696,\n",
       "       -0.18034  , -0.181452 , -0.1824732, -0.1835084, -0.184706 ,\n",
       "       -0.1859412, -0.1870036, -0.1880324, -0.1891224, -0.1901604,\n",
       "       -0.1913508, -0.1924032, -0.1936064, -0.1948076, -0.1958684,\n",
       "       -0.1968716, -0.1981364, -0.1992224, -0.2004768, -0.2015456,\n",
       "       -0.2025676, -0.2038544, -0.2051016, -0.2061368, -0.2071824,\n",
       "       -0.2082592, -0.2094952, -0.2105472, -0.2117268, -0.212878 ,\n",
       "       -0.2140416, -0.2152252, -0.2163008, -0.2175556, -0.2186156,\n",
       "       -0.2196476, -0.220852 , -0.2219436, -0.2232008, -0.2242568,\n",
       "       -0.225316 , -0.2266508, -0.2277104, -0.2287604, -0.2300728,\n",
       "       -0.2311788, -0.232786 , -0.234092 , -0.2351384, -0.236172 ,\n",
       "       -0.2374964, -0.2385076, -0.2395756, -0.2406332, -0.241684 ,\n",
       "       -0.2427104, -0.2439916, -0.2450244, -0.24606  , -0.2471188,\n",
       "       -0.2481708, -0.2492148, -0.2503484, -0.2513844, -0.2524648,\n",
       "       -0.2534868, -0.2545212, -0.2555884, -0.2566452, -0.2578484,\n",
       "       -0.2588824, -0.259922 , -0.2614948, -0.2628156, -0.263876 ,\n",
       "       -0.265154 , -0.2664468, -0.2676568, -0.2688528, -0.2698864,\n",
       "       -0.271102 , -0.2721644, -0.2732208, -0.2745284, -0.2756228,\n",
       "       -0.276656 , -0.2776924, -0.2787644, -0.2797636, -0.2808576,\n",
       "       -0.2821772, -0.2832448, -0.2843132, -0.2857548, -0.2867956,\n",
       "       -0.2878672, -0.2889464, -0.28999  , -0.2911716, -0.292226 ,\n",
       "       -0.293488 , -0.2947128, -0.2958036, -0.2968948, -0.2981288,\n",
       "       -0.2991612, -0.30022  , -0.3014912, -0.3027176, -0.3037468,\n",
       "       -0.3048288, -0.3058868, -0.3071884, -0.3083928, -0.3096672,\n",
       "       -0.3109628, -0.3120144, -0.3131104, -0.314296 , -0.3153172,\n",
       "       -0.3163192, -0.3175772, -0.3188048, -0.3198556, -0.3209196,\n",
       "       -0.3219864, -0.3232836, -0.3245052, -0.3255732, -0.3268996,\n",
       "       -0.3282444, -0.3293004, -0.3306132, -0.3316576, -0.3329604,\n",
       "       -0.3342616, -0.3354896, -0.3367984, -0.3377984, -0.3388264,\n",
       "       -0.3398912, -0.3409484, -0.3422408, -0.3433084, -0.3443424,\n",
       "       -0.3455612, -0.3468396, -0.347914 , -0.3489796, -0.3502916,\n",
       "       -0.3514932, -0.3525792, -0.3536688, -0.3550372, -0.3562248,\n",
       "       -0.3572816, -0.3583732, -0.3596972, -0.3607692, -0.3618352,\n",
       "       -0.3630568, -0.3641168, -0.3652772, -0.3663252, -0.3675888,\n",
       "       -0.3687544, -0.36996  , -0.37106  , -0.3720876, -0.3732824,\n",
       "       -0.3745276, -0.3756916, -0.3769988, -0.378098 , -0.3791136,\n",
       "       -0.3801916, -0.38156  , -0.3826448, -0.3836748, -0.3849708,\n",
       "       -0.386028 , -0.3872936, -0.3883572, -0.3896476, -0.3908084,\n",
       "       -0.3920172, -0.3932172, -0.3942728, -0.3954756, -0.396532 ,\n",
       "       -0.3975956, -0.3986544, -0.3999792, -0.4010028, -0.4020012,\n",
       "       -0.4033304, -0.4044848, -0.4057276, -0.4067648, -0.4079752,\n",
       "       -0.40902  , -0.4102184, -0.4112796, -0.4125044, -0.4138768,\n",
       "       -0.4151564, -0.4161888, -0.4172144, -0.4183952, -0.4194504,\n",
       "       -0.4204808, -0.4216736, -0.423126 , -0.4241912, -0.4253996,\n",
       "       -0.42668  , -0.42788  , -0.4289176, -0.430142 , -0.4312352,\n",
       "       -0.4324292, -0.4334924, -0.4346656, -0.4359256, -0.4369988,\n",
       "       -0.4383144, -0.439344 , -0.4405316, -0.4415872, -0.4426136,\n",
       "       -0.4437876, -0.4448568, -0.445876 , -0.4469912, -0.4482184,\n",
       "       -0.449284 , -0.4504856, -0.4517652, -0.4530228, -0.4540808,\n",
       "       -0.4553856, -0.4564308, -0.4577492, -0.459234 , -0.4602648,\n",
       "       -0.4613088, -0.4625132, -0.463836 , -0.465022 , -0.4660896,\n",
       "       -0.4673124, -0.4686524, -0.4698272, -0.4709852, -0.4719764,\n",
       "       -0.4730832, -0.4741836, -0.4752344, -0.4765412, -0.47759  ,\n",
       "       -0.4786764, -0.4797584, -0.4808272, -0.4818236, -0.4830324,\n",
       "       -0.4842832, -0.4854832, -0.4865744, -0.487778 , -0.4889788,\n",
       "       -0.4900392, -0.491264 , -0.4923132, -0.4936236, -0.494688 ,\n",
       "       -0.4957496, -0.4968244, -0.4978864, -0.499176 , -0.5002616,\n",
       "       -0.501324 , -0.502324 , -0.5034116, -0.504684 , -0.5058392,\n",
       "       -0.50704  , -0.5081124, -0.50918  , -0.5102064, -0.511382 ,\n",
       "       -0.5124388, -0.5136972, -0.5147412, -0.515982 , -0.5170572,\n",
       "       -0.5183612, -0.519392 , -0.5204348, -0.5214944, -0.522516 ,\n",
       "       -0.523704 , -0.525    , -0.5260296, -0.5272368, -0.5282332,\n",
       "       -0.5293004, -0.530492 , -0.531696 , -0.5329816, -0.5340296,\n",
       "       -0.535102 , -0.5361   , -0.5371116, -0.5385352, -0.539606 ,\n",
       "       -0.5406428, -0.5416996, -0.5429088, -0.5439984, -0.5450184,\n",
       "       -0.5462164, -0.5475192, -0.5486828, -0.5497276, -0.5508172,\n",
       "       -0.5518456, -0.5529024, -0.554118 , -0.5551724, -0.556366 ,\n",
       "       -0.5576712, -0.5587088, -0.5597736, -0.560808 , -0.5618864,\n",
       "       -0.5630644, -0.564066 , -0.5650964, -0.5662104, -0.5672792,\n",
       "       -0.5683096, -0.5696256, -0.5709824, -0.572038 , -0.573124 ])"
      ]
     },
     "execution_count": 72,
     "metadata": {},
     "output_type": "execute_result"
    }
   ],
   "source": [
    "array[4000]"
   ]
  },
  {
   "cell_type": "code",
   "execution_count": 78,
   "id": "748f0d76-b854-48ff-be03-352532a9e9b8",
   "metadata": {},
   "outputs": [],
   "source": [
    "arr_2=list(map(lambda x: x.item() , arr[0]))"
   ]
  },
  {
   "cell_type": "code",
   "execution_count": 79,
   "id": "df40f003-52e9-47e4-93e3-b2cf04f5a404",
   "metadata": {},
   "outputs": [],
   "source": [
    "arr_3=list(filter(lambda x:x>-0.1,arr_2))"
   ]
  },
  {
   "cell_type": "code",
   "execution_count": 80,
   "id": "a92866c1-fd37-4c3e-9893-f3d2c60cc0d9",
   "metadata": {},
   "outputs": [
    {
     "data": {
      "text/plain": [
       "<AxesSubplot: >"
      ]
     },
     "execution_count": 80,
     "metadata": {},
     "output_type": "execute_result"
    },
    {
     "data": {
      "image/png": "[encoded data removed]",
      "text/plain": [
       "<Figure size 640x480 with 1 Axes>"
      ]
     },
     "metadata": {},
     "output_type": "display_data"
    }
   ],
   "source": [
    "pd.DataFrame(arr_2).plot()"
   ]
  },
  {
   "cell_type": "code",
   "execution_count": 29,
   "id": "cb63898f",
   "metadata": {},
   "outputs": [
    {
     "name": "stdout",
     "output_type": "stream",
     "text": [
      "0\n",
      "1\n",
      "2\n",
      "3\n",
      "4\n",
      "5\n",
      "6\n",
      "7\n",
      "8\n",
      "9\n",
      "10\n"
     ]
    }
   ],
   "source": [
    "backtest_results=[]\n",
    "backtest_results_means=[]\n",
    "stop_loss=0.15\n",
    "sell=0.0026\n",
    "buy=0.0045\n",
    "loss_multiplier=1\n",
    "loss_count_max=3\n",
    "net_repeating=1\n",
    "#print(a)\n",
    "#names_arr=names[5:]\n",
    "for loss_multiplier in np.arange(0,11,1):\n",
    "    print(loss_multiplier)\n",
    "    for loss_count_max in np.arange(1,7,1):\n",
    "    #for net_repeats in range(1,4,1):\n",
    "        arr=[]\n",
    "        for i in range(1):\n",
    "            backtest_results.append([backtest(net,X_train,X_train_opens,wallet_start=1000,min_sell_threshold=1.003,buying_threshold=1.0045,purchase_size=0.01,net_repeating=1,comission=0.001,stop_loss=0.85,loss_multiplier=loss_multiplier,loss_count_max=loss_count_max),loss_count_max,loss_multiplier,sell,net_repeating,\"name\"])\n",
    "            arr.append(backtest_results[-1][0])\n",
    "        backtest_results_means.append(np.mean(arr))"
   ]
  },
  {
   "cell_type": "code",
   "execution_count": 17,
   "id": "db884f23",
   "metadata": {},
   "outputs": [
    {
     "data": {
      "text/plain": [
       "6"
      ]
     },
     "execution_count": 17,
     "metadata": {},
     "output_type": "execute_result"
    }
   ],
   "source": [
    "loss_count_max"
   ]
  },
  {
   "cell_type": "code",
   "execution_count": 30,
   "id": "0a975258",
   "metadata": {},
   "outputs": [],
   "source": [
    "results_1=[]\n",
    "results_2=[]\n",
    "min_sell_threshold_arr=[]\n",
    "buying_threshold_arr=[]\n",
    "net_repeating_arr=[]\n",
    "stop_loss_arr=[]\n",
    "net_repeating_arr=[]\n",
    "net_name_arr=[]\n",
    "loss_multiplier_arr=[]\n",
    "loss_count_max_arr=[]\n",
    "for i in range(len(backtest_results)):\n",
    "    results_1.append(backtest_results[i][0])\n",
    "    stop_loss_arr.append(backtest_results[i][1])\n",
    "    buying_threshold_arr.append(backtest_results[i][2])\n",
    "    min_sell_threshold_arr.append(backtest_results[i][3])\n",
    "    net_repeating_arr.append(backtest_results[i][4])\n",
    "    net_name_arr.append(backtest_results[i][5])\n",
    "    #loss_multiplier_arr.append(backtest_results[i][6])\n",
    "    #loss_count_max_arr.append(backtest_results[i][7])\n",
    "for i in range(len(results_1)):\n",
    "    if (results_1[i]!=[]):\n",
    "        results_2.append(results_1[i][-1])\n",
    "    else:\n",
    "        results_2.append(0)"
   ]
  },
  {
   "cell_type": "code",
   "execution_count": 34,
   "id": "a1e966a5-6e3a-4535-9f47-199c834799c1",
   "metadata": {
    "collapsed": true,
    "jupyter": {
     "outputs_hidden": true
    },
    "tags": []
   },
   "outputs": [
    {
     "data": {
      "text/plain": [
       "[0,\n",
       " 0,\n",
       " 0,\n",
       " 0,\n",
       " 0,\n",
       " 0,\n",
       " 0,\n",
       " 0,\n",
       " 0,\n",
       " 0,\n",
       " 0,\n",
       " 0,\n",
       " 0,\n",
       " 0,\n",
       " 0,\n",
       " 0,\n",
       " 0,\n",
       " 0,\n",
       " 0,\n",
       " 0,\n",
       " 0,\n",
       " 0,\n",
       " 0,\n",
       " 0,\n",
       " 0,\n",
       " 0,\n",
       " 0,\n",
       " 0,\n",
       " 0,\n",
       " 0,\n",
       " 0,\n",
       " 0,\n",
       " 0,\n",
       " 0,\n",
       " 0,\n",
       " 0,\n",
       " 0,\n",
       " 0,\n",
       " 0,\n",
       " 0,\n",
       " 0,\n",
       " 0,\n",
       " 0,\n",
       " 0,\n",
       " 0,\n",
       " 0,\n",
       " 0,\n",
       " 0,\n",
       " 0,\n",
       " 0,\n",
       " 0,\n",
       " 0,\n",
       " 0,\n",
       " 0,\n",
       " 0,\n",
       " 0,\n",
       " 0,\n",
       " 0,\n",
       " 0,\n",
       " 0,\n",
       " 0,\n",
       " 0,\n",
       " 0,\n",
       " 0,\n",
       " 0,\n",
       " 0]"
      ]
     },
     "execution_count": 34,
     "metadata": {},
     "output_type": "execute_result"
    }
   ],
   "source": [
    "results_2"
   ]
  },
  {
   "cell_type": "code",
   "execution_count": 31,
   "id": "8e86901d",
   "metadata": {},
   "outputs": [
    {
     "data": {
      "text/plain": [
       "0"
      ]
     },
     "execution_count": 31,
     "metadata": {},
     "output_type": "execute_result"
    }
   ],
   "source": [
    "np.max(results_2)"
   ]
  },
  {
   "cell_type": "code",
   "execution_count": 33,
   "id": "0ad87d3c",
   "metadata": {},
   "outputs": [
    {
     "ename": "ValueError",
     "evalue": "All arrays must be of the same length",
     "output_type": "error",
     "traceback": [
      "\u001b[1;31m---------------------------------------------------------------------------\u001b[0m",
      "\u001b[1;31mValueError\u001b[0m                                Traceback (most recent call last)",
      "Cell \u001b[1;32mIn[33], line 1\u001b[0m\n\u001b[1;32m----> 1\u001b[0m Backtest_results_df\u001b[38;5;241m=\u001b[39m\u001b[43mpd\u001b[49m\u001b[38;5;241;43m.\u001b[39;49m\u001b[43mDataFrame\u001b[49m\u001b[43m(\u001b[49m\u001b[43m{\u001b[49m\u001b[38;5;124;43m\"\u001b[39;49m\u001b[38;5;124;43mresults\u001b[39;49m\u001b[38;5;124;43m\"\u001b[39;49m\u001b[43m:\u001b[49m\u001b[43mresults_2\u001b[49m\u001b[43m,\u001b[49m\n\u001b[0;32m      2\u001b[0m \u001b[43m              \u001b[49m\u001b[38;5;124;43m\"\u001b[39;49m\u001b[38;5;124;43mmin_sell\u001b[39;49m\u001b[38;5;124;43m\"\u001b[39;49m\u001b[43m:\u001b[49m\u001b[43mmin_sell_threshold_arr\u001b[49m\u001b[43m,\u001b[49m\n\u001b[0;32m      3\u001b[0m \u001b[43m              \u001b[49m\u001b[38;5;124;43m\"\u001b[39;49m\u001b[38;5;124;43mbuying_threshold\u001b[39;49m\u001b[38;5;124;43m\"\u001b[39;49m\u001b[43m:\u001b[49m\u001b[43mbuying_threshold_arr\u001b[49m\u001b[43m,\u001b[49m\n\u001b[0;32m      4\u001b[0m \u001b[43m              \u001b[49m\u001b[38;5;124;43m\"\u001b[39;49m\u001b[38;5;124;43mstop_loss\u001b[39;49m\u001b[38;5;124;43m\"\u001b[39;49m\u001b[43m:\u001b[49m\u001b[43mstop_loss_arr\u001b[49m\u001b[43m,\u001b[49m\n\u001b[0;32m      5\u001b[0m \u001b[43m                \u001b[49m\u001b[38;5;66;43;03m#\"loss_multiplier\":loss_multiplier_arr,\u001b[39;49;00m\n\u001b[0;32m      6\u001b[0m \u001b[43m              \u001b[49m\u001b[38;5;124;43m\"\u001b[39;49m\u001b[38;5;124;43mloss_count_max\u001b[39;49m\u001b[38;5;124;43m\"\u001b[39;49m\u001b[43m:\u001b[49m\u001b[43mloss_count_max_arr\u001b[49m\u001b[43m,\u001b[49m\u001b[43m                 \u001b[49m\n\u001b[0;32m      7\u001b[0m \u001b[43m              \u001b[49m\u001b[38;5;124;43m\"\u001b[39;49m\u001b[38;5;124;43mnet_repeating\u001b[39;49m\u001b[38;5;124;43m\"\u001b[39;49m\u001b[43m:\u001b[49m\u001b[43mnet_repeating_arr\u001b[49m\n\u001b[0;32m      8\u001b[0m \u001b[43m                \u001b[49m\u001b[38;5;66;43;03m#\"name\":net_name_arr\u001b[39;49;00m\n\u001b[0;32m      9\u001b[0m \u001b[43m                                 \u001b[49m\u001b[43m}\u001b[49m\u001b[43m)\u001b[49m\n\u001b[0;32m     10\u001b[0m Trades_backtest_data\u001b[38;5;241m=\u001b[39mpd\u001b[38;5;241m.\u001b[39mDataFrame(results_1)\n",
      "File \u001b[1;32mG:\\anaconda3\\envs\\trading_streamlit\\lib\\site-packages\\pandas\\core\\frame.py:663\u001b[0m, in \u001b[0;36mDataFrame.__init__\u001b[1;34m(self, data, index, columns, dtype, copy)\u001b[0m\n\u001b[0;32m    657\u001b[0m     mgr \u001b[38;5;241m=\u001b[39m \u001b[38;5;28mself\u001b[39m\u001b[38;5;241m.\u001b[39m_init_mgr(\n\u001b[0;32m    658\u001b[0m         data, axes\u001b[38;5;241m=\u001b[39m{\u001b[38;5;124m\"\u001b[39m\u001b[38;5;124mindex\u001b[39m\u001b[38;5;124m\"\u001b[39m: index, \u001b[38;5;124m\"\u001b[39m\u001b[38;5;124mcolumns\u001b[39m\u001b[38;5;124m\"\u001b[39m: columns}, dtype\u001b[38;5;241m=\u001b[39mdtype, copy\u001b[38;5;241m=\u001b[39mcopy\n\u001b[0;32m    659\u001b[0m     )\n\u001b[0;32m    661\u001b[0m \u001b[38;5;28;01melif\u001b[39;00m \u001b[38;5;28misinstance\u001b[39m(data, \u001b[38;5;28mdict\u001b[39m):\n\u001b[0;32m    662\u001b[0m     \u001b[38;5;66;03m# GH#38939 de facto copy defaults to False only in non-dict cases\u001b[39;00m\n\u001b[1;32m--> 663\u001b[0m     mgr \u001b[38;5;241m=\u001b[39m \u001b[43mdict_to_mgr\u001b[49m\u001b[43m(\u001b[49m\u001b[43mdata\u001b[49m\u001b[43m,\u001b[49m\u001b[43m \u001b[49m\u001b[43mindex\u001b[49m\u001b[43m,\u001b[49m\u001b[43m \u001b[49m\u001b[43mcolumns\u001b[49m\u001b[43m,\u001b[49m\u001b[43m \u001b[49m\u001b[43mdtype\u001b[49m\u001b[38;5;241;43m=\u001b[39;49m\u001b[43mdtype\u001b[49m\u001b[43m,\u001b[49m\u001b[43m \u001b[49m\u001b[43mcopy\u001b[49m\u001b[38;5;241;43m=\u001b[39;49m\u001b[43mcopy\u001b[49m\u001b[43m,\u001b[49m\u001b[43m \u001b[49m\u001b[43mtyp\u001b[49m\u001b[38;5;241;43m=\u001b[39;49m\u001b[43mmanager\u001b[49m\u001b[43m)\u001b[49m\n\u001b[0;32m    664\u001b[0m \u001b[38;5;28;01melif\u001b[39;00m \u001b[38;5;28misinstance\u001b[39m(data, ma\u001b[38;5;241m.\u001b[39mMaskedArray):\n\u001b[0;32m    665\u001b[0m     \u001b[38;5;28;01mimport\u001b[39;00m \u001b[38;5;21;01mnumpy\u001b[39;00m\u001b[38;5;21;01m.\u001b[39;00m\u001b[38;5;21;01mma\u001b[39;00m\u001b[38;5;21;01m.\u001b[39;00m\u001b[38;5;21;01mmrecords\u001b[39;00m \u001b[38;5;28;01mas\u001b[39;00m \u001b[38;5;21;01mmrecords\u001b[39;00m\n",
      "File \u001b[1;32mG:\\anaconda3\\envs\\trading_streamlit\\lib\\site-packages\\pandas\\core\\internals\\construction.py:493\u001b[0m, in \u001b[0;36mdict_to_mgr\u001b[1;34m(data, index, columns, dtype, typ, copy)\u001b[0m\n\u001b[0;32m    489\u001b[0m     \u001b[38;5;28;01melse\u001b[39;00m:\n\u001b[0;32m    490\u001b[0m         \u001b[38;5;66;03m# dtype check to exclude e.g. range objects, scalars\u001b[39;00m\n\u001b[0;32m    491\u001b[0m         arrays \u001b[38;5;241m=\u001b[39m [x\u001b[38;5;241m.\u001b[39mcopy() \u001b[38;5;28;01mif\u001b[39;00m \u001b[38;5;28mhasattr\u001b[39m(x, \u001b[38;5;124m\"\u001b[39m\u001b[38;5;124mdtype\u001b[39m\u001b[38;5;124m\"\u001b[39m) \u001b[38;5;28;01melse\u001b[39;00m x \u001b[38;5;28;01mfor\u001b[39;00m x \u001b[38;5;129;01min\u001b[39;00m arrays]\n\u001b[1;32m--> 493\u001b[0m \u001b[38;5;28;01mreturn\u001b[39;00m \u001b[43marrays_to_mgr\u001b[49m\u001b[43m(\u001b[49m\u001b[43marrays\u001b[49m\u001b[43m,\u001b[49m\u001b[43m \u001b[49m\u001b[43mcolumns\u001b[49m\u001b[43m,\u001b[49m\u001b[43m \u001b[49m\u001b[43mindex\u001b[49m\u001b[43m,\u001b[49m\u001b[43m \u001b[49m\u001b[43mdtype\u001b[49m\u001b[38;5;241;43m=\u001b[39;49m\u001b[43mdtype\u001b[49m\u001b[43m,\u001b[49m\u001b[43m \u001b[49m\u001b[43mtyp\u001b[49m\u001b[38;5;241;43m=\u001b[39;49m\u001b[43mtyp\u001b[49m\u001b[43m,\u001b[49m\u001b[43m \u001b[49m\u001b[43mconsolidate\u001b[49m\u001b[38;5;241;43m=\u001b[39;49m\u001b[43mcopy\u001b[49m\u001b[43m)\u001b[49m\n",
      "File \u001b[1;32mG:\\anaconda3\\envs\\trading_streamlit\\lib\\site-packages\\pandas\\core\\internals\\construction.py:118\u001b[0m, in \u001b[0;36marrays_to_mgr\u001b[1;34m(arrays, columns, index, dtype, verify_integrity, typ, consolidate)\u001b[0m\n\u001b[0;32m    115\u001b[0m \u001b[38;5;28;01mif\u001b[39;00m verify_integrity:\n\u001b[0;32m    116\u001b[0m     \u001b[38;5;66;03m# figure out the index, if necessary\u001b[39;00m\n\u001b[0;32m    117\u001b[0m     \u001b[38;5;28;01mif\u001b[39;00m index \u001b[38;5;129;01mis\u001b[39;00m \u001b[38;5;28;01mNone\u001b[39;00m:\n\u001b[1;32m--> 118\u001b[0m         index \u001b[38;5;241m=\u001b[39m \u001b[43m_extract_index\u001b[49m\u001b[43m(\u001b[49m\u001b[43marrays\u001b[49m\u001b[43m)\u001b[49m\n\u001b[0;32m    119\u001b[0m     \u001b[38;5;28;01melse\u001b[39;00m:\n\u001b[0;32m    120\u001b[0m         index \u001b[38;5;241m=\u001b[39m ensure_index(index)\n",
      "File \u001b[1;32mG:\\anaconda3\\envs\\trading_streamlit\\lib\\site-packages\\pandas\\core\\internals\\construction.py:666\u001b[0m, in \u001b[0;36m_extract_index\u001b[1;34m(data)\u001b[0m\n\u001b[0;32m    664\u001b[0m lengths \u001b[38;5;241m=\u001b[39m \u001b[38;5;28mlist\u001b[39m(\u001b[38;5;28mset\u001b[39m(raw_lengths))\n\u001b[0;32m    665\u001b[0m \u001b[38;5;28;01mif\u001b[39;00m \u001b[38;5;28mlen\u001b[39m(lengths) \u001b[38;5;241m>\u001b[39m \u001b[38;5;241m1\u001b[39m:\n\u001b[1;32m--> 666\u001b[0m     \u001b[38;5;28;01mraise\u001b[39;00m \u001b[38;5;167;01mValueError\u001b[39;00m(\u001b[38;5;124m\"\u001b[39m\u001b[38;5;124mAll arrays must be of the same length\u001b[39m\u001b[38;5;124m\"\u001b[39m)\n\u001b[0;32m    668\u001b[0m \u001b[38;5;28;01mif\u001b[39;00m have_dicts:\n\u001b[0;32m    669\u001b[0m     \u001b[38;5;28;01mraise\u001b[39;00m \u001b[38;5;167;01mValueError\u001b[39;00m(\n\u001b[0;32m    670\u001b[0m         \u001b[38;5;124m\"\u001b[39m\u001b[38;5;124mMixing dicts with non-Series may lead to ambiguous ordering.\u001b[39m\u001b[38;5;124m\"\u001b[39m\n\u001b[0;32m    671\u001b[0m     )\n",
      "\u001b[1;31mValueError\u001b[0m: All arrays must be of the same length"
     ]
    }
   ],
   "source": [
    "Backtest_results_df=pd.DataFrame({\"results\":results_2,\n",
    "              \"min_sell\":min_sell_threshold_arr,\n",
    "              \"buying_threshold\":buying_threshold_arr,\n",
    "              \"stop_loss\":stop_loss_arr,\n",
    "                #\"loss_multiplier\":loss_multiplier_arr,\n",
    "              \"loss_count_max\":loss_count_max_arr,                 \n",
    "              \"net_repeating\":net_repeating_arr\n",
    "                #\"name\":net_name_arr\n",
    "                                 })\n",
    "Trades_backtest_data=pd.DataFrame(results_1)"
   ]
  },
  {
   "cell_type": "code",
   "execution_count": null,
   "id": "36019720",
   "metadata": {},
   "outputs": [],
   "source": []
  },
  {
   "cell_type": "code",
   "execution_count": 23,
   "id": "b3dfaffe",
   "metadata": {},
   "outputs": [],
   "source": [
    "time_now=datetime.datetime.now()\n",
    "time_now=time_now.strftime(\"\\\\Backtest_results_8_df_%d-%m-%Y_%H-%M-%S\")\n",
    "path=directory\n",
    "end=\".csv\"\n",
    "path=path+time_now+end\n",
    "Backtest_results_df.to_csv(path)\n",
    "path=directory\n",
    "time_now=datetime.datetime.now()\n",
    "time_now=time_now.strftime(\"\\\\Trades_backtest_8_data_%d-%m-%Y_%H-%M-%S\")\n",
    "\n",
    "path=path+time_now+end\n",
    "Trades_backtest_data.to_csv(path)"
   ]
  },
  {
   "cell_type": "code",
   "execution_count": null,
   "id": "082732bf",
   "metadata": {},
   "outputs": [],
   "source": []
  },
  {
   "cell_type": "code",
   "execution_count": 24,
   "id": "010ff15e",
   "metadata": {},
   "outputs": [],
   "source": [
    "#df2=pd.read_csv(directory+\"\\\\Backtest_results_7_df_15-08-2022_23-20-59.csv\").reset_index(drop=True).drop(\"Unnamed: 0\",axis=1)\n",
    "df2=Backtest_results_df"
   ]
  },
  {
   "cell_type": "code",
   "execution_count": 25,
   "id": "fc017f25",
   "metadata": {},
   "outputs": [
    {
     "data": {
      "text/plain": [
       "<AxesSubplot:>"
      ]
     },
     "execution_count": 25,
     "metadata": {},
     "output_type": "execute_result"
    },
    {
     "data": {
      "image/png": "[encoded data removed]",
      "text/plain": [
       "<Figure size 432x288 with 1 Axes>"
      ]
     },
     "metadata": {
      "needs_background": "light"
     },
     "output_type": "display_data"
    }
   ],
   "source": [
    "pd.DataFrame(np.sort(df2[\"results\"])).plot()"
   ]
  },
  {
   "cell_type": "code",
   "execution_count": 26,
   "id": "7514a836",
   "metadata": {},
   "outputs": [
    {
     "data": {
      "text/plain": [
       "count    1526.000000\n",
       "mean       -3.681794\n",
       "std         4.682059\n",
       "min       -15.933623\n",
       "25%        -7.830983\n",
       "50%         0.000000\n",
       "75%         0.000000\n",
       "max         2.451403\n",
       "Name: results, dtype: float64"
      ]
     },
     "execution_count": 26,
     "metadata": {},
     "output_type": "execute_result"
    }
   ],
   "source": [
    "df2[\"results\"].describe()"
   ]
  },
  {
   "cell_type": "code",
   "execution_count": 62,
   "id": "23c21303",
   "metadata": {},
   "outputs": [],
   "source": [
    "#arr=np.where(df2[\"results\"]>0.0,df2[\"results\"],np.nan)\n",
    "#arr=df2[\"results\"]"
   ]
  },
  {
   "cell_type": "code",
   "execution_count": 127,
   "id": "8e64b3a6",
   "metadata": {},
   "outputs": [],
   "source": [
    "pd.DataFrame(np.sort(arr)).dropna().reset_index(drop=True).plot()"
   ]
  },
  {
   "cell_type": "code",
   "execution_count": 61,
   "id": "0ee29550",
   "metadata": {},
   "outputs": [],
   "source": [
    "#arr=np.where(df2[\"results\"]>10,df2[:],np.nan)#.dropna()\n",
    "#for i in range(df2[\"results\"].size):\n",
    "#    if (df2[\"results\"][i]<-1):\n",
    "#        df2=df2.drop(i)\n",
    "#df2=df2.reset_index(drop=True)\n",
    "#df2"
   ]
  },
  {
   "cell_type": "code",
   "execution_count": 20,
   "id": "c54fe247",
   "metadata": {},
   "outputs": [
    {
     "data": {
      "text/html": [
       "<div>\n",
       "<style scoped>\n",
       "    .dataframe tbody tr th:only-of-type {\n",
       "        vertical-align: middle;\n",
       "    }\n",
       "\n",
       "    .dataframe tbody tr th {\n",
       "        vertical-align: top;\n",
       "    }\n",
       "\n",
       "    .dataframe thead th {\n",
       "        text-align: right;\n",
       "    }\n",
       "</style>\n",
       "<table border=\"1\" class=\"dataframe\">\n",
       "  <thead>\n",
       "    <tr style=\"text-align: right;\">\n",
       "      <th></th>\n",
       "      <th>results</th>\n",
       "      <th>min_sell</th>\n",
       "      <th>buying_threshold</th>\n",
       "      <th>stop_loss</th>\n",
       "      <th>loss_multiplier</th>\n",
       "      <th>loss_count_max</th>\n",
       "      <th>net_repeating</th>\n",
       "    </tr>\n",
       "  </thead>\n",
       "  <tbody>\n",
       "    <tr>\n",
       "      <th>count</th>\n",
       "      <td>3840.000000</td>\n",
       "      <td>3840.000000</td>\n",
       "      <td>3840.000000</td>\n",
       "      <td>3.840000e+03</td>\n",
       "      <td>3840.00000</td>\n",
       "      <td>3840.000000</td>\n",
       "      <td>3840.00000</td>\n",
       "    </tr>\n",
       "    <tr>\n",
       "      <th>mean</th>\n",
       "      <td>-3.075437</td>\n",
       "      <td>0.003000</td>\n",
       "      <td>0.003500</td>\n",
       "      <td>1.500000e-01</td>\n",
       "      <td>2.50000</td>\n",
       "      <td>3.500000</td>\n",
       "      <td>2.50000</td>\n",
       "    </tr>\n",
       "    <tr>\n",
       "      <th>std</th>\n",
       "      <td>4.245557</td>\n",
       "      <td>0.000817</td>\n",
       "      <td>0.001118</td>\n",
       "      <td>1.082608e-14</td>\n",
       "      <td>1.11818</td>\n",
       "      <td>0.500065</td>\n",
       "      <td>1.11818</td>\n",
       "    </tr>\n",
       "    <tr>\n",
       "      <th>min</th>\n",
       "      <td>-16.122605</td>\n",
       "      <td>0.002000</td>\n",
       "      <td>0.002000</td>\n",
       "      <td>1.500000e-01</td>\n",
       "      <td>1.00000</td>\n",
       "      <td>3.000000</td>\n",
       "      <td>1.00000</td>\n",
       "    </tr>\n",
       "    <tr>\n",
       "      <th>25%</th>\n",
       "      <td>-5.606031</td>\n",
       "      <td>0.002000</td>\n",
       "      <td>0.002750</td>\n",
       "      <td>1.500000e-01</td>\n",
       "      <td>1.75000</td>\n",
       "      <td>3.000000</td>\n",
       "      <td>1.75000</td>\n",
       "    </tr>\n",
       "    <tr>\n",
       "      <th>50%</th>\n",
       "      <td>0.000000</td>\n",
       "      <td>0.003000</td>\n",
       "      <td>0.003500</td>\n",
       "      <td>1.500000e-01</td>\n",
       "      <td>2.50000</td>\n",
       "      <td>3.500000</td>\n",
       "      <td>2.50000</td>\n",
       "    </tr>\n",
       "    <tr>\n",
       "      <th>75%</th>\n",
       "      <td>0.000000</td>\n",
       "      <td>0.004000</td>\n",
       "      <td>0.004250</td>\n",
       "      <td>1.500000e-01</td>\n",
       "      <td>3.25000</td>\n",
       "      <td>4.000000</td>\n",
       "      <td>3.25000</td>\n",
       "    </tr>\n",
       "    <tr>\n",
       "      <th>max</th>\n",
       "      <td>1.818836</td>\n",
       "      <td>0.004000</td>\n",
       "      <td>0.005000</td>\n",
       "      <td>1.500000e-01</td>\n",
       "      <td>4.00000</td>\n",
       "      <td>4.000000</td>\n",
       "      <td>4.00000</td>\n",
       "    </tr>\n",
       "  </tbody>\n",
       "</table>\n",
       "</div>"
      ],
      "text/plain": [
       "           results     min_sell  buying_threshold     stop_loss  \\\n",
       "count  3840.000000  3840.000000       3840.000000  3.840000e+03   \n",
       "mean     -3.075437     0.003000          0.003500  1.500000e-01   \n",
       "std       4.245557     0.000817          0.001118  1.082608e-14   \n",
       "min     -16.122605     0.002000          0.002000  1.500000e-01   \n",
       "25%      -5.606031     0.002000          0.002750  1.500000e-01   \n",
       "50%       0.000000     0.003000          0.003500  1.500000e-01   \n",
       "75%       0.000000     0.004000          0.004250  1.500000e-01   \n",
       "max       1.818836     0.004000          0.005000  1.500000e-01   \n",
       "\n",
       "       loss_multiplier  loss_count_max  net_repeating  \n",
       "count       3840.00000     3840.000000     3840.00000  \n",
       "mean           2.50000        3.500000        2.50000  \n",
       "std            1.11818        0.500065        1.11818  \n",
       "min            1.00000        3.000000        1.00000  \n",
       "25%            1.75000        3.000000        1.75000  \n",
       "50%            2.50000        3.500000        2.50000  \n",
       "75%            3.25000        4.000000        3.25000  \n",
       "max            4.00000        4.000000        4.00000  "
      ]
     },
     "execution_count": 20,
     "metadata": {},
     "output_type": "execute_result"
    }
   ],
   "source": [
    "df2.describe()"
   ]
  },
  {
   "cell_type": "code",
   "execution_count": 21,
   "id": "d0ac7da6",
   "metadata": {},
   "outputs": [],
   "source": [
    "same_results_count=[]\n",
    "same=0\n",
    "same_count=1\n",
    "cols=df2.columns.drop(\"results\")\n",
    "res_threshold=0.01\n",
    "res_threshold_arr=[]\n",
    "res_count=0\n",
    "for i in range(1,df2[\"results\"].size):\n",
    "    same=1\n",
    "    for j in cols:\n",
    "        if (df2[j][i]!=df2[j][i-1]):\n",
    "            same=0\n",
    "            same_results_count.append(same_count)\n",
    "            res_threshold_arr.append(res_count)\n",
    "            same_count=1\n",
    "            res_count=0\n",
    "            break\n",
    "    if(same==1):\n",
    "        same_count+=1\n",
    "        if (df2[\"results\"][i]>=res_threshold):\n",
    "            res_count+=1"
   ]
  },
  {
   "cell_type": "code",
   "execution_count": 22,
   "id": "a4c12b08",
   "metadata": {},
   "outputs": [],
   "source": [
    "#res_threshold_arr"
   ]
  },
  {
   "cell_type": "code",
   "execution_count": 23,
   "id": "afe4958c",
   "metadata": {},
   "outputs": [
    {
     "data": {
      "text/plain": [
       "[166, 214, 302]"
      ]
     },
     "execution_count": 23,
     "metadata": {},
     "output_type": "execute_result"
    }
   ],
   "source": [
    "res_indexes=[]\n",
    "res_count_threshold=9\n",
    "for i in range(len(res_threshold_arr)):\n",
    "    if (res_threshold_arr[i]>=res_count_threshold):\n",
    "        res_indexes.append(i)\n",
    "res_indexes"
   ]
  },
  {
   "cell_type": "code",
   "execution_count": 26,
   "id": "925ac010",
   "metadata": {},
   "outputs": [
    {
     "data": {
      "text/plain": [
       "[1660, 2140, 3020]"
      ]
     },
     "execution_count": 26,
     "metadata": {},
     "output_type": "execute_result"
    }
   ],
   "source": [
    "res_indexes_multi=[]\n",
    "for i in range(len(res_indexes)):\n",
    "    res_indexes_multi.append(res_indexes[i]*batch_size)\n",
    "res_indexes_multi"
   ]
  },
  {
   "cell_type": "code",
   "execution_count": 25,
   "id": "36d58942",
   "metadata": {},
   "outputs": [
    {
     "data": {
      "text/plain": [
       "<AxesSubplot:>"
      ]
     },
     "execution_count": 25,
     "metadata": {},
     "output_type": "execute_result"
    },
    {
     "data": {
      "image/png": "[encoded data removed]",
      "text/plain": [
       "<Figure size 432x288 with 1 Axes>"
      ]
     },
     "metadata": {
      "needs_background": "light"
     },
     "output_type": "display_data"
    }
   ],
   "source": [
    "x=214\n",
    "batch_size=10\n",
    "#arr_2_part=arr_2[batch_size*(x-1):batch_size*x]\n",
    "arr_2_part=df2[\"results\"][batch_size*(x):batch_size*(x+1)]\n",
    "pd.DataFrame([np.sort(arr_2_part),[0 for i in range(len(arr_2_part))]]).T.dropna().reset_index(drop=True).plot()"
   ]
  },
  {
   "cell_type": "code",
   "execution_count": 97,
   "id": "eadf99ad",
   "metadata": {},
   "outputs": [],
   "source": [
    "#df2_rows=[]\n",
    "#sum_successes=-1\n",
    "#sum_threshold=15\n",
    "#for i in range(len(same_results_count)):\n",
    "#    sum_successes+=same_results_count[i]\n",
    "#    if (same_results_count[i]>=sum_threshold):\n",
    "#        df2_rows.append(sum_successes)\n",
    "#df2_rows"
   ]
  },
  {
   "cell_type": "code",
   "execution_count": 29,
   "id": "4bce9e49",
   "metadata": {},
   "outputs": [
    {
     "data": {
      "text/plain": [
       "results                                    0.0442\n",
       "min_sell                                    0.004\n",
       "buying_threshold                            0.003\n",
       "stop_loss                                    0.15\n",
       "loss_multiplier                                 3\n",
       "loss_count_max                                  3\n",
       "net_repeating                                   3\n",
       "name                \\net_25-07-2022_16-58-19_3_96\n",
       "Name: 2143, dtype: object"
      ]
     },
     "execution_count": 29,
     "metadata": {},
     "output_type": "execute_result"
    }
   ],
   "source": [
    "df2.iloc[x*batch_size+3]"
   ]
  },
  {
   "cell_type": "code",
   "execution_count": 40,
   "id": "c0684d6b",
   "metadata": {},
   "outputs": [
    {
     "name": "stdout",
     "output_type": "stream",
     "text": [
      "1660\n",
      "\\net_25-07-2022_16-58-19_3_96\n"
     ]
    },
    {
     "name": "stderr",
     "output_type": "stream",
     "text": [
      "G:\\anaconda3\\lib\\site-packages\\torch\\nn\\functional.py:1933: UserWarning: nn.functional.tanh is deprecated. Use torch.tanh instead.\n",
      "  warnings.warn(\"nn.functional.tanh is deprecated. Use torch.tanh instead.\")\n"
     ]
    },
    {
     "name": "stdout",
     "output_type": "stream",
     "text": [
      "2140\n",
      "\\net_25-07-2022_16-58-19_3_96\n",
      "3020\n",
      "\\net_25-07-2022_16-58-19_3_96\n"
     ]
    }
   ],
   "source": [
    "backtest_results=[]\n",
    "backtest_results_means=[]\n",
    "stop_loss=0.15\n",
    "sell=0.0026\n",
    "net_repeating=1\n",
    "buy=0.0045\n",
    "names_arr=names[5:]\n",
    "for i in res_indexes_multi:\n",
    "    print(i)\n",
    "    #loss_multiplier=df2[\"loss_multiplier\"][i]\n",
    "    #loss_count_max=df2[\"loss_count_max\"][i]\n",
    "    name=df2[\"name\"][i]\n",
    "    print(name)\n",
    "    word=\"\"\n",
    "    for k in range(1,len(name)):\n",
    "        if(name[-k]!=\"_\"):\n",
    "            word=name[-k]+word\n",
    "        else:\n",
    "            break\n",
    "    word=int(word)\n",
    "    path=directory+name\n",
    "    net=Net(0.6,word,3).cuda().double()\n",
    "    net.load_state_dict(torch.load(path+\".pth\"))\n",
    "    sell=df2[\"min_sell\"][i]\n",
    "    buy=df2[\"buying_threshold\"][i]\n",
    "    net_repeats=df2[\"net_repeating\"][i]\n",
    "    loss_multiplier=df2[\"loss_multiplier\"][i]\n",
    "    loss_count_max=df2[\"loss_count_max\"][i]\n",
    "    stop_loss=df2[\"stop_loss\"][i]\n",
    "    arr=[]\n",
    "    for j in range(50):\n",
    "        backtest_results.append([backtest(net,wallet_start=1000,min_sell_threshold=1+sell,buying_threshold=1+buy,purchase_size=0.01,net_repeating=net_repeats,comission=0.001,stop_loss=1-stop_loss,loss_multiplier=loss_multiplier,loss_count_max=loss_count_max),stop_loss,buy,sell,net_repeats,name])\n",
    "        if (backtest_results[-1][0]!=[]):\n",
    "            arr.append([backtest_results[-1][0][-1]])\n",
    "        else:\n",
    "            arr.append([0])\n",
    "    #backtest_results_means.append(np.mean(arr))"
   ]
  },
  {
   "cell_type": "code",
   "execution_count": 41,
   "id": "a9806d1b",
   "metadata": {},
   "outputs": [],
   "source": [
    "arr_2=[]\n",
    "for i in range(len(backtest_results)):\n",
    "    if (backtest_results[i][0]!=[]):\n",
    "        arr_2.append(backtest_results[i][0][-1])\n",
    "    else:\n",
    "        arr_2.append(0)"
   ]
  },
  {
   "cell_type": "code",
   "execution_count": null,
   "id": "797c917e",
   "metadata": {},
   "outputs": [],
   "source": []
  },
  {
   "cell_type": "code",
   "execution_count": 62,
   "id": "29423f2e",
   "metadata": {},
   "outputs": [
    {
     "data": {
      "text/plain": [
       "<AxesSubplot:>"
      ]
     },
     "execution_count": 62,
     "metadata": {},
     "output_type": "execute_result"
    },
    {
     "data": {
      "image/png": "[encoded data removed]",
      "text/plain": [
       "<Figure size 432x288 with 1 Axes>"
      ]
     },
     "metadata": {
      "needs_background": "light"
     },
     "output_type": "display_data"
    }
   ],
   "source": [
    "x=2\n",
    "batch_size=50\n",
    "arr_2_part=arr_2[batch_size*(x-1):batch_size*x]\n",
    "#arr_2_part=df2[\"results\"][batch_size*(x-1):batch_size*x]\n",
    "pd.DataFrame([np.sort(arr_2_part),[0 for i in range(len(arr_2_part))]]).T.dropna().reset_index(drop=True).plot()"
   ]
  },
  {
   "cell_type": "code",
   "execution_count": 63,
   "id": "01228d34",
   "metadata": {},
   "outputs": [
    {
     "data": {
      "text/html": [
       "<div>\n",
       "<style scoped>\n",
       "    .dataframe tbody tr th:only-of-type {\n",
       "        vertical-align: middle;\n",
       "    }\n",
       "\n",
       "    .dataframe tbody tr th {\n",
       "        vertical-align: top;\n",
       "    }\n",
       "\n",
       "    .dataframe thead th {\n",
       "        text-align: right;\n",
       "    }\n",
       "</style>\n",
       "<table border=\"1\" class=\"dataframe\">\n",
       "  <thead>\n",
       "    <tr style=\"text-align: right;\">\n",
       "      <th></th>\n",
       "      <th>0</th>\n",
       "    </tr>\n",
       "  </thead>\n",
       "  <tbody>\n",
       "    <tr>\n",
       "      <th>count</th>\n",
       "      <td>50.000000</td>\n",
       "    </tr>\n",
       "    <tr>\n",
       "      <th>mean</th>\n",
       "      <td>-0.293254</td>\n",
       "    </tr>\n",
       "    <tr>\n",
       "      <th>std</th>\n",
       "      <td>1.044336</td>\n",
       "    </tr>\n",
       "    <tr>\n",
       "      <th>min</th>\n",
       "      <td>-4.465422</td>\n",
       "    </tr>\n",
       "    <tr>\n",
       "      <th>25%</th>\n",
       "      <td>0.038666</td>\n",
       "    </tr>\n",
       "    <tr>\n",
       "      <th>50%</th>\n",
       "      <td>0.119670</td>\n",
       "    </tr>\n",
       "    <tr>\n",
       "      <th>75%</th>\n",
       "      <td>0.223371</td>\n",
       "    </tr>\n",
       "    <tr>\n",
       "      <th>max</th>\n",
       "      <td>0.530482</td>\n",
       "    </tr>\n",
       "  </tbody>\n",
       "</table>\n",
       "</div>"
      ],
      "text/plain": [
       "               0\n",
       "count  50.000000\n",
       "mean   -0.293254\n",
       "std     1.044336\n",
       "min    -4.465422\n",
       "25%     0.038666\n",
       "50%     0.119670\n",
       "75%     0.223371\n",
       "max     0.530482"
      ]
     },
     "execution_count": 63,
     "metadata": {},
     "output_type": "execute_result"
    }
   ],
   "source": [
    "pd.DataFrame(arr_2_part).describe()"
   ]
  },
  {
   "cell_type": "code",
   "execution_count": null,
   "id": "4143b8ad",
   "metadata": {},
   "outputs": [],
   "source": []
  },
  {
   "cell_type": "code",
   "execution_count": null,
   "id": "8dd5c85e",
   "metadata": {},
   "outputs": [],
   "source": []
  }
 ],
 "metadata": {
  "kernelspec": {
   "display_name": "Python 3 (ipykernel)",
   "language": "python",
   "name": "python3"
  },
  "language_info": {
   "codemirror_mode": {
    "name": "ipython",
    "version": 3
   },
   "file_extension": ".py",
   "mimetype": "text/x-python",
   "name": "python",
   "nbconvert_exporter": "python",
   "pygments_lexer": "ipython3",
   "version": "3.9.15"
  }
 },
 "nbformat": 4,
 "nbformat_minor": 5
}
