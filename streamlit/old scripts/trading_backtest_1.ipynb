{
 "cells": [
  {
   "cell_type": "code",
   "execution_count": 1,
   "id": "58d04281",
   "metadata": {},
   "outputs": [],
   "source": [
    "from binance.spot import Spot \n",
    "from sys import stderr\n",
    "import sys, os,datetime,requests,json,pandas as pd,numpy as np\n",
    "import time,math, gc\n",
    "\n",
    "from sklearn.linear_model import LogisticRegression\n",
    "from sklearn.svm import SVC, LinearSVC\n",
    "from sklearn.ensemble import RandomForestRegressor\n",
    "from sklearn.neighbors import KNeighborsClassifier\n",
    "from sklearn.naive_bayes import GaussianNB\n",
    "from sklearn.linear_model import Perceptron\n",
    "from sklearn.linear_model import SGDClassifier\n",
    "from sklearn.tree import DecisionTreeClassifier\n",
    "import sklearn\n",
    "from sklearn.model_selection import train_test_split\n",
    "min_max_scaler = sklearn.preprocessing.MinMaxScaler()\n",
    "\n",
    "\n",
    "\n",
    "import torch\n",
    "import torch.nn as nn\n",
    "import torch.nn.functional as F\n",
    "import torchvision\n"
   ]
  },
  {
   "cell_type": "code",
   "execution_count": 2,
   "id": "692b309b",
   "metadata": {},
   "outputs": [],
   "source": [
    "device = torch.device(\"cuda:0\" if torch.cuda.is_available() else \"cpu\")\n",
    "\n",
    "def import_api(time_last,symbol=\"BTCUSDT\",limit=12*60,interval=\"1m\"):\n",
    "    params={\"symbol\":symbol,\"limit\":limit,\"interval\":interval,\"endTime\":time_last,\"startTime\":(time_last-12*3600*1000)}\n",
    "    r=requests.get(url=\"https://api.binance.com/api/v3/klines\", params=params)\n",
    "    df=pd.DataFrame(r.json())\n",
    "    return df\n",
    "\n",
    "def transform_df (df):\n",
    "    column_names=['Open_time','Open','High','Low','Close','Volume','Close_time','Quote_asset_volume',\n",
    "               'Number_of_trades','Taker_buy_base_asset_volume','Taker_buy_quote_asset_volume','Ignore']\n",
    "    df=df.reset_index(drop=True)\n",
    "    df.set_axis(column_names,axis=1,inplace=True)\n",
    "    for col in df.columns:\n",
    "        df[col] = df[col].astype(float)\n",
    "    weekday=[]\n",
    "    month=[]\n",
    "    for i in range(df['Open'].size):\n",
    "        dt_open=datetime.datetime.fromtimestamp(df['Open_time'][i]//1000)\n",
    "        dt_close=datetime.datetime.fromtimestamp(df['Close_time'][i]//1000)\n",
    "        df['Open_time'][i]=dt_open.hour*3600+dt_open.minute*60+dt_open.second\n",
    "        df['Close_time'][i]=dt_close.hour*3600+dt_close.minute*60+dt_close.second\n",
    "        weekday.append(dt_open.weekday())\n",
    "        month.append(dt_open.month)\n",
    "        #df['Open_time'][i]=dt_open.strftime(\"%I:%M:%S\")\n",
    "        #df['Close_time'][i]=dt_close.strftime(\"%I:%M:%S\")\n",
    "    df['weekday']=weekday\n",
    "    df['month']=month\n",
    "    df=df.drop(df.columns[[7,10,11,13]],axis=1)\n",
    "    del(month)\n",
    "    del(weekday)\n",
    "    return df\n",
    "\n",
    "\n",
    "def moving_average(data,range_,concat=60):\n",
    "    leftover=len(data)%concat\n",
    "    data=data[::concat].reset_index(drop=True)\n",
    "    mean=[]\n",
    "    arr=[]\n",
    "    for i in range(range_):\n",
    "        this_mean=0\n",
    "        for j in range(i+1):\n",
    "            this_mean+=data[j]\n",
    "        mean.append(this_mean/(j+1))\n",
    "    if leftover:\n",
    "        data_size=len(data)-1\n",
    "    else:\n",
    "        data_size=len(data)\n",
    "    for i in range(range_,data_size):\n",
    "        this_mean=data[i]\n",
    "        for j in range(1,range_):\n",
    "            this_mean+=data[i-j]\n",
    "        mean.append(this_mean/(range_))\n",
    "    arr=leftover*[mean[0]]\n",
    "    for i in range(len(mean)):\n",
    "        arr+=concat*[mean[i]]\n",
    "    \n",
    "    \n",
    "    return arr\n",
    "\n",
    "def generate_previous(df,count,col_name):\n",
    "    #idxes=\n",
    "    df=df.reset_index(drop=True)\n",
    "    values=list(df[col_name][0:count])\n",
    "    columns={}\n",
    "    for i in range(count):\n",
    "        this_name=\"prev_\"+col_name+\"_\"+str(i+1)\n",
    "        columns[this_name]=[]\n",
    "    for i in range(count,df[col_name].size):\n",
    "        for j in range(count):\n",
    "            this_name=\"prev_\"+col_name+\"_\"+str(j+1)\n",
    "            columns[this_name].append(values[-(j+1)])\n",
    "        values.pop(0)\n",
    "        values.append(df[col_name][i])\n",
    "    size=df[col_name].size\n",
    "    df=df[count:size]\n",
    "    for i in range(count):\n",
    "        this_name=\"prev_\"+col_name+\"_\"+str(i+1)\n",
    "        df[this_name]=columns[this_name]\n",
    "    \n",
    "    return df.reset_index(drop=True)\n",
    "\n",
    "def df_to_X_y(df, window_size=5):\n",
    "    df_as_np = df.to_numpy()\n",
    "    X = []\n",
    "    y = []\n",
    "    for i in range(len(df_as_np)-window_size):\n",
    "        row = [a for a in (df.iloc[i:i+window_size].drop(\"target\",axis=1).values)]\n",
    "        X.append(row)\n",
    "        label = df[\"target\"][i+window_size-1]\n",
    "        y.append(label)\n",
    "    return np.array(X), np.array(y)\n",
    "\n",
    "def tensor_to_X_y(data, window_size=5):\n",
    "    X = []\n",
    "    y = []\n",
    "    data=pd.DataFrame(data.tolist())\n",
    "    columns=data.columns\n",
    "    for i in range(len(data)-window_size):\n",
    "        row = [a for a in (data.iloc[i:i+window_size].drop(data.columns[-1],axis=1).values)]\n",
    "        X.append(row)\n",
    "        label = data[data.columns[-1]][i+window_size-1]\n",
    "        y.append(label)\n",
    "    return np.array(X), np.array(y)\n",
    "\n",
    "def preprocess_df(df,target_range,hours,hours_interval,days,days_interval,scaling_range=0.2):\n",
    "    target=[]\n",
    "    concat_hours=3\n",
    "    concat_days=8\n",
    "    window=target_range\n",
    "    for i in range(df[\"Open\"].size-window):\n",
    "        target.append(df[\"Open\"][i+window])\n",
    "    df=df[0:df[\"Open\"].size-window]\n",
    "    df[\"target\"]=target\n",
    "    #df=df.drop([\"Close_time\",\"Taker_buy_base_asset_volume\",\"Volume\",\"Close\",\"Low\",\"High\",\"Number_of_trades\"],axis=1)\n",
    "    df=df.drop([\"Close_time\",\"Taker_buy_base_asset_volume\",\"Volume\",\"Close\",\"Low\",\"High\",\"Number_of_trades\"],axis=1)\n",
    "    for i in range(1,hours//hours_interval+1):\n",
    "        df[\"mean_\"+str(i*hours_interval)+\"_hours\"]=moving_average(df[\"Open\"],i*(12//concat_hours)*hours_interval,concat_hours)\n",
    "    for i in range(1,days//days_interval+1):\n",
    "        df[\"mean_\"+str(i*days_interval)+\"_days\"]=moving_average(df[\"Open\"],i*12*(24//concat_days)*days_interval,concat_days)\n",
    "    drop_col=[\"Open\",'Open_time','weekday']\n",
    "    open_delta=[]\n",
    "    df[\"weekday\"]=df[\"weekday\"].astype(float)\n",
    "    for col in df.drop(drop_col,axis=1).columns:\n",
    "        for i in range(df[\"Open\"].size):\n",
    "            df[col][i]=df[col][i]/df[\"Open\"][i]\n",
    "    for i in range(1,df[\"Open\"].size):\n",
    "        df[\"Open_time\"][i]/=86400\n",
    "        df[\"weekday\"][i]/=6.0\n",
    "        delta=df[\"Open\"][i]-df[\"Open\"][i-1]\n",
    "        open_delta.append(delta/df[\"Open\"][i])\n",
    "    df=df.drop(0,axis=0)\n",
    "    cols=df.columns[3:]\n",
    "    for i in cols:\n",
    "        for j in range(1,df[\"Open\"].size):\n",
    "            df[i][j]=(df[i][j]-(1-scaling_range))/(scaling_range*2)\n",
    "    return df\n",
    "\n",
    "def upscale(input_data,scaling_range=0.2):\n",
    "    return input_data*2*scaling_range-scaling_range+1"
   ]
  },
  {
   "cell_type": "code",
   "execution_count": 3,
   "id": "8112fa21",
   "metadata": {},
   "outputs": [],
   "source": [
    "class autoencoder(nn.Module):\n",
    "    def __init__(self,drop,input_size,hidden_size,test_size):\n",
    "        super(autoencoder, self).__init__()\n",
    "        self.norm=nn.BatchNorm1d(hidden_size)\n",
    "        self.fc1 = nn.Linear(input_size,hidden_size)\n",
    "        self.fc2 = nn.Linear(hidden_size, hidden_size,bias=True)\n",
    "        self.fc3 = nn.Linear(hidden_size, test_size,bias=True)\n",
    "        self.fc4 = nn.Linear(test_size, hidden_size,bias=True)\n",
    "        self.fc5 = nn.Linear(hidden_size, hidden_size,bias=True)\n",
    "        self.fc6 = nn.Linear(hidden_size, hidden_size,bias=True)\n",
    "        self.fc7 = nn.Linear(hidden_size, input_size,bias=True)\n",
    "        self.dropout = nn.Dropout(drop)\n",
    "    def forward(self, x):\n",
    "        x = self.fc1(x)\n",
    "        x = F.relu(x)\n",
    "        x = self.fc2(x)\n",
    "        x = self.dropout(F.relu(x))\n",
    "        x = self.fc3(x)\n",
    "        x = F.relu(x)\n",
    "        x = self.fc4(x)\n",
    "        x = F.relu(x)\n",
    "        x = self.fc5(x)\n",
    "        x = self.dropout(F.relu(x))\n",
    "        x = self.fc6(x)\n",
    "        x = F.relu(x)\n",
    "        x = self.fc7(x)\n",
    "        return x\n",
    "    def encode (self,x):\n",
    "        x = self.fc1(x)\n",
    "        x = F.relu(x)\n",
    "        x = self.fc2(x)\n",
    "        x = F.relu(x)\n",
    "        x = self.fc3(x)\n",
    "        x = F.relu(x)\n",
    "        return x\n",
    "    \n",
    "class Net(nn.Module):\n",
    "    def __init__(self,drop,hidden_size,input_size):\n",
    "        super(Net, self).__init__()\n",
    "        self.norm=nn.BatchNorm1d(hidden_size)\n",
    "        self.fc1 = nn.LSTM(num_layers=1,input_size=input_size, hidden_size=hidden_size,batch_first=True)\n",
    "        self.fc2 = nn.Linear(hidden_size, hidden_size,bias=True)\n",
    "        self.fc3 = nn.Linear(hidden_size, hidden_size,bias=True)\n",
    "        self.fc4 = nn.Linear(hidden_size, hidden_size,bias=True)\n",
    "        self.fc5 = nn.Linear(hidden_size, hidden_size,bias=True)\n",
    "        self.fc6 = nn.Linear(hidden_size, 1,bias=True)\n",
    "        self.dropout = nn.Dropout(drop)\n",
    "    def forward(self, x):\n",
    "        x,_ = self.fc1(x)\n",
    "        x=x[:,-1,:]\n",
    "        x=F.tanh(x)\n",
    "        x = self.dropout(x)\n",
    "        x = F.logsigmoid(self.fc5(x))\n",
    "        x = self.dropout(x)\n",
    "        x = self.fc6(x)\n",
    "        return x\n",
    "    def predict(self, x):\n",
    "        x,_ = self.fc1(x)\n",
    "        x=x[:,-1,:]\n",
    "        x=F.tanh(x)\n",
    "        x = self.dropout(x)\n",
    "        x = F.logsigmoid(self.fc5(x))\n",
    "        #x = self.dropout(x)\n",
    "        x = self.fc6(x)\n",
    "        return x"
   ]
  },
  {
   "cell_type": "code",
   "execution_count": 4,
   "id": "08772638",
   "metadata": {},
   "outputs": [],
   "source": [
    "def encode(encoder,data):\n",
    "    encoded=encoder.encode(torch.tensor(data,device=\"cuda\"))\n",
    "    #if (encoded.shape.shape!=1):\n",
    "    arr=torch.tensor([0 for i in encoded[:,0]],device=\"cuda\")\n",
    "    #print(encoded[:,1])\n",
    "    count=0\n",
    "    for i in range(encoded.shape[1]):\n",
    "        if (set(encoded[:,i].tolist())!={0.0}):\n",
    "            arr=torch.cat((arr,encoded[:,i]),0)\n",
    "            count+=1\n",
    "    arr=torch.reshape(arr,[count+1,encoded.shape[0]])[1:]\n",
    "    arr=torch.reshape(arr,[encoded.shape[0],count])\n",
    "    return arr\n",
    "\n",
    "def tensor_to_sequences(data, window_size=5):\n",
    "    X = []\n",
    "    data=pd.DataFrame(data.tolist())\n",
    "    for i in range(len(data)-window_size):\n",
    "        row = [a for a in (data.iloc[i:i+window_size].values)]\n",
    "        X.append(row)\n",
    "    return np.array(X)"
   ]
  },
  {
   "cell_type": "code",
   "execution_count": 5,
   "id": "bd20738d",
   "metadata": {},
   "outputs": [],
   "source": [
    "def backtest(\n",
    "net,\n",
    "wallet_start=1000,\n",
    "min_sell_threshold=1.0008, #min value for selling\n",
    "buying_threshold=1.0015, #min prediction for buying\n",
    "purchase_size=0.2,\n",
    "net_repeating=5,\n",
    "comission=0.001,\n",
    "stop_loss=0.985,\n",
    "loss_multiplier=1,\n",
    "loss_count_max=3\n",
    "):\n",
    "\n",
    "\n",
    "    wallet=wallet_start\n",
    "    desired_sell_cost=0\n",
    "    min_sell_value=0\n",
    "    wallet_dynamics=[]\n",
    "    #buying_threshold=upscale(buying_threshold)\n",
    "    #min_sell_threshold=upscale(min_sell_threshold)\n",
    "    buy=0\n",
    "    sell=0\n",
    "    backtest_preds=[]\n",
    "    positions=[]\n",
    "    loss_count=0\n",
    "\n",
    "    for i in range(len(test_data)):\n",
    "        this_open=test_opens[i]\n",
    "        array=[]\n",
    "        preds=[]\n",
    "        for j in range(net_repeating):\n",
    "            array.append(net(torch.tensor([test_data[i]],device=\"cuda\")).tolist()[0])\n",
    "        array=np.asarray(array)\n",
    "        for j in range(len(array[0])):\n",
    "            preds.append(np.mean(array[:,j]))\n",
    "        test_prediction=upscale(preds[0],0.2)*this_open #getting prediction\n",
    "\n",
    "        buying_value=buying_threshold*this_open\n",
    "        backtest_preds.append(test_prediction)\n",
    "        if (buy==0 and test_prediction>buying_value): #buy when prediction > min sell value \n",
    "            buy=1\n",
    "            wallet-=this_open*purchase_size*(1+comission)\n",
    "            desired_sell_cost=min_sell_value\n",
    "            #wallet_dynamics.append(wallet-wallet_start)\n",
    "            min_sell_value=min_sell_threshold*this_open\n",
    "            positions.append(this_open)\n",
    "        if (buy==1 and this_open>=min_sell_value): #sell when cost is at least min sell value\n",
    "            buy=0\n",
    "            wallet+=this_open*purchase_size*(1-comission)\n",
    "            wallet_dynamics.append(wallet-wallet_start)\n",
    "            positions.pop(0)\n",
    "            loss_count=0\n",
    "        if (buy==1 and this_open<positions[0]*stop_loss):\n",
    "            buy=0\n",
    "            wallet+=this_open*purchase_size*(1-comission)\n",
    "            wallet_dynamics.append(wallet-wallet_start)\n",
    "            positions.pop(0)\n",
    "            loss_count=0\n",
    "        if (buy==1 and test_prediction<positions[0]*(1-buying_threshold*loss_multiplier)):\n",
    "            loss_count+=1\n",
    "            if (loss_count>=loss_count_max):\n",
    "                loss_count=0\n",
    "                buy=0\n",
    "                wallet+=this_open*purchase_size*(1-comission)\n",
    "                wallet_dynamics.append(wallet-wallet_start)\n",
    "                positions.pop(0)\n",
    "    #if(buy==1):\n",
    "        #wallet+=test_opens[-1]*purchase_size\n",
    "        #wallet_dynamics.append(wallet-wallet_start)\n",
    "    gc.collect()\n",
    "    return wallet_dynamics"
   ]
  },
  {
   "cell_type": "code",
   "execution_count": 6,
   "id": "def454f8",
   "metadata": {},
   "outputs": [],
   "source": [
    "directory=\"G:\\Учеба\\биржа\"\n",
    "symbol=\"ETHUSDT\""
   ]
  },
  {
   "cell_type": "code",
   "execution_count": 7,
   "id": "e22d17c6",
   "metadata": {},
   "outputs": [
    {
     "data": {
      "text/plain": [
       "<All keys matched successfully>"
      ]
     },
     "execution_count": 7,
     "metadata": {},
     "output_type": "execute_result"
    }
   ],
   "source": [
    "encoder=autoencoder(0,41,64,10).cuda().double()\n",
    "encoder.load_state_dict(torch.load(directory+\"\\\\encoder_05-07-2022_22-03-48_64_10.pth\"))\n",
    "#encoder.eval()"
   ]
  },
  {
   "cell_type": "code",
   "execution_count": null,
   "id": "d70fbd1e",
   "metadata": {},
   "outputs": [],
   "source": []
  },
  {
   "cell_type": "code",
   "execution_count": 8,
   "id": "d40d38e2",
   "metadata": {
    "scrolled": true
   },
   "outputs": [],
   "source": [
    "#count=2*365\n",
    "#time_now=datetime.datetime.now()\n",
    "#time_now=round(time_now.timestamp())*1000\n",
    "#df=transform_df(import_api(time_now-12*3600*1000,\"ETHUSDT\",90,\"5m\"))\n",
    "#size=df[\"Open\"].size\n",
    "#df[\"Open\"][size-1]"
   ]
  },
  {
   "cell_type": "code",
   "execution_count": 9,
   "id": "bf048991",
   "metadata": {},
   "outputs": [
    {
     "name": "stderr",
     "output_type": "stream",
     "text": [
      "C:\\Users\\DANIEL~1\\AppData\\Local\\Temp/ipykernel_10740/3385055909.py:114: SettingWithCopyWarning: \n",
      "A value is trying to be set on a copy of a slice from a DataFrame.\n",
      "Try using .loc[row_indexer,col_indexer] = value instead\n",
      "\n",
      "See the caveats in the documentation: https://pandas.pydata.org/pandas-docs/stable/user_guide/indexing.html#returning-a-view-versus-a-copy\n",
      "  df[\"target\"]=target\n"
     ]
    }
   ],
   "source": [
    "time_now=datetime.datetime.now()\n",
    "time_now=round(time_now.timestamp())*1000\n",
    "time_now-=40*24*3600*1000\n",
    "df1=pd.DataFrame()\n",
    "for i in range(2*45): #2*365\n",
    "    df1=import_api(time_now-12*3600*1000*i,symbol,720,\"5m\").append(df1)\n",
    "df1=transform_df(df1)\n",
    "df1=preprocess_df(df1,4,24,1,15,1).reset_index(drop=True)"
   ]
  },
  {
   "cell_type": "code",
   "execution_count": 10,
   "id": "85d76483",
   "metadata": {},
   "outputs": [],
   "source": [
    "#df1.to_csv(directory+\"\\\\20_05-25_06_trades_data.csv\")\n",
    "#df1=pd.read_csv(directory+\"\\\\20_06-7_07_trades_data.csv\").reset_index(drop=True).drop(\"Unnamed: 0\",axis=1)\n",
    "#df1=pd.read_csv(directory+\"\\\\1_07-17_07_trades_data.csv\").reset_index(drop=True).drop(\"Unnamed: 0\",axis=1)\n",
    "#df1=pd.read_csv(directory+\"\\\\17_07-2_08_trades_data.csv\").reset_index(drop=True).drop(\"Unnamed: 0\",axis=1)\n",
    "#df1=pd.read_csv(directory+\"\\\\5_07-5_08_trades_data.csv\").reset_index(drop=True).drop(\"Unnamed: 0\",axis=1)\n",
    "df1=pd.read_csv(directory+\"\\\\20_05-25_06_trades_data.csv\").reset_index(drop=True).drop(\"Unnamed: 0\",axis=1)"
   ]
  },
  {
   "cell_type": "code",
   "execution_count": null,
   "id": "552757c5",
   "metadata": {},
   "outputs": [],
   "source": []
  },
  {
   "cell_type": "code",
   "execution_count": 11,
   "id": "da4112b6",
   "metadata": {},
   "outputs": [],
   "source": [
    "leftover=10\n",
    "beginning=-(5*12*24*8)\n",
    "opens=df1[\"Open\"]\n",
    "test_opens=np.asarray(df1[\"Open\"][beginning:-leftover])\n",
    "encoded=encode(encoder,df1.drop([\"Open\",\"target\"],axis=1).to_numpy()[:]).tolist()\n",
    "encoded=torch.tensor(encoded,device=\"cuda\")\n",
    "window_size=30\n",
    "seq=tensor_to_sequences(encoded[-(window_size+1):],window_size)\n",
    "test_data=tensor_to_sequences(encoded[beginning:-leftover],window_size)\n",
    "for i in range(len(test_data)):\n",
    "        for j in range(test_data[i].shape[0]):\n",
    "            test_data[i][j]=np.array(test_data[i][j])"
   ]
  },
  {
   "cell_type": "code",
   "execution_count": 12,
   "id": "13705bdc",
   "metadata": {
    "scrolled": true
   },
   "outputs": [
    {
     "data": {
      "text/plain": [
       "<AxesSubplot:>"
      ]
     },
     "execution_count": 12,
     "metadata": {},
     "output_type": "execute_result"
    },
    {
     "data": {
      "image/png": "[encoded data removed]",
      "text/plain": [
       "<Figure size 432x288 with 1 Axes>"
      ]
     },
     "metadata": {
      "needs_background": "light"
     },
     "output_type": "display_data"
    }
   ],
   "source": [
    "pd.DataFrame(test_opens)[:].plot()"
   ]
  },
  {
   "cell_type": "code",
   "execution_count": 13,
   "id": "a8659cca",
   "metadata": {},
   "outputs": [],
   "source": [
    "names=[\"\\\\net_15-07-2022_15-18-03_3_64\",\n",
    "       \"\\\\net_12-07-2022_16-24-30_3_64\",\n",
    "       \"\\\\net_12-07-2022_17-54-06_3_128\",\n",
    "      \"\\\\net_16-07-2022_22-45-20_3_64\",\n",
    "      \"\\\\net_17-07-2022_00-01-19_3_64\",\n",
    "      \"\\\\net_23-07-2022_16-40-32_3_96\",\n",
    "      \"\\\\net_25-07-2022_13-34-39_3_96\",#6\n",
    "      \"\\\\net_25-07-2022_16-58-19_3_96\"]"
   ]
  },
  {
   "cell_type": "code",
   "execution_count": 15,
   "id": "df5caa2f",
   "metadata": {},
   "outputs": [
    {
     "data": {
      "text/plain": [
       "<All keys matched successfully>"
      ]
     },
     "execution_count": 15,
     "metadata": {},
     "output_type": "execute_result"
    }
   ],
   "source": [
    "name=names[7]\n",
    "path=directory+name\n",
    "net=Net(0.6,96,3).cuda().double()\n",
    "net.load_state_dict(torch.load(path+\".pth\"))\n",
    "#net.eval()"
   ]
  },
  {
   "cell_type": "code",
   "execution_count": 14,
   "id": "2f25a942",
   "metadata": {},
   "outputs": [],
   "source": [
    "#0.0026 \t0.00325 \t0.1 \t2 \t\\net_25-07-2022_16-58-19_3_96\n",
    "#0.0026 \t0.00225 \t0.1 \t3 \t\\net_25-07-2022_16-58-19_3_96\n",
    "\n",
    "#0.0020 \t0.002 \t0.15 \t3 \t\\net_23-07-2022_16-40-32_3_96\n",
    "#0.0035 \t0.002 \t0.15 \t3 \t\\net_23-07-2022_16-40-32_3_96\n",
    "#0.003 \t0.0045 \t0.15 \t1 \t\\net_23-07-2022_16-40-32_3_96\n",
    "#0.003 \t0.002 \t0.15 \t3 \t\\net_25-07-2022_16-58-19_3_96\n",
    "#results                                      0.136652\n",
    "#min_sell                                        0.003\n",
    "#buying_threshold_arr                           0.0035\n",
    "#stop_loss_arr                                    0.15\n",
    "#net_repeating_arr                                   2\n",
    "#name                    \\net_23-07-2022_16-40-32_3_96"
   ]
  },
  {
   "cell_type": "code",
   "execution_count": 15,
   "id": "1f972a6c",
   "metadata": {},
   "outputs": [],
   "source": [
    "#results                                 -2.212807\n",
    "#min_sell                                    0.004\n",
    "#buying_threshold                            0.003\n",
    "#stop_loss                                    0.15\n",
    "#loss_multiplier                                 3\n",
    "#loss_count_max                                  3\n",
    "#net_repeating                                   3\n",
    "#name                \\net_25-07-2022_16-58-19_3_96"
   ]
  },
  {
   "cell_type": "code",
   "execution_count": null,
   "id": "f0b4e521",
   "metadata": {},
   "outputs": [],
   "source": [
    "#results                                       0.0\n",
    "#min_sell                                    0.004\n",
    "#buying_threshold                            0.004\n",
    "#stop_loss                                    0.15\n",
    "#loss_multiplier                                 1\n",
    "#loss_count_max                                  1\n",
    "#net_repeating                                   2\n",
    "#name                \\net_25-07-2022_16-58-19_3_96"
   ]
  },
  {
   "cell_type": "code",
   "execution_count": 16,
   "id": "68cde03e",
   "metadata": {},
   "outputs": [],
   "source": [
    "#most optimal: 0.003 \t0.0045 \t0.15 \t1 \t\\net_23-07-2022_16-40-32_3_96, loss_multiplier=4,loss_count_max=2, mean=-0.08"
   ]
  },
  {
   "cell_type": "code",
   "execution_count": null,
   "id": "f77b200b",
   "metadata": {},
   "outputs": [],
   "source": []
  },
  {
   "cell_type": "code",
   "execution_count": 16,
   "id": "3e838c6c",
   "metadata": {
    "scrolled": true
   },
   "outputs": [
    {
     "name": "stderr",
     "output_type": "stream",
     "text": [
      "C:\\Users\\DANIEL~1\\AppData\\Local\\Temp/ipykernel_10740/1856368297.py:32: UserWarning: Creating a tensor from a list of numpy.ndarrays is extremely slow. Please consider converting the list to a single numpy.ndarray with numpy.array() before converting to a tensor. (Triggered internally at  C:\\actions-runner\\_work\\pytorch\\pytorch\\builder\\windows\\pytorch\\torch\\csrc\\utils\\tensor_new.cpp:210.)\n",
      "  array.append(net(torch.tensor([test_data[i]],device=\"cuda\")).tolist()[0])\n",
      "G:\\anaconda3\\lib\\site-packages\\torch\\nn\\functional.py:1933: UserWarning: nn.functional.tanh is deprecated. Use torch.tanh instead.\n",
      "  warnings.warn(\"nn.functional.tanh is deprecated. Use torch.tanh instead.\")\n"
     ]
    }
   ],
   "source": [
    "min_sell=0.004\n",
    "buying_threshold=0.003\n",
    "stop_loss=0.15\n",
    "loss_multiplier=3\n",
    "loss_count_max=3\n",
    "net_repeating=3\n",
    "ressss=[]\n",
    "for i in range(100):\n",
    "    backtest_results=backtest(net,wallet_start=1000,min_sell_threshold=1+min_sell,buying_threshold=1+buying_threshold,purchase_size=0.01,net_repeating=net_repeating,comission=0.001,stop_loss=1-stop_loss,loss_multiplier=loss_multiplier,loss_count_max=loss_count_max)\n",
    "    if (backtest_results!=[]):\n",
    "        ressss.append(backtest_results[-1])\n",
    "    else:\n",
    "        ressss.append([0])"
   ]
  },
  {
   "cell_type": "code",
   "execution_count": 40,
   "id": "281b4adc",
   "metadata": {},
   "outputs": [],
   "source": [
    "#pd.DataFrame(backtest_results).plot()"
   ]
  },
  {
   "cell_type": "code",
   "execution_count": null,
   "id": "53524b8b",
   "metadata": {},
   "outputs": [],
   "source": []
  },
  {
   "cell_type": "code",
   "execution_count": 31,
   "id": "5695725e",
   "metadata": {},
   "outputs": [
    {
     "name": "stderr",
     "output_type": "stream",
     "text": [
      "G:\\anaconda3\\lib\\site-packages\\numpy\\core\\fromnumeric.py:997: VisibleDeprecationWarning: Creating an ndarray from ragged nested sequences (which is a list-or-tuple of lists-or-tuples-or ndarrays with different lengths or shapes) is deprecated. If you meant to do this, you must specify 'dtype=object' when creating the ndarray.\n",
      "  a = asanyarray(a).copy(order=\"K\")\n"
     ]
    },
    {
     "data": {
      "text/plain": [
       "<AxesSubplot:>"
      ]
     },
     "execution_count": 31,
     "metadata": {},
     "output_type": "execute_result"
    },
    {
     "data": {
      "image/png": "[encoded data removed]",
      "text/plain": [
       "<Figure size 432x288 with 1 Axes>"
      ]
     },
     "metadata": {
      "needs_background": "light"
     },
     "output_type": "display_data"
    }
   ],
   "source": [
    "pd.DataFrame([np.sort(ressss),[0 for i in range(len(ressss))]]).T.plot()\n",
    "#3"
   ]
  },
  {
   "cell_type": "code",
   "execution_count": 30,
   "id": "b6f09838",
   "metadata": {},
   "outputs": [
    {
     "name": "stderr",
     "output_type": "stream",
     "text": [
      "G:\\anaconda3\\lib\\site-packages\\numpy\\core\\fromnumeric.py:997: VisibleDeprecationWarning: Creating an ndarray from ragged nested sequences (which is a list-or-tuple of lists-or-tuples-or ndarrays with different lengths or shapes) is deprecated. If you meant to do this, you must specify 'dtype=object' when creating the ndarray.\n",
      "  a = asanyarray(a).copy(order=\"K\")\n"
     ]
    },
    {
     "data": {
      "text/html": [
       "<div>\n",
       "<style scoped>\n",
       "    .dataframe tbody tr th:only-of-type {\n",
       "        vertical-align: middle;\n",
       "    }\n",
       "\n",
       "    .dataframe tbody tr th {\n",
       "        vertical-align: top;\n",
       "    }\n",
       "\n",
       "    .dataframe thead th {\n",
       "        text-align: right;\n",
       "    }\n",
       "</style>\n",
       "<table border=\"1\" class=\"dataframe\">\n",
       "  <thead>\n",
       "    <tr style=\"text-align: right;\">\n",
       "      <th></th>\n",
       "      <th>0</th>\n",
       "      <th>1</th>\n",
       "    </tr>\n",
       "  </thead>\n",
       "  <tbody>\n",
       "    <tr>\n",
       "      <th>count</th>\n",
       "      <td>100</td>\n",
       "      <td>100.0</td>\n",
       "    </tr>\n",
       "    <tr>\n",
       "      <th>unique</th>\n",
       "      <td>99</td>\n",
       "      <td>1.0</td>\n",
       "    </tr>\n",
       "    <tr>\n",
       "      <th>top</th>\n",
       "      <td>[0]</td>\n",
       "      <td>0.0</td>\n",
       "    </tr>\n",
       "    <tr>\n",
       "      <th>freq</th>\n",
       "      <td>2</td>\n",
       "      <td>100.0</td>\n",
       "    </tr>\n",
       "  </tbody>\n",
       "</table>\n",
       "</div>"
      ],
      "text/plain": [
       "          0      1\n",
       "count   100  100.0\n",
       "unique   99    1.0\n",
       "top     [0]    0.0\n",
       "freq      2  100.0"
      ]
     },
     "execution_count": 30,
     "metadata": {},
     "output_type": "execute_result"
    }
   ],
   "source": [
    "pd.DataFrame([np.sort(ressss),[0 for i in range(len(ressss))]]).T.describe()"
   ]
  },
  {
   "cell_type": "code",
   "execution_count": 33,
   "id": "0bbd693b",
   "metadata": {},
   "outputs": [
    {
     "name": "stderr",
     "output_type": "stream",
     "text": [
      "G:\\anaconda3\\lib\\site-packages\\torch\\nn\\functional.py:1933: UserWarning: nn.functional.tanh is deprecated. Use torch.tanh instead.\n",
      "  warnings.warn(\"nn.functional.tanh is deprecated. Use torch.tanh instead.\")\n"
     ]
    }
   ],
   "source": [
    "ressss_no_net=[]\n",
    "for i in range(4):\n",
    "    backtest_results_no_net=backtest(net,wallet_start=1000,min_sell_threshold=1.002,buying_threshold=0.5,purchase_size=0.002,net_repeating=1,comission=0.001,stop_loss=0.85)\n",
    "    ressss_no_net.append(backtest_results_no_net[-1])"
   ]
  },
  {
   "cell_type": "code",
   "execution_count": 34,
   "id": "3870039c",
   "metadata": {},
   "outputs": [
    {
     "data": {
      "text/plain": [
       "<AxesSubplot:>"
      ]
     },
     "execution_count": 34,
     "metadata": {},
     "output_type": "execute_result"
    },
    {
     "data": {
      "image/png": "[encoded data removed]",
      "text/plain": [
       "<Figure size 432x288 with 1 Axes>"
      ]
     },
     "metadata": {
      "needs_background": "light"
     },
     "output_type": "display_data"
    }
   ],
   "source": [
    "pd.DataFrame([np.sort(ressss_no_net),[0 for i in range(len(ressss_no_net))]]).T.plot()"
   ]
  },
  {
   "cell_type": "code",
   "execution_count": 35,
   "id": "6dd7de3b",
   "metadata": {},
   "outputs": [
    {
     "data": {
      "text/html": [
       "<div>\n",
       "<style scoped>\n",
       "    .dataframe tbody tr th:only-of-type {\n",
       "        vertical-align: middle;\n",
       "    }\n",
       "\n",
       "    .dataframe tbody tr th {\n",
       "        vertical-align: top;\n",
       "    }\n",
       "\n",
       "    .dataframe thead th {\n",
       "        text-align: right;\n",
       "    }\n",
       "</style>\n",
       "<table border=\"1\" class=\"dataframe\">\n",
       "  <thead>\n",
       "    <tr style=\"text-align: right;\">\n",
       "      <th></th>\n",
       "      <th>0</th>\n",
       "      <th>1</th>\n",
       "    </tr>\n",
       "  </thead>\n",
       "  <tbody>\n",
       "    <tr>\n",
       "      <th>count</th>\n",
       "      <td>4.000000</td>\n",
       "      <td>4.0</td>\n",
       "    </tr>\n",
       "    <tr>\n",
       "      <th>mean</th>\n",
       "      <td>0.276864</td>\n",
       "      <td>0.0</td>\n",
       "    </tr>\n",
       "    <tr>\n",
       "      <th>std</th>\n",
       "      <td>0.000000</td>\n",
       "      <td>0.0</td>\n",
       "    </tr>\n",
       "    <tr>\n",
       "      <th>min</th>\n",
       "      <td>0.276864</td>\n",
       "      <td>0.0</td>\n",
       "    </tr>\n",
       "    <tr>\n",
       "      <th>25%</th>\n",
       "      <td>0.276864</td>\n",
       "      <td>0.0</td>\n",
       "    </tr>\n",
       "    <tr>\n",
       "      <th>50%</th>\n",
       "      <td>0.276864</td>\n",
       "      <td>0.0</td>\n",
       "    </tr>\n",
       "    <tr>\n",
       "      <th>75%</th>\n",
       "      <td>0.276864</td>\n",
       "      <td>0.0</td>\n",
       "    </tr>\n",
       "    <tr>\n",
       "      <th>max</th>\n",
       "      <td>0.276864</td>\n",
       "      <td>0.0</td>\n",
       "    </tr>\n",
       "  </tbody>\n",
       "</table>\n",
       "</div>"
      ],
      "text/plain": [
       "              0    1\n",
       "count  4.000000  4.0\n",
       "mean   0.276864  0.0\n",
       "std    0.000000  0.0\n",
       "min    0.276864  0.0\n",
       "25%    0.276864  0.0\n",
       "50%    0.276864  0.0\n",
       "75%    0.276864  0.0\n",
       "max    0.276864  0.0"
      ]
     },
     "execution_count": 35,
     "metadata": {},
     "output_type": "execute_result"
    }
   ],
   "source": [
    "pd.DataFrame([np.sort(ressss_no_net),[0 for i in range(len(ressss_no_net))]]).T.describe()"
   ]
  },
  {
   "cell_type": "code",
   "execution_count": 98,
   "id": "a10e7e82",
   "metadata": {},
   "outputs": [],
   "source": [
    "#pd.DataFrame(backtest_results).plot()"
   ]
  },
  {
   "cell_type": "code",
   "execution_count": null,
   "id": "ed520616",
   "metadata": {
    "scrolled": true
   },
   "outputs": [],
   "source": []
  },
  {
   "cell_type": "code",
   "execution_count": null,
   "id": "bac36e68",
   "metadata": {},
   "outputs": [],
   "source": []
  },
  {
   "cell_type": "code",
   "execution_count": 17,
   "id": "3baa3ac7",
   "metadata": {},
   "outputs": [
    {
     "name": "stdout",
     "output_type": "stream",
     "text": [
      "3\n"
     ]
    },
    {
     "name": "stderr",
     "output_type": "stream",
     "text": [
      "G:\\anaconda3\\lib\\site-packages\\torch\\nn\\functional.py:1933: UserWarning: nn.functional.tanh is deprecated. Use torch.tanh instead.\n",
      "  warnings.warn(\"nn.functional.tanh is deprecated. Use torch.tanh instead.\")\n",
      "G:\\anaconda3\\lib\\site-packages\\numpy\\core\\_methods.py:163: VisibleDeprecationWarning: Creating an ndarray from ragged nested sequences (which is a list-or-tuple of lists-or-tuples-or ndarrays with different lengths or shapes) is deprecated. If you meant to do this, you must specify 'dtype=object' when creating the ndarray.\n",
      "  arr = asanyarray(a)\n",
      "G:\\anaconda3\\lib\\site-packages\\numpy\\core\\fromnumeric.py:3440: RuntimeWarning: Mean of empty slice.\n",
      "  return _methods._mean(a, axis=axis, dtype=dtype,\n",
      "G:\\anaconda3\\lib\\site-packages\\numpy\\core\\_methods.py:189: RuntimeWarning: invalid value encountered in double_scalars\n",
      "  ret = ret.dtype.type(ret / rcount)\n"
     ]
    },
    {
     "name": "stdout",
     "output_type": "stream",
     "text": [
      "4\n",
      "3\n",
      "4\n",
      "3\n",
      "4\n",
      "3\n",
      "4\n"
     ]
    }
   ],
   "source": [
    "backtest_results=[]\n",
    "backtest_results_means=[]\n",
    "stop_loss=0.15\n",
    "sell=0.0026\n",
    "net_repeats=1\n",
    "buy=0.0045\n",
    "name=names[7]\n",
    "#names_arr=names[6:]\n",
    "#for i in range(len(names_arr)):\n",
    "#    name=names_arr[i]\n",
    "#    print(name)\n",
    "#    word=\"\"\n",
    "#    for k in range(1,len(name)):\n",
    "#        if(name[-k]!=\"_\"):\n",
    "#            word=name[-k]+word\n",
    "#        else:\n",
    "#            break\n",
    "#word=int(word)\n",
    "path=directory+name\n",
    "net=Net(0.6,96,3).cuda().double()\n",
    "net.load_state_dict(torch.load(path+\".pth\"))\n",
    "for loss_multiplier in range(1,5):\n",
    "    for loss_count_max in range(loss_count_min,5):    \n",
    "        print(loss_count_max)\n",
    "        for buy in np.arange(0.002,0.0086,0.0015):\n",
    "            #print(buy)\n",
    "            for sell in np.arange(0.002,0.0081,0.0015):\n",
    "                for net_repeats in range(1,5,1):\n",
    "                    arr=[]\n",
    "                    for i in range(10):\n",
    "                        backtest_results.append([backtest(net,wallet_start=1000,min_sell_threshold=1+sell,buying_threshold=1+buy,purchase_size=0.01,net_repeating=net_repeats,comission=0.001,stop_loss=1-stop_loss,loss_multiplier=loss_multiplier,loss_count_max=loss_count_max),stop_loss,buy,sell,net_repeats,name,loss_multiplier,loss_count_max])\n",
    "                        arr.append(backtest_results[-1][0])\n",
    "                    backtest_results_means.append(np.mean(arr))"
   ]
  },
  {
   "cell_type": "code",
   "execution_count": 13,
   "id": "cb63898f",
   "metadata": {},
   "outputs": [
    {
     "name": "stdout",
     "output_type": "stream",
     "text": [
      "0\n"
     ]
    },
    {
     "name": "stderr",
     "output_type": "stream",
     "text": [
      "C:\\Users\\DANIEL~1\\AppData\\Local\\Temp/ipykernel_14592/1856368297.py:32: UserWarning: Creating a tensor from a list of numpy.ndarrays is extremely slow. Please consider converting the list to a single numpy.ndarray with numpy.array() before converting to a tensor. (Triggered internally at  C:\\actions-runner\\_work\\pytorch\\pytorch\\builder\\windows\\pytorch\\torch\\csrc\\utils\\tensor_new.cpp:210.)\n",
      "  array.append(net(torch.tensor([test_data[i]],device=\"cuda\")).tolist()[0])\n",
      "G:\\anaconda3\\lib\\site-packages\\torch\\nn\\functional.py:1933: UserWarning: nn.functional.tanh is deprecated. Use torch.tanh instead.\n",
      "  warnings.warn(\"nn.functional.tanh is deprecated. Use torch.tanh instead.\")\n",
      "G:\\anaconda3\\lib\\site-packages\\numpy\\core\\_methods.py:163: VisibleDeprecationWarning: Creating an ndarray from ragged nested sequences (which is a list-or-tuple of lists-or-tuples-or ndarrays with different lengths or shapes) is deprecated. If you meant to do this, you must specify 'dtype=object' when creating the ndarray.\n",
      "  arr = asanyarray(a)\n"
     ]
    },
    {
     "name": "stdout",
     "output_type": "stream",
     "text": [
      "1\n",
      "2\n",
      "3\n",
      "4\n",
      "5\n",
      "6\n",
      "7\n",
      "8\n",
      "9\n",
      "10\n"
     ]
    }
   ],
   "source": [
    "#backtest_results=[]\n",
    "#backtest_results_means=[]\n",
    "stop_loss=0.15\n",
    "sell=0.0026\n",
    "buy=0.0045\n",
    "loss_multiplier=1\n",
    "loss_count_max=3\n",
    "net_repeating=1\n",
    "#print(a)\n",
    "names_arr=names[5:]\n",
    "for loss_multiplier in np.arange(0,11,1):\n",
    "    print(loss_multiplier)\n",
    "    for loss_count_max in np.arange(1,7,1):\n",
    "    #for net_repeats in range(1,4,1):\n",
    "        arr=[]\n",
    "        for i in range(30):\n",
    "            backtest_results.append([backtest(net,wallet_start=1000,min_sell_threshold=1.003,buying_threshold=1.0045,purchase_size=0.01,net_repeating=1,comission=0.001,stop_loss=0.85,loss_multiplier=loss_multiplier,loss_count_max=loss_count_max),loss_count_max,loss_multiplier,sell,net_repeating,name])\n",
    "            arr.append(backtest_results[-1][0])\n",
    "        backtest_results_means.append(np.mean(arr))"
   ]
  },
  {
   "cell_type": "code",
   "execution_count": 14,
   "id": "db884f23",
   "metadata": {},
   "outputs": [],
   "source": [
    "#print(a,b,c,d)"
   ]
  },
  {
   "cell_type": "code",
   "execution_count": 18,
   "id": "0a975258",
   "metadata": {},
   "outputs": [],
   "source": [
    "results_1=[]\n",
    "results_2=[]\n",
    "min_sell_threshold_arr=[]\n",
    "buying_threshold_arr=[]\n",
    "net_repeating_arr=[]\n",
    "stop_loss_arr=[]\n",
    "net_repeating_arr=[]\n",
    "net_name_arr=[]\n",
    "loss_multiplier_arr=[]\n",
    "loss_count_max_arr=[]\n",
    "for i in range(len(backtest_results)):\n",
    "    results_1.append(backtest_results[i][0])\n",
    "    stop_loss_arr.append(backtest_results[i][1])\n",
    "    buying_threshold_arr.append(backtest_results[i][2])\n",
    "    min_sell_threshold_arr.append(backtest_results[i][3])\n",
    "    net_repeating_arr.append(backtest_results[i][4])\n",
    "    net_name_arr.append(backtest_results[i][5])\n",
    "    loss_multiplier_arr.append(backtest_results[i][6])\n",
    "    loss_count_max_arr.append(backtest_results[i][7])\n",
    "for i in range(len(results_1)):\n",
    "    if (results_1[i]!=[]):\n",
    "        results_2.append(results_1[i][-1])\n",
    "    else:\n",
    "        results_2.append(0)"
   ]
  },
  {
   "cell_type": "code",
   "execution_count": 19,
   "id": "8e86901d",
   "metadata": {},
   "outputs": [
    {
     "data": {
      "text/plain": [
       "1.8188362000001916"
      ]
     },
     "execution_count": 19,
     "metadata": {},
     "output_type": "execute_result"
    }
   ],
   "source": [
    "np.max(results_2)"
   ]
  },
  {
   "cell_type": "code",
   "execution_count": 20,
   "id": "0ad87d3c",
   "metadata": {},
   "outputs": [],
   "source": [
    "Backtest_results_df=pd.DataFrame({\"results\":results_2,\n",
    "              \"min_sell\":min_sell_threshold_arr,\n",
    "              \"buying_threshold\":buying_threshold_arr,\n",
    "              \"stop_loss\":stop_loss_arr,\n",
    "                \"loss_multiplier\":loss_multiplier_arr,\n",
    "              \"loss_count_max\":loss_count_max_arr,                 \n",
    "              \"net_repeating\":net_repeating_arr,\n",
    "                \"name\":net_name_arr\n",
    "                                 })\n",
    "Trades_backtest_data=pd.DataFrame(results_1)"
   ]
  },
  {
   "cell_type": "code",
   "execution_count": null,
   "id": "36019720",
   "metadata": {},
   "outputs": [],
   "source": []
  },
  {
   "cell_type": "code",
   "execution_count": 21,
   "id": "b3dfaffe",
   "metadata": {},
   "outputs": [],
   "source": [
    "time_now=datetime.datetime.now()\n",
    "time_now=time_now.strftime(\"\\\\Backtest_results_7_df_%d-%m-%Y_%H-%M-%S\")\n",
    "path=directory\n",
    "end=\".csv\"\n",
    "path=path+time_now+end\n",
    "Backtest_results_df.to_csv(path)\n",
    "path=directory\n",
    "time_now=datetime.datetime.now()\n",
    "time_now=time_now.strftime(\"\\\\Trades_backtest_7_data_%d-%m-%Y_%H-%M-%S\")\n",
    "\n",
    "path=path+time_now+end\n",
    "Trades_backtest_data.to_csv(path)"
   ]
  },
  {
   "cell_type": "code",
   "execution_count": null,
   "id": "082732bf",
   "metadata": {},
   "outputs": [],
   "source": []
  },
  {
   "cell_type": "code",
   "execution_count": 18,
   "id": "010ff15e",
   "metadata": {},
   "outputs": [],
   "source": [
    "df2=pd.read_csv(directory+\"\\\\Backtest_results_7_df_15-08-2022_23-20-59.csv\").reset_index(drop=True).drop(\"Unnamed: 0\",axis=1)\n",
    "#df2=Backtest_results_df"
   ]
  },
  {
   "cell_type": "code",
   "execution_count": 19,
   "id": "fc017f25",
   "metadata": {},
   "outputs": [
    {
     "data": {
      "text/plain": [
       "<AxesSubplot:>"
      ]
     },
     "execution_count": 19,
     "metadata": {},
     "output_type": "execute_result"
    },
    {
     "data": {
      "image/png": "[encoded data removed]",
      "text/plain": [
       "<Figure size 432x288 with 1 Axes>"
      ]
     },
     "metadata": {
      "needs_background": "light"
     },
     "output_type": "display_data"
    }
   ],
   "source": [
    "pd.DataFrame(np.sort(df2[\"results\"])).plot()"
   ]
  },
  {
   "cell_type": "code",
   "execution_count": 11,
   "id": "7514a836",
   "metadata": {},
   "outputs": [
    {
     "data": {
      "text/plain": [
       "count    3840.000000\n",
       "mean       -3.075437\n",
       "std         4.245557\n",
       "min       -16.122605\n",
       "25%        -5.606031\n",
       "50%         0.000000\n",
       "75%         0.000000\n",
       "max         1.818836\n",
       "Name: results, dtype: float64"
      ]
     },
     "execution_count": 11,
     "metadata": {},
     "output_type": "execute_result"
    }
   ],
   "source": [
    "df2[\"results\"].describe()"
   ]
  },
  {
   "cell_type": "code",
   "execution_count": 62,
   "id": "23c21303",
   "metadata": {},
   "outputs": [],
   "source": [
    "#arr=np.where(df2[\"results\"]>0.0,df2[\"results\"],np.nan)\n",
    "#arr=df2[\"results\"]"
   ]
  },
  {
   "cell_type": "code",
   "execution_count": 127,
   "id": "8e64b3a6",
   "metadata": {},
   "outputs": [],
   "source": [
    "pd.DataFrame(np.sort(arr)).dropna().reset_index(drop=True).plot()"
   ]
  },
  {
   "cell_type": "code",
   "execution_count": 61,
   "id": "0ee29550",
   "metadata": {},
   "outputs": [],
   "source": [
    "#arr=np.where(df2[\"results\"]>10,df2[:],np.nan)#.dropna()\n",
    "#for i in range(df2[\"results\"].size):\n",
    "#    if (df2[\"results\"][i]<-1):\n",
    "#        df2=df2.drop(i)\n",
    "#df2=df2.reset_index(drop=True)\n",
    "#df2"
   ]
  },
  {
   "cell_type": "code",
   "execution_count": 20,
   "id": "c54fe247",
   "metadata": {},
   "outputs": [
    {
     "data": {
      "text/html": [
       "<div>\n",
       "<style scoped>\n",
       "    .dataframe tbody tr th:only-of-type {\n",
       "        vertical-align: middle;\n",
       "    }\n",
       "\n",
       "    .dataframe tbody tr th {\n",
       "        vertical-align: top;\n",
       "    }\n",
       "\n",
       "    .dataframe thead th {\n",
       "        text-align: right;\n",
       "    }\n",
       "</style>\n",
       "<table border=\"1\" class=\"dataframe\">\n",
       "  <thead>\n",
       "    <tr style=\"text-align: right;\">\n",
       "      <th></th>\n",
       "      <th>results</th>\n",
       "      <th>min_sell</th>\n",
       "      <th>buying_threshold</th>\n",
       "      <th>stop_loss</th>\n",
       "      <th>loss_multiplier</th>\n",
       "      <th>loss_count_max</th>\n",
       "      <th>net_repeating</th>\n",
       "    </tr>\n",
       "  </thead>\n",
       "  <tbody>\n",
       "    <tr>\n",
       "      <th>count</th>\n",
       "      <td>3840.000000</td>\n",
       "      <td>3840.000000</td>\n",
       "      <td>3840.000000</td>\n",
       "      <td>3.840000e+03</td>\n",
       "      <td>3840.00000</td>\n",
       "      <td>3840.000000</td>\n",
       "      <td>3840.00000</td>\n",
       "    </tr>\n",
       "    <tr>\n",
       "      <th>mean</th>\n",
       "      <td>-3.075437</td>\n",
       "      <td>0.003000</td>\n",
       "      <td>0.003500</td>\n",
       "      <td>1.500000e-01</td>\n",
       "      <td>2.50000</td>\n",
       "      <td>3.500000</td>\n",
       "      <td>2.50000</td>\n",
       "    </tr>\n",
       "    <tr>\n",
       "      <th>std</th>\n",
       "      <td>4.245557</td>\n",
       "      <td>0.000817</td>\n",
       "      <td>0.001118</td>\n",
       "      <td>1.082608e-14</td>\n",
       "      <td>1.11818</td>\n",
       "      <td>0.500065</td>\n",
       "      <td>1.11818</td>\n",
       "    </tr>\n",
       "    <tr>\n",
       "      <th>min</th>\n",
       "      <td>-16.122605</td>\n",
       "      <td>0.002000</td>\n",
       "      <td>0.002000</td>\n",
       "      <td>1.500000e-01</td>\n",
       "      <td>1.00000</td>\n",
       "      <td>3.000000</td>\n",
       "      <td>1.00000</td>\n",
       "    </tr>\n",
       "    <tr>\n",
       "      <th>25%</th>\n",
       "      <td>-5.606031</td>\n",
       "      <td>0.002000</td>\n",
       "      <td>0.002750</td>\n",
       "      <td>1.500000e-01</td>\n",
       "      <td>1.75000</td>\n",
       "      <td>3.000000</td>\n",
       "      <td>1.75000</td>\n",
       "    </tr>\n",
       "    <tr>\n",
       "      <th>50%</th>\n",
       "      <td>0.000000</td>\n",
       "      <td>0.003000</td>\n",
       "      <td>0.003500</td>\n",
       "      <td>1.500000e-01</td>\n",
       "      <td>2.50000</td>\n",
       "      <td>3.500000</td>\n",
       "      <td>2.50000</td>\n",
       "    </tr>\n",
       "    <tr>\n",
       "      <th>75%</th>\n",
       "      <td>0.000000</td>\n",
       "      <td>0.004000</td>\n",
       "      <td>0.004250</td>\n",
       "      <td>1.500000e-01</td>\n",
       "      <td>3.25000</td>\n",
       "      <td>4.000000</td>\n",
       "      <td>3.25000</td>\n",
       "    </tr>\n",
       "    <tr>\n",
       "      <th>max</th>\n",
       "      <td>1.818836</td>\n",
       "      <td>0.004000</td>\n",
       "      <td>0.005000</td>\n",
       "      <td>1.500000e-01</td>\n",
       "      <td>4.00000</td>\n",
       "      <td>4.000000</td>\n",
       "      <td>4.00000</td>\n",
       "    </tr>\n",
       "  </tbody>\n",
       "</table>\n",
       "</div>"
      ],
      "text/plain": [
       "           results     min_sell  buying_threshold     stop_loss  \\\n",
       "count  3840.000000  3840.000000       3840.000000  3.840000e+03   \n",
       "mean     -3.075437     0.003000          0.003500  1.500000e-01   \n",
       "std       4.245557     0.000817          0.001118  1.082608e-14   \n",
       "min     -16.122605     0.002000          0.002000  1.500000e-01   \n",
       "25%      -5.606031     0.002000          0.002750  1.500000e-01   \n",
       "50%       0.000000     0.003000          0.003500  1.500000e-01   \n",
       "75%       0.000000     0.004000          0.004250  1.500000e-01   \n",
       "max       1.818836     0.004000          0.005000  1.500000e-01   \n",
       "\n",
       "       loss_multiplier  loss_count_max  net_repeating  \n",
       "count       3840.00000     3840.000000     3840.00000  \n",
       "mean           2.50000        3.500000        2.50000  \n",
       "std            1.11818        0.500065        1.11818  \n",
       "min            1.00000        3.000000        1.00000  \n",
       "25%            1.75000        3.000000        1.75000  \n",
       "50%            2.50000        3.500000        2.50000  \n",
       "75%            3.25000        4.000000        3.25000  \n",
       "max            4.00000        4.000000        4.00000  "
      ]
     },
     "execution_count": 20,
     "metadata": {},
     "output_type": "execute_result"
    }
   ],
   "source": [
    "df2.describe()"
   ]
  },
  {
   "cell_type": "code",
   "execution_count": 21,
   "id": "d0ac7da6",
   "metadata": {},
   "outputs": [],
   "source": [
    "same_results_count=[]\n",
    "same=0\n",
    "same_count=1\n",
    "cols=df2.columns.drop(\"results\")\n",
    "res_threshold=0.01\n",
    "res_threshold_arr=[]\n",
    "res_count=0\n",
    "for i in range(1,df2[\"results\"].size):\n",
    "    same=1\n",
    "    for j in cols:\n",
    "        if (df2[j][i]!=df2[j][i-1]):\n",
    "            same=0\n",
    "            same_results_count.append(same_count)\n",
    "            res_threshold_arr.append(res_count)\n",
    "            same_count=1\n",
    "            res_count=0\n",
    "            break\n",
    "    if(same==1):\n",
    "        same_count+=1\n",
    "        if (df2[\"results\"][i]>=res_threshold):\n",
    "            res_count+=1"
   ]
  },
  {
   "cell_type": "code",
   "execution_count": 22,
   "id": "a4c12b08",
   "metadata": {},
   "outputs": [],
   "source": [
    "#res_threshold_arr"
   ]
  },
  {
   "cell_type": "code",
   "execution_count": 23,
   "id": "afe4958c",
   "metadata": {},
   "outputs": [
    {
     "data": {
      "text/plain": [
       "[166, 214, 302]"
      ]
     },
     "execution_count": 23,
     "metadata": {},
     "output_type": "execute_result"
    }
   ],
   "source": [
    "res_indexes=[]\n",
    "res_count_threshold=9\n",
    "for i in range(len(res_threshold_arr)):\n",
    "    if (res_threshold_arr[i]>=res_count_threshold):\n",
    "        res_indexes.append(i)\n",
    "res_indexes"
   ]
  },
  {
   "cell_type": "code",
   "execution_count": 26,
   "id": "925ac010",
   "metadata": {},
   "outputs": [
    {
     "data": {
      "text/plain": [
       "[1660, 2140, 3020]"
      ]
     },
     "execution_count": 26,
     "metadata": {},
     "output_type": "execute_result"
    }
   ],
   "source": [
    "res_indexes_multi=[]\n",
    "for i in range(len(res_indexes)):\n",
    "    res_indexes_multi.append(res_indexes[i]*batch_size)\n",
    "res_indexes_multi"
   ]
  },
  {
   "cell_type": "code",
   "execution_count": 25,
   "id": "36d58942",
   "metadata": {},
   "outputs": [
    {
     "data": {
      "text/plain": [
       "<AxesSubplot:>"
      ]
     },
     "execution_count": 25,
     "metadata": {},
     "output_type": "execute_result"
    },
    {
     "data": {
      "image/png": "[encoded data removed]",
      "text/plain": [
       "<Figure size 432x288 with 1 Axes>"
      ]
     },
     "metadata": {
      "needs_background": "light"
     },
     "output_type": "display_data"
    }
   ],
   "source": [
    "x=214\n",
    "batch_size=10\n",
    "#arr_2_part=arr_2[batch_size*(x-1):batch_size*x]\n",
    "arr_2_part=df2[\"results\"][batch_size*(x):batch_size*(x+1)]\n",
    "pd.DataFrame([np.sort(arr_2_part),[0 for i in range(len(arr_2_part))]]).T.dropna().reset_index(drop=True).plot()"
   ]
  },
  {
   "cell_type": "code",
   "execution_count": 97,
   "id": "eadf99ad",
   "metadata": {},
   "outputs": [],
   "source": [
    "#df2_rows=[]\n",
    "#sum_successes=-1\n",
    "#sum_threshold=15\n",
    "#for i in range(len(same_results_count)):\n",
    "#    sum_successes+=same_results_count[i]\n",
    "#    if (same_results_count[i]>=sum_threshold):\n",
    "#        df2_rows.append(sum_successes)\n",
    "#df2_rows"
   ]
  },
  {
   "cell_type": "code",
   "execution_count": 29,
   "id": "4bce9e49",
   "metadata": {},
   "outputs": [
    {
     "data": {
      "text/plain": [
       "results                                    0.0442\n",
       "min_sell                                    0.004\n",
       "buying_threshold                            0.003\n",
       "stop_loss                                    0.15\n",
       "loss_multiplier                                 3\n",
       "loss_count_max                                  3\n",
       "net_repeating                                   3\n",
       "name                \\net_25-07-2022_16-58-19_3_96\n",
       "Name: 2143, dtype: object"
      ]
     },
     "execution_count": 29,
     "metadata": {},
     "output_type": "execute_result"
    }
   ],
   "source": [
    "df2.iloc[x*batch_size+3]"
   ]
  },
  {
   "cell_type": "code",
   "execution_count": 40,
   "id": "c0684d6b",
   "metadata": {},
   "outputs": [
    {
     "name": "stdout",
     "output_type": "stream",
     "text": [
      "1660\n",
      "\\net_25-07-2022_16-58-19_3_96\n"
     ]
    },
    {
     "name": "stderr",
     "output_type": "stream",
     "text": [
      "G:\\anaconda3\\lib\\site-packages\\torch\\nn\\functional.py:1933: UserWarning: nn.functional.tanh is deprecated. Use torch.tanh instead.\n",
      "  warnings.warn(\"nn.functional.tanh is deprecated. Use torch.tanh instead.\")\n"
     ]
    },
    {
     "name": "stdout",
     "output_type": "stream",
     "text": [
      "2140\n",
      "\\net_25-07-2022_16-58-19_3_96\n",
      "3020\n",
      "\\net_25-07-2022_16-58-19_3_96\n"
     ]
    }
   ],
   "source": [
    "backtest_results=[]\n",
    "backtest_results_means=[]\n",
    "stop_loss=0.15\n",
    "sell=0.0026\n",
    "net_repeating=1\n",
    "buy=0.0045\n",
    "names_arr=names[5:]\n",
    "for i in res_indexes_multi:\n",
    "    print(i)\n",
    "    #loss_multiplier=df2[\"loss_multiplier\"][i]\n",
    "    #loss_count_max=df2[\"loss_count_max\"][i]\n",
    "    name=df2[\"name\"][i]\n",
    "    print(name)\n",
    "    word=\"\"\n",
    "    for k in range(1,len(name)):\n",
    "        if(name[-k]!=\"_\"):\n",
    "            word=name[-k]+word\n",
    "        else:\n",
    "            break\n",
    "    word=int(word)\n",
    "    path=directory+name\n",
    "    net=Net(0.6,word,3).cuda().double()\n",
    "    net.load_state_dict(torch.load(path+\".pth\"))\n",
    "    sell=df2[\"min_sell\"][i]\n",
    "    buy=df2[\"buying_threshold\"][i]\n",
    "    net_repeats=df2[\"net_repeating\"][i]\n",
    "    loss_multiplier=df2[\"loss_multiplier\"][i]\n",
    "    loss_count_max=df2[\"loss_count_max\"][i]\n",
    "    stop_loss=df2[\"stop_loss\"][i]\n",
    "    arr=[]\n",
    "    for j in range(50):\n",
    "        backtest_results.append([backtest(net,wallet_start=1000,min_sell_threshold=1+sell,buying_threshold=1+buy,purchase_size=0.01,net_repeating=net_repeats,comission=0.001,stop_loss=1-stop_loss,loss_multiplier=loss_multiplier,loss_count_max=loss_count_max),stop_loss,buy,sell,net_repeats,name])\n",
    "        if (backtest_results[-1][0]!=[]):\n",
    "            arr.append([backtest_results[-1][0][-1]])\n",
    "        else:\n",
    "            arr.append([0])\n",
    "    #backtest_results_means.append(np.mean(arr))"
   ]
  },
  {
   "cell_type": "code",
   "execution_count": 41,
   "id": "a9806d1b",
   "metadata": {},
   "outputs": [],
   "source": [
    "arr_2=[]\n",
    "for i in range(len(backtest_results)):\n",
    "    if (backtest_results[i][0]!=[]):\n",
    "        arr_2.append(backtest_results[i][0][-1])\n",
    "    else:\n",
    "        arr_2.append(0)"
   ]
  },
  {
   "cell_type": "code",
   "execution_count": null,
   "id": "797c917e",
   "metadata": {},
   "outputs": [],
   "source": []
  },
  {
   "cell_type": "code",
   "execution_count": 62,
   "id": "29423f2e",
   "metadata": {},
   "outputs": [
    {
     "data": {
      "text/plain": [
       "<AxesSubplot:>"
      ]
     },
     "execution_count": 62,
     "metadata": {},
     "output_type": "execute_result"
    },
    {
     "data": {
      "image/png": "[encoded data removed]",
      "text/plain": [
       "<Figure size 432x288 with 1 Axes>"
      ]
     },
     "metadata": {
      "needs_background": "light"
     },
     "output_type": "display_data"
    }
   ],
   "source": [
    "x=2\n",
    "batch_size=50\n",
    "arr_2_part=arr_2[batch_size*(x-1):batch_size*x]\n",
    "#arr_2_part=df2[\"results\"][batch_size*(x-1):batch_size*x]\n",
    "pd.DataFrame([np.sort(arr_2_part),[0 for i in range(len(arr_2_part))]]).T.dropna().reset_index(drop=True).plot()"
   ]
  },
  {
   "cell_type": "code",
   "execution_count": 63,
   "id": "01228d34",
   "metadata": {},
   "outputs": [
    {
     "data": {
      "text/html": [
       "<div>\n",
       "<style scoped>\n",
       "    .dataframe tbody tr th:only-of-type {\n",
       "        vertical-align: middle;\n",
       "    }\n",
       "\n",
       "    .dataframe tbody tr th {\n",
       "        vertical-align: top;\n",
       "    }\n",
       "\n",
       "    .dataframe thead th {\n",
       "        text-align: right;\n",
       "    }\n",
       "</style>\n",
       "<table border=\"1\" class=\"dataframe\">\n",
       "  <thead>\n",
       "    <tr style=\"text-align: right;\">\n",
       "      <th></th>\n",
       "      <th>0</th>\n",
       "    </tr>\n",
       "  </thead>\n",
       "  <tbody>\n",
       "    <tr>\n",
       "      <th>count</th>\n",
       "      <td>50.000000</td>\n",
       "    </tr>\n",
       "    <tr>\n",
       "      <th>mean</th>\n",
       "      <td>-0.293254</td>\n",
       "    </tr>\n",
       "    <tr>\n",
       "      <th>std</th>\n",
       "      <td>1.044336</td>\n",
       "    </tr>\n",
       "    <tr>\n",
       "      <th>min</th>\n",
       "      <td>-4.465422</td>\n",
       "    </tr>\n",
       "    <tr>\n",
       "      <th>25%</th>\n",
       "      <td>0.038666</td>\n",
       "    </tr>\n",
       "    <tr>\n",
       "      <th>50%</th>\n",
       "      <td>0.119670</td>\n",
       "    </tr>\n",
       "    <tr>\n",
       "      <th>75%</th>\n",
       "      <td>0.223371</td>\n",
       "    </tr>\n",
       "    <tr>\n",
       "      <th>max</th>\n",
       "      <td>0.530482</td>\n",
       "    </tr>\n",
       "  </tbody>\n",
       "</table>\n",
       "</div>"
      ],
      "text/plain": [
       "               0\n",
       "count  50.000000\n",
       "mean   -0.293254\n",
       "std     1.044336\n",
       "min    -4.465422\n",
       "25%     0.038666\n",
       "50%     0.119670\n",
       "75%     0.223371\n",
       "max     0.530482"
      ]
     },
     "execution_count": 63,
     "metadata": {},
     "output_type": "execute_result"
    }
   ],
   "source": [
    "pd.DataFrame(arr_2_part).describe()"
   ]
  },
  {
   "cell_type": "code",
   "execution_count": null,
   "id": "4143b8ad",
   "metadata": {},
   "outputs": [],
   "source": []
  },
  {
   "cell_type": "code",
   "execution_count": null,
   "id": "8dd5c85e",
   "metadata": {},
   "outputs": [],
   "source": []
  }
 ],
 "metadata": {
  "kernelspec": {
   "display_name": "Python 3 (ipykernel)",
   "language": "python",
   "name": "python3"
  },
  "language_info": {
   "codemirror_mode": {
    "name": "ipython",
    "version": 3
   },
   "file_extension": ".py",
   "mimetype": "text/x-python",
   "name": "python",
   "nbconvert_exporter": "python",
   "pygments_lexer": "ipython3",
   "version": "3.8.8"
  }
 },
 "nbformat": 4,
 "nbformat_minor": 5
}
