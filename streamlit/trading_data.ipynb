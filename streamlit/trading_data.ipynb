{
 "cells": [
  {
   "cell_type": "code",
   "execution_count": 1,
   "id": "6883f67f",
   "metadata": {},
   "outputs": [],
   "source": []
  },
  {
   "cell_type": "code",
   "execution_count": 2,
   "id": "0096090d",
   "metadata": {},
   "outputs": [],
   "source": [
    "from binance.spot import Spot \n",
    "from sys import stderr\n",
    "import sys, os,datetime,requests,json,pandas as pd,numpy as np\n",
    "import time,math, gc\n",
    "\n",
    "\n",
    "from sklearn.linear_model import LogisticRegression\n",
    "from sklearn.svm import SVC, LinearSVC\n",
    "from sklearn.ensemble import RandomForestRegressor\n",
    "from sklearn.neighbors import KNeighborsClassifier\n",
    "from sklearn.naive_bayes import GaussianNB\n",
    "from sklearn.linear_model import Perceptron\n",
    "from sklearn.linear_model import SGDClassifier\n",
    "from sklearn.tree import DecisionTreeClassifier\n",
    "import sklearn\n",
    "from sklearn.model_selection import train_test_split\n",
    "min_max_scaler = sklearn.preprocessing.MinMaxScaler()"
   ]
  },
  {
   "cell_type": "code",
   "execution_count": null,
   "id": "d616759c",
   "metadata": {},
   "outputs": [],
   "source": []
  },
  {
   "cell_type": "code",
   "execution_count": null,
   "id": "5d1752bf",
   "metadata": {},
   "outputs": [],
   "source": []
  },
  {
   "cell_type": "code",
   "execution_count": null,
   "id": "0b1642bb",
   "metadata": {},
   "outputs": [],
   "source": []
  },
  {
   "cell_type": "code",
   "execution_count": 6,
   "id": "ef560091",
   "metadata": {},
   "outputs": [],
   "source": [
    "def import_api(time_last,symbol=\"BTCUSDT\",limit=12*60):\n",
    "    params={\"symbol\":symbol,\"limit\":limit,\"interval\":\"5m\",\"endTime\":time_last,\"startTime\":(time_last-12*3600*1000)}\n",
    "    r=requests.get(url=\"https://api.binance.com/api/v3/klines\", params=params)\n",
    "    df=pd.DataFrame(r.json())\n",
    "    return df"
   ]
  },
  {
   "cell_type": "code",
   "execution_count": 7,
   "id": "68c5a11d",
   "metadata": {},
   "outputs": [],
   "source": [
    "def transform_df (df):\n",
    "    column_names=['Open_time','Open','High','Low','Close','Volume','Close_time','Quote_asset_volume',\n",
    "               'Number_of_trades','Taker_buy_base_asset_volume','Taker_buy_quote_asset_volume','Ignore']\n",
    "    df=df.reset_index(drop=True)\n",
    "    df.set_axis(column_names,axis=1,inplace=True)\n",
    "    for col in df.columns:\n",
    "        df[col] = df[col].astype(float)\n",
    "    weekday=[]\n",
    "    month=[]\n",
    "    for i in range(df['Open'].size):\n",
    "        dt_open=datetime.datetime.fromtimestamp(df['Open_time'][i]//1000)\n",
    "        dt_close=datetime.datetime.fromtimestamp(df['Close_time'][i]//1000)\n",
    "        df['Open_time'][i]=dt_open.hour*3600+dt_open.minute*60+dt_open.second\n",
    "        df['Close_time'][i]=dt_close.hour*3600+dt_close.minute*60+dt_close.second\n",
    "        weekday.append(dt_open.weekday())\n",
    "        month.append(dt_open.month)\n",
    "        #df['Open_time'][i]=dt_open.strftime(\"%I:%M:%S\")\n",
    "        #df['Close_time'][i]=dt_close.strftime(\"%I:%M:%S\")\n",
    "    df['weekday']=weekday\n",
    "    df['month']=month\n",
    "    df=df.drop(df.columns[[7,10,11,13]],axis=1)\n",
    "    del(month)\n",
    "    del(weekday)\n",
    "    return df\n"
   ]
  },
  {
   "cell_type": "code",
   "execution_count": 8,
   "id": "eee940aa",
   "metadata": {},
   "outputs": [],
   "source": [
    "def moving_average(data,range_):\n",
    "    data_=[]\n",
    "    mean=[]\n",
    "    for i in range(range_):\n",
    "        this_mean=0\n",
    "        for j in range(i+1):\n",
    "            this_mean+=data[j]\n",
    "        mean.append(this_mean/(j+1))\n",
    "    for i in range(range_,len(data)-1):\n",
    "        this_mean=data[i]\n",
    "        for j in range(1,range_):\n",
    "            this_mean+=data[i-j]\n",
    "        mean.append(this_mean/(range_))\n",
    "    return mean"
   ]
  },
  {
   "cell_type": "code",
   "execution_count": 9,
   "id": "1cee7d9b",
   "metadata": {},
   "outputs": [],
   "source": [
    "def generate_previous(df,count,col_name):\n",
    "    #idxes=\n",
    "    df=df.reset_index(drop=True)\n",
    "    values=list(df[col_name][0:count])\n",
    "    columns={}\n",
    "    for i in range(count):\n",
    "        this_name=\"prev_\"+col_name+\"_\"+str(i+1)\n",
    "        columns[this_name]=[]\n",
    "    for i in range(count,df[col_name].size):\n",
    "        for j in range(count):\n",
    "            this_name=\"prev_\"+col_name+\"_\"+str(j+1)\n",
    "            columns[this_name].append(values[-(j+1)])\n",
    "        values.pop(0)\n",
    "        values.append(df[col_name][i])\n",
    "    size=df[col_name].size\n",
    "    df=df[count:size]\n",
    "    for i in range(count):\n",
    "        this_name=\"prev_\"+col_name+\"_\"+str(i+1)\n",
    "        df[this_name]=columns[this_name]\n",
    "    \n",
    "    return df.reset_index(drop=True)"
   ]
  },
  {
   "cell_type": "code",
   "execution_count": 109,
   "id": "f5c43b57",
   "metadata": {},
   "outputs": [],
   "source": [
    "def df_to_X_y(df, window_size=5):\n",
    "    df_as_np = df.to_numpy()\n",
    "    X = []\n",
    "    y = []\n",
    "    for i in range(len(df_as_np)-window_size):\n",
    "        row = [a for a in (df.iloc[i:i+window_size].drop(\"target\",axis=1).values)]\n",
    "        X.append(row)\n",
    "        label = df[\"target\"][i+window_size-1]\n",
    "        y.append(label)\n",
    "    return np.array(X), np.array(y)"
   ]
  },
  {
   "cell_type": "code",
   "execution_count": 6,
   "id": "2e107786",
   "metadata": {},
   "outputs": [],
   "source": [
    "def import_api(time_last,symbol=\"BTCUSDT\",limit=12*60):\n",
    "    params={\"symbol\":symbol,\"limit\":limit,\"interval\":\"1m\",\"endTime\":time_last,\"startTime\":(time_last-12*3600*1000)}\n",
    "    r=requests.get(url=\"https://api.binance.com/api/v3/klines\", params=params)\n",
    "    df=pd.DataFrame(r.json())\n",
    "    return df"
   ]
  },
  {
   "cell_type": "code",
   "execution_count": 7,
   "id": "9918c44f",
   "metadata": {},
   "outputs": [],
   "source": [
    "def transform_df (df):\n",
    "    column_names=['Open_time','Open','High','Low','Close','Volume','Close_time','Quote_asset_volume',\n",
    "               'Number_of_trades','Taker_buy_base_asset_volume','Taker_buy_quote_asset_volume','Ignore']\n",
    "    df=df.reset_index(drop=True)\n",
    "    df.set_axis(column_names,axis=1,inplace=True)\n",
    "    for col in df.columns:\n",
    "        df[col] = df[col].astype(float)\n",
    "    weekday=[]\n",
    "    month=[]\n",
    "    for i in range(df['Open'].size):\n",
    "        dt_open=datetime.datetime.fromtimestamp(df['Open_time'][i]//1000)\n",
    "        dt_close=datetime.datetime.fromtimestamp(df['Close_time'][i]//1000)\n",
    "        df['Open_time'][i]=dt_open.hour*3600+dt_open.minute*60+dt_open.second\n",
    "        df['Close_time'][i]=dt_close.hour*3600+dt_close.minute*60+dt_close.second\n",
    "        weekday.append(dt_open.weekday())\n",
    "        month.append(dt_open.month)\n",
    "        #df['Open_time'][i]=dt_open.strftime(\"%I:%M:%S\")\n",
    "        #df['Close_time'][i]=dt_close.strftime(\"%I:%M:%S\")\n",
    "    df['weekday']=weekday\n",
    "    df['month']=month\n",
    "    df=df.drop(df.columns[[7,10,11,13]],axis=1)\n",
    "    del(month)\n",
    "    del(weekday)\n",
    "    return df\n"
   ]
  },
  {
   "cell_type": "code",
   "execution_count": 8,
   "id": "f5a29572",
   "metadata": {},
   "outputs": [],
   "source": [
    "def moving_average(data,range_):\n",
    "    data_=[]\n",
    "    mean=[]\n",
    "    for i in range(range_):\n",
    "        this_mean=0\n",
    "        for j in range(i+1):\n",
    "            this_mean+=data[j]\n",
    "        mean.append(this_mean/(j+1))\n",
    "    for i in range(range_,len(data)-1):\n",
    "        this_mean=data[i]\n",
    "        for j in range(1,range_):\n",
    "            this_mean+=data[i-j]\n",
    "        mean.append(this_mean/(range_))\n",
    "    return mean"
   ]
  },
  {
   "cell_type": "code",
   "execution_count": 9,
   "id": "74a189f7",
   "metadata": {},
   "outputs": [],
   "source": [
    "def generate_previous(df,count,col_name):\n",
    "    #idxes=\n",
    "    df=df.reset_index(drop=True)\n",
    "    values=list(df[col_name][0:count])\n",
    "    columns={}\n",
    "    for i in range(count):\n",
    "        this_name=\"prev_\"+col_name+\"_\"+str(i+1)\n",
    "        columns[this_name]=[]\n",
    "    for i in range(count,df[col_name].size):\n",
    "        for j in range(count):\n",
    "            this_name=\"prev_\"+col_name+\"_\"+str(j+1)\n",
    "            columns[this_name].append(values[-(j+1)])\n",
    "        values.pop(0)\n",
    "        values.append(df[col_name][i])\n",
    "    size=df[col_name].size\n",
    "    df=df[count:size]\n",
    "    for i in range(count):\n",
    "        this_name=\"prev_\"+col_name+\"_\"+str(i+1)\n",
    "        df[this_name]=columns[this_name]\n",
    "    \n",
    "    return df.reset_index(drop=True)"
   ]
  },
  {
   "cell_type": "code",
   "execution_count": null,
   "id": "0ba3d413-6a9d-498d-8d95-6d039c8fbdbd",
   "metadata": {},
   "outputs": [],
   "source": [
    "def download_klines(currency='ETHUSDT',directory=r\"G:\\Учеба\\биржа\",days_downloading=365,target_count=4,start_ts=0):\n",
    "\n",
    "    count=2*days_downloading\n",
    "    if (start_ts==0):\n",
    "        time_now=datetime.datetime.now()\n",
    "    else:\n",
    "        time_now=start_ts\n",
    "    time_now=round(time_now.timestamp())*1000\n",
    "    df=pd.DataFrame()\n",
    "    for i in range(2*days_downloading): #2*365\n",
    "        df=import_api(time_now-12*3600*1000*i,currency).append(df)\n",
    "    df=transform_df(df)\n",
    "    target=[]\n",
    "    for i in range(df[\"Open\"].size-target_count-1):\n",
    "        target.append(df[\"Open\"][i+target_count])\n",
    "    df=df[0:df[\"Open\"].size-target_count-1]\n",
    "    df[\"target\"]=target\n",
    "    #df.to_csv(os.path.join(directory,f'{currency}.csv'),index=False)\n",
    "    return df"
   ]
  },
  {
   "cell_type": "code",
   "execution_count": null,
   "id": "7779baa8",
   "metadata": {
    "scrolled": true
   },
   "outputs": [],
   "source": []
  },
  {
   "cell_type": "code",
   "execution_count": 32,
   "id": "093a9dd0",
   "metadata": {},
   "outputs": [],
   "source": []
  },
  {
   "cell_type": "code",
   "execution_count": 33,
   "id": "80fa7276",
   "metadata": {},
   "outputs": [],
   "source": []
  },
  {
   "cell_type": "code",
   "execution_count": 62,
   "id": "8ae0186e",
   "metadata": {},
   "outputs": [],
   "source": []
  },
  {
   "cell_type": "code",
   "execution_count": 2,
   "id": "df46a7ed",
   "metadata": {},
   "outputs": [],
   "source": []
  },
  {
   "cell_type": "code",
   "execution_count": 61,
   "id": "b41937d4",
   "metadata": {},
   "outputs": [],
   "source": []
  },
  {
   "cell_type": "code",
   "execution_count": 110,
   "id": "bca181e6",
   "metadata": {},
   "outputs": [],
   "source": []
  },
  {
   "cell_type": "code",
   "execution_count": null,
   "id": "b4f3dcc5",
   "metadata": {},
   "outputs": [],
   "source": []
  },
  {
   "cell_type": "code",
   "execution_count": null,
   "id": "be3481c2",
   "metadata": {},
   "outputs": [],
   "source": []
  },
  {
   "cell_type": "code",
   "execution_count": null,
   "id": "733016f4-1063-4396-ab68-35cb1a1dadfb",
   "metadata": {},
   "outputs": [],
   "source": []
  }
 ],
 "metadata": {
  "kernelspec": {
   "display_name": "Python 3 (ipykernel)",
   "language": "python",
   "name": "python3"
  },
  "language_info": {
   "codemirror_mode": {
    "name": "ipython",
    "version": 3
   },
   "file_extension": ".py",
   "mimetype": "text/x-python",
   "name": "python",
   "nbconvert_exporter": "python",
   "pygments_lexer": "ipython3",
   "version": "3.9.15"
  }
 },
 "nbformat": 4,
 "nbformat_minor": 5
}
