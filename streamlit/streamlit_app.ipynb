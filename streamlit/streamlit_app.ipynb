{
 "cells": [
  {
   "cell_type": "code",
   "execution_count": 2,
   "id": "70a52ed9",
   "metadata": {},
   "outputs": [
    {
     "name": "stderr",
     "output_type": "stream",
     "text": [
      "2023-05-09 13:19:46.845 INFO    visions.backends: Pandas backend loaded 1.5.2\n",
      "2023-05-09 13:19:46.855 INFO    visions.backends: Numpy backend loaded 1.23.5\n",
      "2023-05-09 13:19:46.857 INFO    visions.backends: Pyspark backend NOT loaded\n",
      "2023-05-09 13:19:46.858 INFO    visions.backends: Python backend loaded\n"
     ]
    }
   ],
   "source": [
    "from operator import index\n",
    "import streamlit as st\n",
    "import plotly.express as px\n",
    "from pycaret.regression import setup, compare_models, pull, save_model, load_model\n",
    "import pandas_profiling\n",
    "import pandas as pd\n",
    "from streamlit_pandas_profiling import st_profile_report\n",
    "import os,re\n",
    "import trading_data,trading_lstm\n",
    "\n",
    "\n",
    "from binance.spot import Spot \n",
    "from sys import stderr\n",
    "import sys, os,datetime,requests,json,pandas as pd,numpy as np\n",
    "import time,math, gc\n",
    "\n",
    "from sklearn.linear_model import LogisticRegression\n",
    "from sklearn.svm import SVC, LinearSVC\n",
    "from sklearn.ensemble import RandomForestRegressor\n",
    "from sklearn.neighbors import KNeighborsClassifier\n",
    "from sklearn.naive_bayes import GaussianNB\n",
    "from sklearn.linear_model import Perceptron\n",
    "from sklearn.linear_model import SGDClassifier\n",
    "from sklearn.tree import DecisionTreeClassifier\n",
    "import sklearn\n",
    "from sklearn.model_selection import train_test_split\n",
    "min_max_scaler = sklearn.preprocessing.MinMaxScaler()\n",
    "\n",
    "import torch\n",
    "import torch.nn as nn\n",
    "import torch.nn.functional as F\n",
    "import torchvision\n",
    "\n"
   ]
  },
  {
   "cell_type": "code",
   "execution_count": 5,
   "id": "350abc11-008f-4834-b24b-6aa20df55524",
   "metadata": {},
   "outputs": [
    {
     "data": {
      "text/plain": [
       "'txt'"
      ]
     },
     "execution_count": 5,
     "metadata": {},
     "output_type": "execute_result"
    }
   ],
   "source": [
    "os.path.splitext(r\"aaaa/aaaa/exc.txt\")[1][1:]"
   ]
  },
  {
   "cell_type": "code",
   "execution_count": 2,
   "id": "a94a66f9",
   "metadata": {},
   "outputs": [
    {
     "name": "stderr",
     "output_type": "stream",
     "text": [
      "2023-01-10 14:37:11.234 \n",
      "  \u001b[33m\u001b[1mWarning:\u001b[0m to view this Streamlit app on a browser, run it with the following\n",
      "  command:\n",
      "\n",
      "    streamlit run G:\\anaconda3\\envs\\trading_streamlit\\lib\\site-packages\\ipykernel_launcher.py [ARGUMENTS]\n"
     ]
    }
   ],
   "source": [
    "directory=\"streamlit_data\"\n",
    "selected_folder=directory\n",
    "currency_name=\"ETHUSDT\"\n",
    "\n",
    "with st.sidebar: \n",
    "    st.image(\"https://www.onepointltd.com/wp-content/uploads/2020/03/inno2.png\")\n",
    "    #st.title(\"AutoNickML\")\n",
    "    choice = st.radio(\"Navigation\", [\"Choose currency\",\"Bot training\",\"Data description\",\"Bot using\"])\n",
    "    #st.info(\"This project application helps you build and explore your data.\")\n",
    "    \n",
    "if choice==\"Choose currency\":\n",
    "    st.title(\"Choosing and downloading currency data\")\n",
    "    currency_name=st.text_input(label=\"Input chosen currency pair here. Example: ETH/USDT\")\n",
    "    \n",
    "    if (currency_name):\n",
    "        currency_name=re.sub('[^0-9a-zA-Z]+', '', currency_name)\n",
    "        days_downloading=st.text_input(label=\"Set how many days you want the bot to train on\")\n",
    "        if (days_downloading):\n",
    "            try:\n",
    "                days_downloading=int(days_downloading)\n",
    "                selected_folder = st.text_input(label=\"Input chosen folder path or leave empty to set default path\")\n",
    "                if (selected_folder==\"\"):\n",
    "                    selected_folder=directory\n",
    "                downloaded_data=trading_data.download_klines(currency_name,selected_folder,days_downloading,target_count=4)\n",
    "                st.text(\"Your data has been downloaded successfully!\")\n",
    "                st.dataframe(downloaded_data.head(5))\n",
    "                displayed_chart=downloaded_data[\"Open\"][-3000:].plot().get_figure()\n",
    "                displayed_chart.savefig(os.path.join(directory,f\"{currency_name}_chart.jpg\"))\n",
    "                st.image(os.path.join(directory,f\"{currency_name}_chart.jpg\"))\n",
    "            except:\n",
    "                print(\"error\")\n",
    "                raise\n",
    "\n",
    "if choice==\"Bot training\":\n",
    "    scaling=1\n",
    "    st.title(\"Uploading the data to train the bot on\")\n",
    "    file=st.file_uploader(label=\"Upload the data\")\n",
    "    if (file):\n",
    "        X_train, X_test, y_train, y_test, X_train_opens, X_test_opens=trading_lstm.prepare_data_for_train(file)\n",
    "        net,net_min_err_train,net_min_err_test,net_max_std,err_df,stds_single=trading_lstm.train_bot( X_train, X_test, y_train, y_test,X_train_opens, X_test_opens,epochs=100)\n",
    "        model_scripted = torch.jit.script(net_min_err_test) # Export to TorchScript\n",
    "        model_scripted.save('model_scripted.pt') # Save\n",
    "        displayed_chart_train=err_df.plot().get_figure()\n",
    "        displayed_chart_train.savefig(os.path.join(directory,\"bot_losses_chart.jpg\"))\n",
    "        st.image(os.path.join(directory,\"bot_losses_chart.jpg\"))\n",
    "        \n",
    "        \n",
    "if choice==\"Bot using\":\n",
    "    model=st.file_uploader(label=\"Upload the data\")\n",
    "    if (model):\n",
    "        trading_bot.run_bot(symbol=\"ETHUSDT\",directory=\"bot_data\", net_file=model)\n",
    "\n",
    "if choice==\"Data description\":\n",
    "    file=st.file_uploader(label=\"Upload the data\")\n",
    "    if (file):\n",
    "        df=pd.read_csv(file).reset_index(drop=True)\n",
    "        st_profile_report(df.profile_report())"
   ]
  },
  {
   "cell_type": "code",
   "execution_count": null,
   "id": "3da26a40-8164-48ea-abc1-738ff6b1dd5a",
   "metadata": {},
   "outputs": [],
   "source": []
  }
 ],
 "metadata": {
  "kernelspec": {
   "display_name": "Python 3 (ipykernel)",
   "language": "python",
   "name": "python3"
  },
  "language_info": {
   "codemirror_mode": {
    "name": "ipython",
    "version": 3
   },
   "file_extension": ".py",
   "mimetype": "text/x-python",
   "name": "python",
   "nbconvert_exporter": "python",
   "pygments_lexer": "ipython3",
   "version": "3.9.15"
  }
 },
 "nbformat": 4,
 "nbformat_minor": 5
}
